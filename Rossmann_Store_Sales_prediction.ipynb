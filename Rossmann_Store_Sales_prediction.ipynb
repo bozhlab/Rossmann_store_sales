{
 "cells": [
  {
   "cell_type": "code",
   "execution_count": 1,
   "metadata": {},
   "outputs": [],
   "source": [
    "import pandas as pd\n",
    "import numpy as np\n",
    "from sklearn.model_selection import train_test_split\n",
    "import matplotlib.pyplot as plt\n",
    "\n",
    "pd.set_option('display.float_format', lambda x: '%.6f' % x)"
   ]
  },
  {
   "cell_type": "code",
   "execution_count": 2,
   "metadata": {
    "scrolled": true
   },
   "outputs": [],
   "source": [
    "data_types = {\n",
    "         'Store': np.dtype(int),\n",
    "         'DayOfWeek': np.dtype(int),\n",
    "         #'Date': np.dtype(str),\n",
    "         'Sales': np.dtype(int),\n",
    "         'Customers': np.dtype(int),\n",
    "         #'Open': np.dtype('float64'),\n",
    "         'Promo': np.dtype(int),\n",
    "         'StateHoliday': np.dtype(str),\n",
    "         'SchoolHoliday': np.dtype(int)\n",
    "         }\n",
    "\n",
    "store_data_types = {\n",
    "         'Store': np.dtype(int),\n",
    "         'StoreType': np.dtype(str),\n",
    "         'Assortment': np.dtype(str),\n",
    "         #'CompetitionDistance': np.dtype('float64'),\n",
    "         'CompetitionOpenSinceMonth': np.dtype('str'),\n",
    "         'CompetitionOpenSinceYear': np.dtype('str'),\n",
    "         'Promo2': np.dtype(int),\n",
    "         'Promo2SinceWeek': np.dtype('str'),\n",
    "         'Promo2SinceYear': np.dtype('str'),\n",
    "         'PromoInterval': np.dtype(str)\n",
    "        }\n",
    "\n",
    "pre_train = pd.read_csv(\"input/train.csv\", parse_dates=[2], dtype=data_types)\n",
    "pre_test = pd.read_csv(\"input/test.csv\", parse_dates=[3], dtype=data_types)\n",
    "store = pd.read_csv(\"input/store.csv\", dtype=store_data_types)"
   ]
  },
  {
   "cell_type": "code",
   "execution_count": 6,
   "metadata": {},
   "outputs": [
    {
     "name": "stdout",
     "output_type": "stream",
     "text": [
      "- Train data\n",
      "Store                     int32\n",
      "DayOfWeek                 int32\n",
      "Date             datetime64[ns]\n",
      "Sales                     int32\n",
      "Customers                 int32\n",
      "Open                      int64\n",
      "Promo                     int32\n",
      "StateHoliday             object\n",
      "SchoolHoliday             int32\n",
      "dtype: object\n"
     ]
    }
   ],
   "source": [
    "print('- Train data')\n",
    "print(pre_train.dtypes)"
   ]
  },
  {
   "cell_type": "code",
   "execution_count": 7,
   "metadata": {},
   "outputs": [
    {
     "name": "stdout",
     "output_type": "stream",
     "text": [
      "- Train data\n",
      "Store                     int32\n",
      "DayOfWeek                 int32\n",
      "Date             datetime64[ns]\n",
      "Sales                     int32\n",
      "Customers                 int32\n",
      "Open                      int64\n",
      "Promo                     int32\n",
      "StateHoliday             object\n",
      "SchoolHoliday             int32\n",
      "dtype: object\n"
     ]
    }
   ],
   "source": [
    "print('- Train data')\n",
    "print(pre_train.dtypes)"
   ]
  },
  {
   "cell_type": "code",
   "execution_count": 176,
   "metadata": {},
   "outputs": [
    {
     "name": "stdout",
     "output_type": "stream",
     "text": [
      "- Store data\n",
      "Store                          int32\n",
      "StoreType                     object\n",
      "Assortment                    object\n",
      "CompetitionDistance          float64\n",
      "CompetitionOpenSinceMonth    float64\n",
      "CompetitionOpenSinceYear     float64\n",
      "Promo2                         int32\n",
      "Promo2SinceWeek              float64\n",
      "Promo2SinceYear              float64\n",
      "PromoInterval                 object\n",
      "dtype: object\n"
     ]
    }
   ],
   "source": [
    "print('- Store data')\n",
    "print(store.dtypes)"
   ]
  },
  {
   "cell_type": "markdown",
   "metadata": {},
   "source": [
    "# Data pre-processing"
   ]
  },
  {
   "cell_type": "code",
   "execution_count": null,
   "metadata": {},
   "outputs": [],
   "source": []
  },
  {
   "cell_type": "code",
   "execution_count": 9,
   "metadata": {},
   "outputs": [
    {
     "data": {
      "text/html": [
       "<div>\n",
       "<style scoped>\n",
       "    .dataframe tbody tr th:only-of-type {\n",
       "        vertical-align: middle;\n",
       "    }\n",
       "\n",
       "    .dataframe tbody tr th {\n",
       "        vertical-align: top;\n",
       "    }\n",
       "\n",
       "    .dataframe thead th {\n",
       "        text-align: right;\n",
       "    }\n",
       "</style>\n",
       "<table border=\"1\" class=\"dataframe\">\n",
       "  <thead>\n",
       "    <tr style=\"text-align: right;\">\n",
       "      <th></th>\n",
       "      <th>Store</th>\n",
       "      <th>DayOfWeek</th>\n",
       "      <th>Sales</th>\n",
       "      <th>Customers</th>\n",
       "      <th>Open</th>\n",
       "      <th>Promo</th>\n",
       "      <th>SchoolHoliday</th>\n",
       "    </tr>\n",
       "  </thead>\n",
       "  <tbody>\n",
       "    <tr>\n",
       "      <th>count</th>\n",
       "      <td>1017209.000000</td>\n",
       "      <td>1017209.000000</td>\n",
       "      <td>1017209.000000</td>\n",
       "      <td>1017209.000000</td>\n",
       "      <td>1017209.000000</td>\n",
       "      <td>1017209.000000</td>\n",
       "      <td>1017209.000000</td>\n",
       "    </tr>\n",
       "    <tr>\n",
       "      <th>mean</th>\n",
       "      <td>558.429727</td>\n",
       "      <td>3.998341</td>\n",
       "      <td>5773.818972</td>\n",
       "      <td>633.145946</td>\n",
       "      <td>0.830107</td>\n",
       "      <td>0.381515</td>\n",
       "      <td>0.178647</td>\n",
       "    </tr>\n",
       "    <tr>\n",
       "      <th>std</th>\n",
       "      <td>321.908651</td>\n",
       "      <td>1.997391</td>\n",
       "      <td>3849.926175</td>\n",
       "      <td>464.411734</td>\n",
       "      <td>0.375539</td>\n",
       "      <td>0.485759</td>\n",
       "      <td>0.383056</td>\n",
       "    </tr>\n",
       "    <tr>\n",
       "      <th>min</th>\n",
       "      <td>1.000000</td>\n",
       "      <td>1.000000</td>\n",
       "      <td>0.000000</td>\n",
       "      <td>0.000000</td>\n",
       "      <td>0.000000</td>\n",
       "      <td>0.000000</td>\n",
       "      <td>0.000000</td>\n",
       "    </tr>\n",
       "    <tr>\n",
       "      <th>25%</th>\n",
       "      <td>280.000000</td>\n",
       "      <td>2.000000</td>\n",
       "      <td>3727.000000</td>\n",
       "      <td>405.000000</td>\n",
       "      <td>1.000000</td>\n",
       "      <td>0.000000</td>\n",
       "      <td>0.000000</td>\n",
       "    </tr>\n",
       "    <tr>\n",
       "      <th>50%</th>\n",
       "      <td>558.000000</td>\n",
       "      <td>4.000000</td>\n",
       "      <td>5744.000000</td>\n",
       "      <td>609.000000</td>\n",
       "      <td>1.000000</td>\n",
       "      <td>0.000000</td>\n",
       "      <td>0.000000</td>\n",
       "    </tr>\n",
       "    <tr>\n",
       "      <th>75%</th>\n",
       "      <td>838.000000</td>\n",
       "      <td>6.000000</td>\n",
       "      <td>7856.000000</td>\n",
       "      <td>837.000000</td>\n",
       "      <td>1.000000</td>\n",
       "      <td>1.000000</td>\n",
       "      <td>0.000000</td>\n",
       "    </tr>\n",
       "    <tr>\n",
       "      <th>max</th>\n",
       "      <td>1115.000000</td>\n",
       "      <td>7.000000</td>\n",
       "      <td>41551.000000</td>\n",
       "      <td>7388.000000</td>\n",
       "      <td>1.000000</td>\n",
       "      <td>1.000000</td>\n",
       "      <td>1.000000</td>\n",
       "    </tr>\n",
       "  </tbody>\n",
       "</table>\n",
       "</div>"
      ],
      "text/plain": [
       "               Store      DayOfWeek          Sales      Customers  \\\n",
       "count 1017209.000000 1017209.000000 1017209.000000 1017209.000000   \n",
       "mean      558.429727       3.998341    5773.818972     633.145946   \n",
       "std       321.908651       1.997391    3849.926175     464.411734   \n",
       "min         1.000000       1.000000       0.000000       0.000000   \n",
       "25%       280.000000       2.000000    3727.000000     405.000000   \n",
       "50%       558.000000       4.000000    5744.000000     609.000000   \n",
       "75%       838.000000       6.000000    7856.000000     837.000000   \n",
       "max      1115.000000       7.000000   41551.000000    7388.000000   \n",
       "\n",
       "                Open          Promo  SchoolHoliday  \n",
       "count 1017209.000000 1017209.000000 1017209.000000  \n",
       "mean        0.830107       0.381515       0.178647  \n",
       "std         0.375539       0.485759       0.383056  \n",
       "min         0.000000       0.000000       0.000000  \n",
       "25%         1.000000       0.000000       0.000000  \n",
       "50%         1.000000       0.000000       0.000000  \n",
       "75%         1.000000       1.000000       0.000000  \n",
       "max         1.000000       1.000000       1.000000  "
      ]
     },
     "execution_count": 9,
     "metadata": {},
     "output_type": "execute_result"
    }
   ],
   "source": [
    "pre_train.describe()"
   ]
  },
  {
   "cell_type": "code",
   "execution_count": 10,
   "metadata": {
    "scrolled": true
   },
   "outputs": [
    {
     "data": {
      "text/html": [
       "<div>\n",
       "<style scoped>\n",
       "    .dataframe tbody tr th:only-of-type {\n",
       "        vertical-align: middle;\n",
       "    }\n",
       "\n",
       "    .dataframe tbody tr th {\n",
       "        vertical-align: top;\n",
       "    }\n",
       "\n",
       "    .dataframe thead th {\n",
       "        text-align: right;\n",
       "    }\n",
       "</style>\n",
       "<table border=\"1\" class=\"dataframe\">\n",
       "  <thead>\n",
       "    <tr style=\"text-align: right;\">\n",
       "      <th></th>\n",
       "      <th>Id</th>\n",
       "      <th>Store</th>\n",
       "      <th>DayOfWeek</th>\n",
       "      <th>Open</th>\n",
       "      <th>Promo</th>\n",
       "      <th>SchoolHoliday</th>\n",
       "    </tr>\n",
       "  </thead>\n",
       "  <tbody>\n",
       "    <tr>\n",
       "      <th>count</th>\n",
       "      <td>41088.000000</td>\n",
       "      <td>41088.000000</td>\n",
       "      <td>41088.000000</td>\n",
       "      <td>41077.000000</td>\n",
       "      <td>41088.000000</td>\n",
       "      <td>41088.000000</td>\n",
       "    </tr>\n",
       "    <tr>\n",
       "      <th>mean</th>\n",
       "      <td>20544.500000</td>\n",
       "      <td>555.899533</td>\n",
       "      <td>3.979167</td>\n",
       "      <td>0.854322</td>\n",
       "      <td>0.395833</td>\n",
       "      <td>0.443487</td>\n",
       "    </tr>\n",
       "    <tr>\n",
       "      <th>std</th>\n",
       "      <td>11861.228267</td>\n",
       "      <td>320.274496</td>\n",
       "      <td>2.015481</td>\n",
       "      <td>0.352787</td>\n",
       "      <td>0.489035</td>\n",
       "      <td>0.496802</td>\n",
       "    </tr>\n",
       "    <tr>\n",
       "      <th>min</th>\n",
       "      <td>1.000000</td>\n",
       "      <td>1.000000</td>\n",
       "      <td>1.000000</td>\n",
       "      <td>0.000000</td>\n",
       "      <td>0.000000</td>\n",
       "      <td>0.000000</td>\n",
       "    </tr>\n",
       "    <tr>\n",
       "      <th>25%</th>\n",
       "      <td>10272.750000</td>\n",
       "      <td>279.750000</td>\n",
       "      <td>2.000000</td>\n",
       "      <td>1.000000</td>\n",
       "      <td>0.000000</td>\n",
       "      <td>0.000000</td>\n",
       "    </tr>\n",
       "    <tr>\n",
       "      <th>50%</th>\n",
       "      <td>20544.500000</td>\n",
       "      <td>553.500000</td>\n",
       "      <td>4.000000</td>\n",
       "      <td>1.000000</td>\n",
       "      <td>0.000000</td>\n",
       "      <td>0.000000</td>\n",
       "    </tr>\n",
       "    <tr>\n",
       "      <th>75%</th>\n",
       "      <td>30816.250000</td>\n",
       "      <td>832.250000</td>\n",
       "      <td>6.000000</td>\n",
       "      <td>1.000000</td>\n",
       "      <td>1.000000</td>\n",
       "      <td>1.000000</td>\n",
       "    </tr>\n",
       "    <tr>\n",
       "      <th>max</th>\n",
       "      <td>41088.000000</td>\n",
       "      <td>1115.000000</td>\n",
       "      <td>7.000000</td>\n",
       "      <td>1.000000</td>\n",
       "      <td>1.000000</td>\n",
       "      <td>1.000000</td>\n",
       "    </tr>\n",
       "  </tbody>\n",
       "</table>\n",
       "</div>"
      ],
      "text/plain": [
       "                Id        Store    DayOfWeek         Open        Promo  \\\n",
       "count 41088.000000 41088.000000 41088.000000 41077.000000 41088.000000   \n",
       "mean  20544.500000   555.899533     3.979167     0.854322     0.395833   \n",
       "std   11861.228267   320.274496     2.015481     0.352787     0.489035   \n",
       "min       1.000000     1.000000     1.000000     0.000000     0.000000   \n",
       "25%   10272.750000   279.750000     2.000000     1.000000     0.000000   \n",
       "50%   20544.500000   553.500000     4.000000     1.000000     0.000000   \n",
       "75%   30816.250000   832.250000     6.000000     1.000000     1.000000   \n",
       "max   41088.000000  1115.000000     7.000000     1.000000     1.000000   \n",
       "\n",
       "       SchoolHoliday  \n",
       "count   41088.000000  \n",
       "mean        0.443487  \n",
       "std         0.496802  \n",
       "min         0.000000  \n",
       "25%         0.000000  \n",
       "50%         0.000000  \n",
       "75%         1.000000  \n",
       "max         1.000000  "
      ]
     },
     "execution_count": 10,
     "metadata": {},
     "output_type": "execute_result"
    }
   ],
   "source": [
    "pre_test.describe()"
   ]
  },
  {
   "cell_type": "code",
   "execution_count": 11,
   "metadata": {},
   "outputs": [
    {
     "data": {
      "text/html": [
       "<div>\n",
       "<style scoped>\n",
       "    .dataframe tbody tr th:only-of-type {\n",
       "        vertical-align: middle;\n",
       "    }\n",
       "\n",
       "    .dataframe tbody tr th {\n",
       "        vertical-align: top;\n",
       "    }\n",
       "\n",
       "    .dataframe thead th {\n",
       "        text-align: right;\n",
       "    }\n",
       "</style>\n",
       "<table border=\"1\" class=\"dataframe\">\n",
       "  <thead>\n",
       "    <tr style=\"text-align: right;\">\n",
       "      <th></th>\n",
       "      <th>Store</th>\n",
       "      <th>CompetitionDistance</th>\n",
       "      <th>CompetitionOpenSinceMonth</th>\n",
       "      <th>CompetitionOpenSinceYear</th>\n",
       "      <th>Promo2</th>\n",
       "      <th>Promo2SinceWeek</th>\n",
       "      <th>Promo2SinceYear</th>\n",
       "    </tr>\n",
       "  </thead>\n",
       "  <tbody>\n",
       "    <tr>\n",
       "      <th>count</th>\n",
       "      <td>1115.000000</td>\n",
       "      <td>1112.000000</td>\n",
       "      <td>761.000000</td>\n",
       "      <td>761.000000</td>\n",
       "      <td>1115.000000</td>\n",
       "      <td>571.000000</td>\n",
       "      <td>571.000000</td>\n",
       "    </tr>\n",
       "    <tr>\n",
       "      <th>mean</th>\n",
       "      <td>558.000000</td>\n",
       "      <td>5404.901079</td>\n",
       "      <td>7.224704</td>\n",
       "      <td>2008.668857</td>\n",
       "      <td>0.512108</td>\n",
       "      <td>23.595447</td>\n",
       "      <td>2011.763573</td>\n",
       "    </tr>\n",
       "    <tr>\n",
       "      <th>std</th>\n",
       "      <td>322.017080</td>\n",
       "      <td>7663.174720</td>\n",
       "      <td>3.212348</td>\n",
       "      <td>6.195983</td>\n",
       "      <td>0.500078</td>\n",
       "      <td>14.141984</td>\n",
       "      <td>1.674935</td>\n",
       "    </tr>\n",
       "    <tr>\n",
       "      <th>min</th>\n",
       "      <td>1.000000</td>\n",
       "      <td>20.000000</td>\n",
       "      <td>1.000000</td>\n",
       "      <td>1900.000000</td>\n",
       "      <td>0.000000</td>\n",
       "      <td>1.000000</td>\n",
       "      <td>2009.000000</td>\n",
       "    </tr>\n",
       "    <tr>\n",
       "      <th>25%</th>\n",
       "      <td>279.500000</td>\n",
       "      <td>717.500000</td>\n",
       "      <td>4.000000</td>\n",
       "      <td>2006.000000</td>\n",
       "      <td>0.000000</td>\n",
       "      <td>13.000000</td>\n",
       "      <td>2011.000000</td>\n",
       "    </tr>\n",
       "    <tr>\n",
       "      <th>50%</th>\n",
       "      <td>558.000000</td>\n",
       "      <td>2325.000000</td>\n",
       "      <td>8.000000</td>\n",
       "      <td>2010.000000</td>\n",
       "      <td>1.000000</td>\n",
       "      <td>22.000000</td>\n",
       "      <td>2012.000000</td>\n",
       "    </tr>\n",
       "    <tr>\n",
       "      <th>75%</th>\n",
       "      <td>836.500000</td>\n",
       "      <td>6882.500000</td>\n",
       "      <td>10.000000</td>\n",
       "      <td>2013.000000</td>\n",
       "      <td>1.000000</td>\n",
       "      <td>37.000000</td>\n",
       "      <td>2013.000000</td>\n",
       "    </tr>\n",
       "    <tr>\n",
       "      <th>max</th>\n",
       "      <td>1115.000000</td>\n",
       "      <td>75860.000000</td>\n",
       "      <td>12.000000</td>\n",
       "      <td>2015.000000</td>\n",
       "      <td>1.000000</td>\n",
       "      <td>50.000000</td>\n",
       "      <td>2015.000000</td>\n",
       "    </tr>\n",
       "  </tbody>\n",
       "</table>\n",
       "</div>"
      ],
      "text/plain": [
       "            Store  CompetitionDistance  CompetitionOpenSinceMonth  \\\n",
       "count 1115.000000          1112.000000                 761.000000   \n",
       "mean   558.000000          5404.901079                   7.224704   \n",
       "std    322.017080          7663.174720                   3.212348   \n",
       "min      1.000000            20.000000                   1.000000   \n",
       "25%    279.500000           717.500000                   4.000000   \n",
       "50%    558.000000          2325.000000                   8.000000   \n",
       "75%    836.500000          6882.500000                  10.000000   \n",
       "max   1115.000000         75860.000000                  12.000000   \n",
       "\n",
       "       CompetitionOpenSinceYear      Promo2  Promo2SinceWeek  Promo2SinceYear  \n",
       "count                761.000000 1115.000000       571.000000       571.000000  \n",
       "mean                2008.668857    0.512108        23.595447      2011.763573  \n",
       "std                    6.195983    0.500078        14.141984         1.674935  \n",
       "min                 1900.000000    0.000000         1.000000      2009.000000  \n",
       "25%                 2006.000000    0.000000        13.000000      2011.000000  \n",
       "50%                 2010.000000    1.000000        22.000000      2012.000000  \n",
       "75%                 2013.000000    1.000000        37.000000      2013.000000  \n",
       "max                 2015.000000    1.000000        50.000000      2015.000000  "
      ]
     },
     "execution_count": 11,
     "metadata": {},
     "output_type": "execute_result"
    }
   ],
   "source": [
    "store.describe()"
   ]
  },
  {
   "cell_type": "code",
   "execution_count": 12,
   "metadata": {},
   "outputs": [
    {
     "data": {
      "text/plain": [
       "Store             1115\n",
       "DayOfWeek            7\n",
       "Date               942\n",
       "Sales            21734\n",
       "Customers         4086\n",
       "Open                 2\n",
       "Promo                2\n",
       "StateHoliday         4\n",
       "SchoolHoliday        2\n",
       "dtype: int64"
      ]
     },
     "execution_count": 12,
     "metadata": {},
     "output_type": "execute_result"
    }
   ],
   "source": [
    "pre_train.nunique()"
   ]
  },
  {
   "cell_type": "code",
   "execution_count": 13,
   "metadata": {},
   "outputs": [
    {
     "data": {
      "text/plain": [
       "Id               41088\n",
       "Store              856\n",
       "DayOfWeek            7\n",
       "Date                48\n",
       "Open                 2\n",
       "Promo                2\n",
       "StateHoliday         2\n",
       "SchoolHoliday        2\n",
       "dtype: int64"
      ]
     },
     "execution_count": 13,
     "metadata": {},
     "output_type": "execute_result"
    }
   ],
   "source": [
    "pre_test.nunique()"
   ]
  },
  {
   "cell_type": "code",
   "execution_count": 14,
   "metadata": {
    "scrolled": true
   },
   "outputs": [
    {
     "data": {
      "text/plain": [
       "Store                        1115\n",
       "StoreType                       4\n",
       "Assortment                      3\n",
       "CompetitionDistance           654\n",
       "CompetitionOpenSinceMonth      12\n",
       "CompetitionOpenSinceYear       23\n",
       "Promo2                          2\n",
       "Promo2SinceWeek                24\n",
       "Promo2SinceYear                 7\n",
       "PromoInterval                   3\n",
       "dtype: int64"
      ]
     },
     "execution_count": 14,
     "metadata": {},
     "output_type": "execute_result"
    }
   ],
   "source": [
    "store.nunique()"
   ]
  },
  {
   "cell_type": "code",
   "execution_count": 15,
   "metadata": {},
   "outputs": [
    {
     "data": {
      "text/plain": [
       "856"
      ]
     },
     "execution_count": 15,
     "metadata": {},
     "output_type": "execute_result"
    }
   ],
   "source": [
    "# All test stores are also in the train data\n",
    "np.count_nonzero(np.isin(pre_test.Store.unique(), pre_train.Store.unique()))"
   ]
  },
  {
   "cell_type": "code",
   "execution_count": 16,
   "metadata": {},
   "outputs": [
    {
     "data": {
      "text/plain": [
       "259"
      ]
     },
     "execution_count": 16,
     "metadata": {},
     "output_type": "execute_result"
    }
   ],
   "source": [
    "# 259 store in train data are not in test data\n",
    "pre_train.Store.nunique() - np.count_nonzero(np.isin(pre_test.Store.unique(), pre_train.Store.unique()))"
   ]
  },
  {
   "cell_type": "code",
   "execution_count": 17,
   "metadata": {},
   "outputs": [
    {
     "data": {
      "image/png": "[encoded data removed]",
      "text/plain": [
       "<matplotlib.figure.Figure at 0x16fa21c56d8>"
      ]
     },
     "metadata": {},
     "output_type": "display_data"
    }
   ],
   "source": [
    "objects = ('Open', 'Close')\n",
    "y_pos = np.arange(len(objects))\n",
    "length_data = [len(pre_train.Open[pre_train[\"Open\"] == 1])/len(pre_train.Open), len(pre_train.Open[pre_train[\"Open\"] == 0])/len(pre_train.Open)]\n",
    " \n",
    "plt.bar(y_pos, length_data, align='center', alpha=1, color=['green','red'])\n",
    "plt.xticks(y_pos, objects)\n",
    "plt.ylabel('Number')\n",
    "plt.title('Number of open and close day of the shops on train data')\n",
    " \n",
    "plt.show()"
   ]
  },
  {
   "cell_type": "code",
   "execution_count": 18,
   "metadata": {},
   "outputs": [
    {
     "data": {
      "image/png": "[encoded data removed]",
      "text/plain": [
       "<matplotlib.figure.Figure at 0x16fa21c9160>"
      ]
     },
     "metadata": {},
     "output_type": "display_data"
    }
   ],
   "source": [
    "objects = ('Open', 'Close')\n",
    "y_pos = np.arange(len(objects))\n",
    "length_data = [len(pre_test.Open[pre_test[\"Open\"] == 1])/len(pre_test.Open), len(pre_test.Open[pre_test[\"Open\"] == 0])/len(pre_test.Open)]\n",
    " \n",
    "plt.bar(y_pos, length_data, align='center', alpha=1, color=['green','red'])\n",
    "plt.xticks(y_pos, objects)\n",
    "plt.ylabel('Number')\n",
    "plt.title('Number of open and close day of the shops on test data')\n",
    " \n",
    "plt.show()"
   ]
  },
  {
   "cell_type": "code",
   "execution_count": 19,
   "metadata": {},
   "outputs": [
    {
     "data": {
      "image/png": "[encoded data removed]",
      "text/plain": [
       "<matplotlib.figure.Figure at 0x16fa21c5470>"
      ]
     },
     "metadata": {},
     "output_type": "display_data"
    }
   ],
   "source": [
    "objects = ('isPromo', 'notPromo')\n",
    "y_pos = np.arange(len(objects))\n",
    "length_data = [len(pre_train.Open[pre_train[\"Promo\"] == 1])/len(pre_train.Open), len(pre_train.Open[pre_train[\"Promo\"] == 0])/len(pre_train.Open)]\n",
    " \n",
    "plt.bar(y_pos, length_data, align='center', alpha=1, color=['green','red'])\n",
    "plt.xticks(y_pos, objects)\n",
    "plt.ylabel('Number')\n",
    "plt.title('Number of open and close day of the shops on train data')\n",
    " \n",
    "plt.show()"
   ]
  },
  {
   "cell_type": "code",
   "execution_count": 20,
   "metadata": {},
   "outputs": [
    {
     "data": {
      "image/png": "[encoded data removed]",
      "text/plain": [
       "<matplotlib.figure.Figure at 0x16fa3243c88>"
      ]
     },
     "metadata": {},
     "output_type": "display_data"
    }
   ],
   "source": [
    "objects = ('Open', 'Close')\n",
    "y_pos = np.arange(len(objects))\n",
    "length_data = [len(pre_test.Open[pre_test[\"Promo\"] == 1])/len(pre_test.Open), len(pre_test.Open[pre_test[\"Promo\"] == 0])/len(pre_test.Open)]\n",
    " \n",
    "plt.bar(y_pos, length_data, align='center', alpha=1, color=['green','red'])\n",
    "plt.xticks(y_pos, objects)\n",
    "plt.ylabel('Number')\n",
    "plt.title('Number of open and close day of the shops on test data')\n",
    " \n",
    "plt.show()"
   ]
  },
  {
   "cell_type": "code",
   "execution_count": 21,
   "metadata": {},
   "outputs": [
    {
     "data": {
      "image/png": "[encoded data removed]",
      "text/plain": [
       "<matplotlib.figure.Figure at 0x16fa1dfc940>"
      ]
     },
     "metadata": {},
     "output_type": "display_data"
    }
   ],
   "source": [
    "objects = ('isStateHolidayA', 'isStateHolidayB', 'isStateHolidayC', 'notStateHoliday')\n",
    "y_pos = np.arange(len(objects))\n",
    "length_data = [len(pre_train.Open[pre_train[\"StateHoliday\"] == 'a'])/len(pre_train.Open), \n",
    "               len(pre_train.Open[pre_train[\"StateHoliday\"] == 'b'])/len(pre_train.Open), \n",
    "               len(pre_train.Open[pre_train[\"StateHoliday\"] == 'c'])/len(pre_train.Open), \n",
    "               len(pre_train.Open[pre_train[\"StateHoliday\"] == '0'])/len(pre_train.Open)]\n",
    " \n",
    "plt.bar(y_pos, length_data, align='center', alpha=1, color=['green', 'blue', 'yellow', 'red'])\n",
    "plt.xticks(y_pos, objects)\n",
    "plt.ylabel('Number')\n",
    "plt.title('Number of open and close day of the shops on train data')\n",
    " \n",
    "plt.show()"
   ]
  },
  {
   "cell_type": "code",
   "execution_count": 22,
   "metadata": {},
   "outputs": [
    {
     "data": {
      "image/png": "[encoded data removed]",
      "text/plain": [
       "<matplotlib.figure.Figure at 0x16fa1e23668>"
      ]
     },
     "metadata": {},
     "output_type": "display_data"
    }
   ],
   "source": [
    "objects = ('isStateHolidayA', 'isStateHolidayB', 'isStateHolidayC', 'notStateHoliday')\n",
    "y_pos = np.arange(len(objects))\n",
    "length_data = [len(pre_test.Open[pre_test[\"StateHoliday\"] == 'a'])/len(pre_test.Open), \n",
    "               len(pre_test.Open[pre_test[\"StateHoliday\"] == 'b'])/len(pre_test.Open), \n",
    "               len(pre_test.Open[pre_test[\"StateHoliday\"] == 'c'])/len(pre_test.Open), \n",
    "               len(pre_test.Open[pre_test[\"StateHoliday\"] == '0'])/len(pre_test.Open)]\n",
    " \n",
    "plt.bar(y_pos, length_data, align='center', alpha=1, color=['green', 'blue', 'yellow', 'red'])\n",
    "plt.xticks(y_pos, objects)\n",
    "plt.ylabel('Number')\n",
    "plt.title('Number of open and close day of the shops on train data')\n",
    " \n",
    "plt.show()"
   ]
  },
  {
   "cell_type": "code",
   "execution_count": 23,
   "metadata": {},
   "outputs": [
    {
     "data": {
      "image/png": "[encoded data removed]",
      "text/plain": [
       "<matplotlib.figure.Figure at 0x16fa1e91128>"
      ]
     },
     "metadata": {},
     "output_type": "display_data"
    }
   ],
   "source": [
    "objects = ('isSchoolHoliday', 'notSchoolHoliday')\n",
    "y_pos = np.arange(len(objects))\n",
    "length_data = [len(pre_train.Open[pre_train[\"SchoolHoliday\"] == 1])/len(pre_train.Open), len(pre_train.Open[pre_train[\"SchoolHoliday\"] == 0])/len(pre_train.Open)]\n",
    " \n",
    "plt.bar(y_pos, length_data, align='center', alpha=1, color=['green','red'])\n",
    "plt.xticks(y_pos, objects)\n",
    "plt.ylabel('Number')\n",
    "plt.title('Number of open and close day of the shops on train data')\n",
    " \n",
    "plt.show()"
   ]
  },
  {
   "cell_type": "code",
   "execution_count": 24,
   "metadata": {},
   "outputs": [
    {
     "data": {
      "image/png": "[encoded data removed]",
      "text/plain": [
       "<matplotlib.figure.Figure at 0x16fa1c50b70>"
      ]
     },
     "metadata": {},
     "output_type": "display_data"
    }
   ],
   "source": [
    "objects = ('isSchoolHoliday', 'notSchoolHoliday')\n",
    "y_pos = np.arange(len(objects))\n",
    "length_data = [len(pre_test.Open[pre_test[\"SchoolHoliday\"] == 1])/len(pre_test.Open), len(pre_test.Open[pre_test[\"SchoolHoliday\"] == 0])/len(pre_test.Open)]\n",
    " \n",
    "plt.bar(y_pos, length_data, align='center', alpha=1, color=['green','red'])\n",
    "plt.xticks(y_pos, objects)\n",
    "plt.ylabel('Number')\n",
    "plt.title('Number of open and close day of the shops on test data')\n",
    " \n",
    "plt.show()"
   ]
  },
  {
   "cell_type": "code",
   "execution_count": 25,
   "metadata": {},
   "outputs": [
    {
     "data": {
      "text/plain": [
       "pandas.core.series.Series"
      ]
     },
     "execution_count": 25,
     "metadata": {},
     "output_type": "execute_result"
    }
   ],
   "source": [
    "type(pre_train.Date.sort_values())"
   ]
  },
  {
   "cell_type": "code",
   "execution_count": 26,
   "metadata": {
    "scrolled": true
   },
   "outputs": [
    {
     "data": {
      "image/png": "[encoded data removed]",
      "text/plain": [
       "<matplotlib.figure.Figure at 0x16fa1d64da0>"
      ]
     },
     "metadata": {},
     "output_type": "display_data"
    }
   ],
   "source": [
    "plt.plot(pre_train.Date.sort_values(ascending=True).reset_index(drop=True))\n",
    "plt.show()"
   ]
  },
  {
   "cell_type": "code",
   "execution_count": 27,
   "metadata": {},
   "outputs": [
    {
     "data": {
      "image/png": "[encoded data removed]",
      "text/plain": [
       "<matplotlib.figure.Figure at 0x16fa1c8c8d0>"
      ]
     },
     "metadata": {},
     "output_type": "display_data"
    }
   ],
   "source": [
    "plt.plot(pre_test.Date.sort_values(ascending=True).reset_index(drop=True))\n",
    "plt.show()"
   ]
  },
  {
   "cell_type": "code",
   "execution_count": 28,
   "metadata": {},
   "outputs": [
    {
     "data": {
      "text/plain": [
       "(array([1.72877e+05, 1.07000e+02, 6.20000e+02, 1.89600e+03, 4.13000e+03,\n",
       "        8.39000e+03, 1.41860e+04, 2.16560e+04, 3.14910e+04, 4.13200e+04,\n",
       "        4.93110e+04, 5.53090e+04, 5.84920e+04, 5.91820e+04, 5.79320e+04,\n",
       "        5.40820e+04, 4.93650e+04, 4.49760e+04, 4.12180e+04, 3.56050e+04,\n",
       "        3.09410e+04, 2.65370e+04, 2.31100e+04, 1.95920e+04, 1.69870e+04,\n",
       "        1.44620e+04, 1.21680e+04, 1.02250e+04, 8.60900e+03, 7.16100e+03,\n",
       "        6.04700e+03, 5.08100e+03, 4.37100e+03, 3.73900e+03, 3.23900e+03,\n",
       "        2.79300e+03, 2.41100e+03, 2.03900e+03, 1.84100e+03, 1.67300e+03,\n",
       "        1.45600e+03, 1.20800e+03, 1.10900e+03, 1.03500e+03, 9.09000e+02,\n",
       "        7.95000e+02, 7.42000e+02, 6.14000e+02, 5.48000e+02, 4.85000e+02,\n",
       "        4.15000e+02, 3.52000e+02, 3.38000e+02, 2.56000e+02, 2.61000e+02,\n",
       "        2.03000e+02, 1.83000e+02, 1.39000e+02, 9.90000e+01, 1.16000e+02,\n",
       "        9.20000e+01, 6.70000e+01, 7.10000e+01, 6.10000e+01, 7.30000e+01,\n",
       "        4.50000e+01, 4.00000e+01, 5.00000e+01, 3.30000e+01, 3.30000e+01,\n",
       "        2.80000e+01, 2.40000e+01, 2.80000e+01, 1.90000e+01, 1.50000e+01,\n",
       "        1.90000e+01, 1.40000e+01, 1.30000e+01, 8.00000e+00, 6.00000e+00,\n",
       "        3.00000e+00, 8.00000e+00, 3.00000e+00, 3.00000e+00, 3.00000e+00,\n",
       "        3.00000e+00, 1.00000e+00, 2.00000e+00, 0.00000e+00, 2.00000e+00,\n",
       "        2.00000e+00, 2.00000e+00, 2.00000e+00, 1.00000e+00, 0.00000e+00,\n",
       "        0.00000e+00, 0.00000e+00, 0.00000e+00, 0.00000e+00, 1.00000e+00]),\n",
       " array([    0.  ,   415.51,   831.02,  1246.53,  1662.04,  2077.55,\n",
       "         2493.06,  2908.57,  3324.08,  3739.59,  4155.1 ,  4570.61,\n",
       "         4986.12,  5401.63,  5817.14,  6232.65,  6648.16,  7063.67,\n",
       "         7479.18,  7894.69,  8310.2 ,  8725.71,  9141.22,  9556.73,\n",
       "         9972.24, 10387.75, 10803.26, 11218.77, 11634.28, 12049.79,\n",
       "        12465.3 , 12880.81, 13296.32, 13711.83, 14127.34, 14542.85,\n",
       "        14958.36, 15373.87, 15789.38, 16204.89, 16620.4 , 17035.91,\n",
       "        17451.42, 17866.93, 18282.44, 18697.95, 19113.46, 19528.97,\n",
       "        19944.48, 20359.99, 20775.5 , 21191.01, 21606.52, 22022.03,\n",
       "        22437.54, 22853.05, 23268.56, 23684.07, 24099.58, 24515.09,\n",
       "        24930.6 , 25346.11, 25761.62, 26177.13, 26592.64, 27008.15,\n",
       "        27423.66, 27839.17, 28254.68, 28670.19, 29085.7 , 29501.21,\n",
       "        29916.72, 30332.23, 30747.74, 31163.25, 31578.76, 31994.27,\n",
       "        32409.78, 32825.29, 33240.8 , 33656.31, 34071.82, 34487.33,\n",
       "        34902.84, 35318.35, 35733.86, 36149.37, 36564.88, 36980.39,\n",
       "        37395.9 , 37811.41, 38226.92, 38642.43, 39057.94, 39473.45,\n",
       "        39888.96, 40304.47, 40719.98, 41135.49, 41551.  ]),\n",
       " <a list of 100 Patch objects>)"
      ]
     },
     "execution_count": 28,
     "metadata": {},
     "output_type": "execute_result"
    },
    {
     "data": {
      "image/png": "[encoded data removed]",
      "text/plain": [
       "<matplotlib.figure.Figure at 0x16fa20d5978>"
      ]
     },
     "metadata": {},
     "output_type": "display_data"
    }
   ],
   "source": [
    "plt.hist(pre_train.Sales,100)"
   ]
  },
  {
   "cell_type": "code",
   "execution_count": 29,
   "metadata": {},
   "outputs": [
    {
     "data": {
      "text/plain": [
       "(array([ 2.,  5.,  5.,  6., 14., 11., 18., 16., 21., 37., 29., 42., 37.,\n",
       "        51., 47., 31., 48., 43., 42., 38., 40., 33., 58., 43., 38., 33.,\n",
       "        36., 28., 17., 26., 20., 20., 13., 15., 18., 17., 10., 12.,  3.,\n",
       "        11.,  4.,  8., 10.,  7.,  6.,  1.,  5.,  3.,  2.,  3.,  0.,  0.,\n",
       "         3.,  2.,  3.,  1.,  1.,  2.,  2.,  1.,  0.,  1.,  0.,  1.,  2.,\n",
       "         1.,  0.,  2.,  0.,  0.,  0.,  0.,  1.,  0.,  0.,  0.,  1.,  0.,\n",
       "         0.,  0.,  2.,  1.,  0.,  1.,  0.,  0.,  1.,  0.,  0.,  0.,  0.,\n",
       "         0.,  0.,  0.,  2.,  0.,  0.,  0.,  0.,  1.]),\n",
       " array([ 2703.73657289,  2894.27404134,  3084.8115098 ,  3275.34897825,\n",
       "         3465.88644671,  3656.42391516,  3846.96138362,  4037.49885207,\n",
       "         4228.03632053,  4418.57378898,  4609.11125744,  4799.64872589,\n",
       "         4990.18619435,  5180.7236628 ,  5371.26113126,  5561.79859971,\n",
       "         5752.33606817,  5942.87353662,  6133.41100508,  6323.94847353,\n",
       "         6514.48594199,  6705.02341044,  6895.5608789 ,  7086.09834735,\n",
       "         7276.6358158 ,  7467.17328426,  7657.71075271,  7848.24822117,\n",
       "         8038.78568962,  8229.32315808,  8419.86062653,  8610.39809499,\n",
       "         8800.93556344,  8991.4730319 ,  9182.01050035,  9372.54796881,\n",
       "         9563.08543726,  9753.62290572,  9944.16037417, 10134.69784263,\n",
       "        10325.23531108, 10515.77277954, 10706.31024799, 10896.84771645,\n",
       "        11087.3851849 , 11277.92265335, 11468.46012181, 11658.99759026,\n",
       "        11849.53505872, 12040.07252717, 12230.60999563, 12421.14746408,\n",
       "        12611.68493254, 12802.22240099, 12992.75986945, 13183.2973379 ,\n",
       "        13373.83480636, 13564.37227481, 13754.90974327, 13945.44721172,\n",
       "        14135.98468018, 14326.52214863, 14517.05961709, 14707.59708554,\n",
       "        14898.134554  , 15088.67202245, 15279.20949091, 15469.74695936,\n",
       "        15660.28442781, 15850.82189627, 16041.35936472, 16231.89683318,\n",
       "        16422.43430163, 16612.97177009, 16803.50923854, 16994.046707  ,\n",
       "        17184.58417545, 17375.12164391, 17565.65911236, 17756.19658082,\n",
       "        17946.73404927, 18137.27151773, 18327.80898618, 18518.34645464,\n",
       "        18708.88392309, 18899.42139155, 19089.95886   , 19280.49632846,\n",
       "        19471.03379691, 19661.57126536, 19852.10873382, 20042.64620227,\n",
       "        20233.18367073, 20423.72113918, 20614.25860764, 20804.79607609,\n",
       "        20995.33354455, 21185.871013  , 21376.40848146, 21566.94594991,\n",
       "        21757.48341837]),\n",
       " <a list of 100 Patch objects>)"
      ]
     },
     "execution_count": 29,
     "metadata": {},
     "output_type": "execute_result"
    },
    {
     "data": {
      "image/png": "[encoded data removed]",
      "text/plain": [
       "<matplotlib.figure.Figure at 0x16fa2137908>"
      ]
     },
     "metadata": {},
     "output_type": "display_data"
    }
   ],
   "source": [
    "plt.hist(pre_train[pre_train[\"Sales\"] != 0].groupby(['Store']).Sales.mean(),100)"
   ]
  },
  {
   "cell_type": "code",
   "execution_count": 30,
   "metadata": {},
   "outputs": [
    {
     "data": {
      "text/plain": [
       "(array([1.72884e+05, 7.30000e+02, 3.77200e+03, 1.47080e+04, 3.54060e+04,\n",
       "        6.47450e+04, 9.01850e+04, 1.01267e+05, 9.74110e+04, 8.76340e+04,\n",
       "        7.34540e+04, 5.92830e+04, 4.71420e+04, 3.68090e+04, 2.76340e+04,\n",
       "        2.12360e+04, 1.55560e+04, 1.20940e+04, 9.26800e+03, 7.24400e+03,\n",
       "        5.65300e+03, 4.60100e+03, 3.72400e+03, 3.17400e+03, 2.60200e+03,\n",
       "        2.25900e+03, 1.86300e+03, 1.53900e+03, 1.33000e+03, 1.10100e+03,\n",
       "        1.01200e+03, 9.10000e+02, 7.83000e+02, 7.00000e+02, 6.44000e+02,\n",
       "        5.77000e+02, 4.77000e+02, 4.34000e+02, 4.50000e+02, 4.43000e+02,\n",
       "        4.52000e+02, 4.26000e+02, 5.04000e+02, 4.62000e+02, 4.23000e+02,\n",
       "        4.02000e+02, 3.74000e+02, 2.79000e+02, 2.44000e+02, 1.80000e+02,\n",
       "        1.66000e+02, 9.10000e+01, 7.70000e+01, 6.50000e+01, 5.20000e+01,\n",
       "        5.10000e+01, 3.20000e+01, 2.80000e+01, 3.20000e+01, 1.90000e+01,\n",
       "        2.50000e+01, 2.00000e+01, 1.80000e+01, 6.00000e+00, 8.00000e+00,\n",
       "        6.00000e+00, 7.00000e+00, 5.00000e+00, 6.00000e+00, 5.00000e+00,\n",
       "        1.00000e+00, 1.00000e+00, 1.00000e+00, 1.00000e+00, 1.00000e+00,\n",
       "        0.00000e+00, 0.00000e+00, 0.00000e+00, 0.00000e+00, 0.00000e+00,\n",
       "        0.00000e+00, 0.00000e+00, 0.00000e+00, 0.00000e+00, 0.00000e+00,\n",
       "        0.00000e+00, 0.00000e+00, 0.00000e+00, 0.00000e+00, 0.00000e+00,\n",
       "        0.00000e+00, 0.00000e+00, 0.00000e+00, 0.00000e+00, 0.00000e+00,\n",
       "        0.00000e+00, 0.00000e+00, 0.00000e+00, 0.00000e+00, 1.00000e+00]),\n",
       " array([   0.  ,   73.88,  147.76,  221.64,  295.52,  369.4 ,  443.28,\n",
       "         517.16,  591.04,  664.92,  738.8 ,  812.68,  886.56,  960.44,\n",
       "        1034.32, 1108.2 , 1182.08, 1255.96, 1329.84, 1403.72, 1477.6 ,\n",
       "        1551.48, 1625.36, 1699.24, 1773.12, 1847.  , 1920.88, 1994.76,\n",
       "        2068.64, 2142.52, 2216.4 , 2290.28, 2364.16, 2438.04, 2511.92,\n",
       "        2585.8 , 2659.68, 2733.56, 2807.44, 2881.32, 2955.2 , 3029.08,\n",
       "        3102.96, 3176.84, 3250.72, 3324.6 , 3398.48, 3472.36, 3546.24,\n",
       "        3620.12, 3694.  , 3767.88, 3841.76, 3915.64, 3989.52, 4063.4 ,\n",
       "        4137.28, 4211.16, 4285.04, 4358.92, 4432.8 , 4506.68, 4580.56,\n",
       "        4654.44, 4728.32, 4802.2 , 4876.08, 4949.96, 5023.84, 5097.72,\n",
       "        5171.6 , 5245.48, 5319.36, 5393.24, 5467.12, 5541.  , 5614.88,\n",
       "        5688.76, 5762.64, 5836.52, 5910.4 , 5984.28, 6058.16, 6132.04,\n",
       "        6205.92, 6279.8 , 6353.68, 6427.56, 6501.44, 6575.32, 6649.2 ,\n",
       "        6723.08, 6796.96, 6870.84, 6944.72, 7018.6 , 7092.48, 7166.36,\n",
       "        7240.24, 7314.12, 7388.  ]),\n",
       " <a list of 100 Patch objects>)"
      ]
     },
     "execution_count": 30,
     "metadata": {},
     "output_type": "execute_result"
    },
    {
     "data": {
      "image/png": "[encoded data removed]",
      "text/plain": [
       "<matplotlib.figure.Figure at 0x16fa209b860>"
      ]
     },
     "metadata": {},
     "output_type": "display_data"
    }
   ],
   "source": [
    "plt.hist(pre_train.Customers,100)"
   ]
  },
  {
   "cell_type": "code",
   "execution_count": 31,
   "metadata": {},
   "outputs": [
    {
     "data": {
      "text/plain": [
       "(array([ 2.,  0.,  9., 16., 23., 30., 46., 51., 69., 69., 68., 58., 67.,\n",
       "        62., 72., 50., 46., 35., 38., 37., 29., 21., 32., 20., 23., 11.,\n",
       "        14., 13., 14.,  6.,  5.,  6.,  7.,  8.,  4.,  3.,  6.,  1.,  2.,\n",
       "         1.,  3.,  2.,  4.,  3.,  3.,  1.,  2.,  0.,  4.,  0.,  1.,  0.,\n",
       "         1.,  1.,  1.,  0.,  0.,  1.,  1.,  0.,  0.,  0.,  1.,  0.,  0.,\n",
       "         0.,  1.,  3.,  1.,  1.,  0.,  0.,  0.,  0.,  0.,  0.,  0.,  0.,\n",
       "         0.,  0.,  0.,  0.,  0.,  0.,  0.,  0.,  0.,  0.,  0.,  1.,  1.,\n",
       "         1.,  0.,  1.,  0.,  0.,  0.,  0.,  0.,  2.]),\n",
       " array([ 240.18309859,  271.81585359,  303.44860859,  335.0813636 ,\n",
       "         366.7141186 ,  398.3468736 ,  429.9796286 ,  461.6123836 ,\n",
       "         493.2451386 ,  524.8778936 ,  556.51064861,  588.14340361,\n",
       "         619.77615861,  651.40891361,  683.04166861,  714.67442361,\n",
       "         746.30717861,  777.93993361,  809.57268862,  841.20544362,\n",
       "         872.83819862,  904.47095362,  936.10370862,  967.73646362,\n",
       "         999.36921862, 1031.00197363, 1062.63472863, 1094.26748363,\n",
       "        1125.90023863, 1157.53299363, 1189.16574863, 1220.79850363,\n",
       "        1252.43125863, 1284.06401364, 1315.69676864, 1347.32952364,\n",
       "        1378.96227864, 1410.59503364, 1442.22778864, 1473.86054364,\n",
       "        1505.49329865, 1537.12605365, 1568.75880865, 1600.39156365,\n",
       "        1632.02431865, 1663.65707365, 1695.28982865, 1726.92258365,\n",
       "        1758.55533866, 1790.18809366, 1821.82084866, 1853.45360366,\n",
       "        1885.08635866, 1916.71911366, 1948.35186866, 1979.98462367,\n",
       "        2011.61737867, 2043.25013367, 2074.88288867, 2106.51564367,\n",
       "        2138.14839867, 2169.78115367, 2201.41390867, 2233.04666368,\n",
       "        2264.67941868, 2296.31217368, 2327.94492868, 2359.57768368,\n",
       "        2391.21043868, 2422.84319368, 2454.47594869, 2486.10870369,\n",
       "        2517.74145869, 2549.37421369, 2581.00696869, 2612.63972369,\n",
       "        2644.27247869, 2675.9052337 , 2707.5379887 , 2739.1707437 ,\n",
       "        2770.8034987 , 2802.4362537 , 2834.0690087 , 2865.7017637 ,\n",
       "        2897.3345187 , 2928.96727371, 2960.60002871, 2992.23278371,\n",
       "        3023.86553871, 3055.49829371, 3087.13104871, 3118.76380371,\n",
       "        3150.39655872, 3182.02931372, 3213.66206872, 3245.29482372,\n",
       "        3276.92757872, 3308.56033372, 3340.19308872, 3371.82584372,\n",
       "        3403.45859873]),\n",
       " <a list of 100 Patch objects>)"
      ]
     },
     "execution_count": 31,
     "metadata": {},
     "output_type": "execute_result"
    },
    {
     "data": {
      "image/png": "[encoded data removed]",
      "text/plain": [
       "<matplotlib.figure.Figure at 0x16fa212b780>"
      ]
     },
     "metadata": {},
     "output_type": "display_data"
    }
   ],
   "source": [
    "plt.hist(pre_train[pre_train[\"Sales\"] != 0].groupby(['Store']).Customers.mean(),100)"
   ]
  },
  {
   "cell_type": "code",
   "execution_count": 60,
   "metadata": {},
   "outputs": [
    {
     "data": {
      "text/plain": [
       "[<matplotlib.lines.Line2D at 0x170a4322400>]"
      ]
     },
     "execution_count": 60,
     "metadata": {},
     "output_type": "execute_result"
    },
    {
     "data": {
      "image/png": "[encoded data removed]",
      "text/plain": [
       "<matplotlib.figure.Figure at 0x170cb444c50>"
      ]
     },
     "metadata": {},
     "output_type": "display_data"
    }
   ],
   "source": [
    "bp = pre_train[pre_train[\"Sales\"] != 0].boxplot(column='Sales', by='SchoolHoliday', grid=True, showfliers=False)\n",
    "#for i in [0, 1]:\n",
    "y = pre_train[pre_train[\"Sales\"] != 0].Sales[pre_train.SchoolHoliday==0]\n",
    "# Add some random \"jitter\" to the x-axis\n",
    "x = np.random.normal(1, 0.04, size=len(y))\n",
    "plt.plot(x, y, 'r.', alpha=0.01)\n",
    "\n",
    "y = pre_train[pre_train[\"Sales\"] != 0].Sales[pre_train.SchoolHoliday==1]\n",
    "# Add some random \"jitter\" to the x-axis\n",
    "x = np.random.normal(2, 0.04, size=len(y))\n",
    "plt.plot(x, y, 'r.', alpha=0.01)"
   ]
  },
  {
   "cell_type": "code",
   "execution_count": 61,
   "metadata": {},
   "outputs": [
    {
     "data": {
      "text/plain": [
       "[<matplotlib.lines.Line2D at 0x170a437fa58>]"
      ]
     },
     "execution_count": 61,
     "metadata": {},
     "output_type": "execute_result"
    },
    {
     "data": {
      "image/png": "[encoded data removed]",
      "text/plain": [
       "<matplotlib.figure.Figure at 0x170a4322518>"
      ]
     },
     "metadata": {},
     "output_type": "display_data"
    }
   ],
   "source": [
    "bp = pre_train[pre_train[\"Sales\"] != 0].boxplot(column='Sales', by='Promo', grid=True, showfliers=False)\n",
    "#for i in [0, 1]:\n",
    "y = pre_train[pre_train[\"Sales\"] != 0].Sales[pre_train.Promo==0]\n",
    "# Add some random \"jitter\" to the x-axis\n",
    "x = np.random.normal(1, 0.04, size=len(y))\n",
    "plt.plot(x, y, 'r.', alpha=0.01)\n",
    "\n",
    "y = pre_train[pre_train[\"Sales\"] != 0].Sales[pre_train.Promo==1]\n",
    "# Add some random \"jitter\" to the x-axis\n",
    "x = np.random.normal(2, 0.04, size=len(y))\n",
    "plt.plot(x, y, 'r.', alpha=0.01)"
   ]
  },
  {
   "cell_type": "code",
   "execution_count": 63,
   "metadata": {},
   "outputs": [
    {
     "data": {
      "text/plain": [
       "[<matplotlib.lines.Line2D at 0x170a440c550>]"
      ]
     },
     "execution_count": 63,
     "metadata": {},
     "output_type": "execute_result"
    },
    {
     "data": {
      "image/png": "[encoded data removed]",
      "text/plain": [
       "<matplotlib.figure.Figure at 0x170a440c048>"
      ]
     },
     "metadata": {},
     "output_type": "display_data"
    }
   ],
   "source": [
    "bp = pre_train[pre_train[\"Customers\"] != 0].boxplot(column='Customers', by='Promo', grid=True, showfliers=False)\n",
    "#for i in [0, 1]:\n",
    "y = pre_train[pre_train[\"Customers\"] != 0].Customers[pre_train.Promo==0]\n",
    "# Add some random \"jitter\" to the x-axis\n",
    "x = np.random.normal(1, 0.04, size=len(y))\n",
    "plt.plot(x, y, 'r.', alpha=0.01)\n",
    "\n",
    "y = pre_train[pre_train[\"Customers\"] != 0].Customers[pre_train.Promo==1]\n",
    "# Add some random \"jitter\" to the x-axis\n",
    "x = np.random.normal(2, 0.04, size=len(y))\n",
    "plt.plot(x, y, 'r.', alpha=0.01)"
   ]
  },
  {
   "cell_type": "code",
   "execution_count": 33,
   "metadata": {
    "scrolled": true
   },
   "outputs": [
    {
     "ename": "NameError",
     "evalue": "name 'df' is not defined",
     "output_type": "error",
     "traceback": [
      "\u001b[1;31m---------------------------------------------------------------------------\u001b[0m",
      "\u001b[1;31mNameError\u001b[0m                                 Traceback (most recent call last)",
      "\u001b[1;32m<ipython-input-33-06c3081b47f1>\u001b[0m in \u001b[0;36m<module>\u001b[1;34m()\u001b[0m\n\u001b[1;32m----> 1\u001b[1;33m \u001b[1;33m[\u001b[0m\u001b[1;33m(\u001b[0m\u001b[0mdf\u001b[0m\u001b[1;33m[\u001b[0m\u001b[1;34m\"B\"\u001b[0m\u001b[1;33m]\u001b[0m \u001b[1;33m>\u001b[0m \u001b[1;36m50\u001b[0m\u001b[1;33m)\u001b[0m \u001b[1;33m&\u001b[0m \u001b[1;33m(\u001b[0m\u001b[0mdf\u001b[0m\u001b[1;33m[\u001b[0m\u001b[1;34m\"C\"\u001b[0m\u001b[1;33m]\u001b[0m \u001b[1;33m==\u001b[0m \u001b[1;36m900\u001b[0m\u001b[1;33m)\u001b[0m\u001b[1;33m]\u001b[0m\u001b[1;33m\u001b[0m\u001b[0m\n\u001b[0m",
      "\u001b[1;31mNameError\u001b[0m: name 'df' is not defined"
     ]
    }
   ],
   "source": [
    "[(df[\"B\"] > 50) & (df[\"C\"] == 900)]"
   ]
  },
  {
   "cell_type": "code",
   "execution_count": 330,
   "metadata": {},
   "outputs": [
    {
     "data": {
      "text/plain": [
       "[<matplotlib.lines.Line2D at 0x24e184b3eb8>]"
      ]
     },
     "execution_count": 330,
     "metadata": {},
     "output_type": "execute_result"
    },
    {
     "data": {
      "image/png": "[encoded data removed]",
      "text/plain": [
       "<matplotlib.figure.Figure at 0x24e1841dda0>"
      ]
     },
     "metadata": {},
     "output_type": "display_data"
    }
   ],
   "source": [
    "plt.rcParams['agg.path.chunksize'] = 10000\n",
    "sale_and_customer = pre_train[[\"Sales\",\"Customers\"]][(pre_train[\"Sales\"] != 0) & (pre_train[\"Customers\"] != 0)]\n",
    "\n",
    "x = np.log(sale_and_customer.Customers)\n",
    "y = np.log(sale_and_customer.Sales)\n",
    "\n",
    "\n",
    "\n",
    "plt.plot(x, y, '.b')\n",
    "\n",
    "filtered = lowess(y, x, is_sorted=False, frac=0.2, it=0)\n",
    "\n",
    "plt.plot(filtered[:,0], filtered[:,1], 'r')\n",
    "\n",
    "#p = sp.polyfit(x, y, deg=50)\n",
    "#y_ = sp.polyval(p, x)\n",
    "\n",
    "# plot smoothened data\n",
    "#plt.plot(x, y_, color='b', linewidth=2)\n",
    "\n",
    "#z = np.polyfit(x, y, 4)\n",
    "#p = np.poly1d(z)\n",
    "#plt.plot(x,p(x),\"r--\")\n",
    "\n"
   ]
  },
  {
   "cell_type": "code",
   "execution_count": 64,
   "metadata": {},
   "outputs": [
    {
     "data": {
      "text/html": [
       "<div>\n",
       "<style scoped>\n",
       "    .dataframe tbody tr th:only-of-type {\n",
       "        vertical-align: middle;\n",
       "    }\n",
       "\n",
       "    .dataframe tbody tr th {\n",
       "        vertical-align: top;\n",
       "    }\n",
       "\n",
       "    .dataframe thead th {\n",
       "        text-align: right;\n",
       "    }\n",
       "</style>\n",
       "<table border=\"1\" class=\"dataframe\">\n",
       "  <thead>\n",
       "    <tr style=\"text-align: right;\">\n",
       "      <th></th>\n",
       "      <th>Sales</th>\n",
       "      <th>Customers</th>\n",
       "    </tr>\n",
       "  </thead>\n",
       "  <tbody>\n",
       "    <tr>\n",
       "      <th>478649</th>\n",
       "      <td>0</td>\n",
       "      <td>3</td>\n",
       "    </tr>\n",
       "    <tr>\n",
       "      <th>889932</th>\n",
       "      <td>0</td>\n",
       "      <td>5</td>\n",
       "    </tr>\n",
       "  </tbody>\n",
       "</table>\n",
       "</div>"
      ],
      "text/plain": [
       "        Sales  Customers\n",
       "478649      0          3\n",
       "889932      0          5"
      ]
     },
     "execution_count": 64,
     "metadata": {},
     "output_type": "execute_result"
    }
   ],
   "source": [
    "pre_train[[\"Sales\",\"Customers\"]][(pre_train[\"Sales\"] == 0) & (pre_train[\"Customers\"] != 0)]"
   ]
  },
  {
   "cell_type": "code",
   "execution_count": 93,
   "metadata": {},
   "outputs": [
    {
     "data": {
      "text/plain": [
       "(array([  4.,   1.,   0.,   0.,   1.,   0.,   0.,   0.,   1.,   0.,   1.,\n",
       "          1.,   1.,   0.,   2.,   1.,   5.,   1.,   1.,   0.,   0.,   0.,\n",
       "          0.,   1.,   0.,   0.,   0.,   0.,   0.,   0.,   0.,   0.,   0.,\n",
       "          0.,   0.,   0.,   0.,   0.,   0.,   0.,   1., 161.,   9.,   1.,\n",
       "          1.,   1.,   2.,   2.,   3., 259., 476.,  96.,   7.,  11.,  20.,\n",
       "         14.,   3.,   2.,   5.,   2.,   2.,   1.,   1.,   0.,   0.,   0.,\n",
       "          0.,   0.,   0.,   0.,   0.,   0.,   0.,   0.,   0.,   0.,   1.,\n",
       "          1.,   0.,   0.,   0.,   1.,   0.,   0.,   0.,   0.,   0.,   0.,\n",
       "          0.,   0.,   0.,   0.,   0.,   0.,   0.,   0.,   0.,   0.,   0.,\n",
       "          1.]),\n",
       " array([ 10.  ,  13.01,  16.02,  19.03,  22.04,  25.05,  28.06,  31.07,\n",
       "         34.08,  37.09,  40.1 ,  43.11,  46.12,  49.13,  52.14,  55.15,\n",
       "         58.16,  61.17,  64.18,  67.19,  70.2 ,  73.21,  76.22,  79.23,\n",
       "         82.24,  85.25,  88.26,  91.27,  94.28,  97.29, 100.3 , 103.31,\n",
       "        106.32, 109.33, 112.34, 115.35, 118.36, 121.37, 124.38, 127.39,\n",
       "        130.4 , 133.41, 136.42, 139.43, 142.44, 145.45, 148.46, 151.47,\n",
       "        154.48, 157.49, 160.5 , 163.51, 166.52, 169.53, 172.54, 175.55,\n",
       "        178.56, 181.57, 184.58, 187.59, 190.6 , 193.61, 196.62, 199.63,\n",
       "        202.64, 205.65, 208.66, 211.67, 214.68, 217.69, 220.7 , 223.71,\n",
       "        226.72, 229.73, 232.74, 235.75, 238.76, 241.77, 244.78, 247.79,\n",
       "        250.8 , 253.81, 256.82, 259.83, 262.84, 265.85, 268.86, 271.87,\n",
       "        274.88, 277.89, 280.9 , 283.91, 286.92, 289.93, 292.94, 295.95,\n",
       "        298.96, 301.97, 304.98, 307.99, 311.  ]),\n",
       " <a list of 100 Patch objects>)"
      ]
     },
     "execution_count": 93,
     "metadata": {},
     "output_type": "execute_result"
    },
    {
     "data": {
      "image/png": "[encoded data removed]",
      "text/plain": [
       "<matplotlib.figure.Figure at 0x170e0e07c88>"
      ]
     },
     "metadata": {},
     "output_type": "display_data"
    }
   ],
   "source": [
    "storeWithZeroSales = pre_train[pre_train[\"Sales\"] == 0].groupby(['Store']).Sales.size().sort_values(ascending=False)\n",
    "plt.hist(storeWithZeroSales,100)"
   ]
  },
  {
   "cell_type": "code",
   "execution_count": 94,
   "metadata": {},
   "outputs": [
    {
     "data": {
      "text/plain": [
       "Store\n",
       "103    311\n",
       "708    255\n",
       "349    242\n",
       "972    240\n",
       "674    197\n",
       "Name: Sales, dtype: int64"
      ]
     },
     "execution_count": 94,
     "metadata": {},
     "output_type": "execute_result"
    }
   ],
   "source": [
    "storeWithZeroSales.head()"
   ]
  },
  {
   "cell_type": "code",
   "execution_count": 136,
   "metadata": {},
   "outputs": [
    {
     "data": {
      "image/png": "[encoded data removed]",
      "text/plain": [
       "<matplotlib.figure.Figure at 0x170e1fe0b70>"
      ]
     },
     "metadata": {},
     "output_type": "display_data"
    }
   ],
   "source": [
    "salesByDayStore103 = pre_train[[\"Sales\",\"Date\"]][pre_train[\"Store\"] == 103]\n",
    "\n",
    "l = plt.plot(salesByDayStore103.Date, salesByDayStore103.Sales,'ro',markerfacecolor='none')\n",
    "plt.setp(l, markersize=3)\n",
    "plt.show()"
   ]
  },
  {
   "cell_type": "code",
   "execution_count": 142,
   "metadata": {},
   "outputs": [
    {
     "data": {
      "image/png": "[encoded data removed]",
      "text/plain": [
       "<matplotlib.figure.Figure at 0x170e20f3eb8>"
      ]
     },
     "metadata": {},
     "output_type": "display_data"
    }
   ],
   "source": [
    "salesByDayStore103 = pre_train[[\"Sales\",\"Date\"]][(pre_train[\"Store\"] == 103) & (pre_train[\"Open\"] == 1)]\n",
    "\n",
    "l = plt.plot(salesByDayStore103.Date, salesByDayStore103.Sales,'ro',markerfacecolor='none')\n",
    "plt.setp(l, markersize=3)\n",
    "plt.show()"
   ]
  },
  {
   "cell_type": "code",
   "execution_count": 137,
   "metadata": {},
   "outputs": [
    {
     "data": {
      "text/plain": [
       "[<matplotlib.lines.Line2D at 0x170e1fd5dd8>]"
      ]
     },
     "execution_count": 137,
     "metadata": {},
     "output_type": "execute_result"
    },
    {
     "data": {
      "image/png": "[encoded data removed]",
      "text/plain": [
       "<matplotlib.figure.Figure at 0x170e1d11400>"
      ]
     },
     "metadata": {},
     "output_type": "display_data"
    }
   ],
   "source": [
    "salesByDayStore103 = pre_train[[\"Sales\",\"Date\"]][pre_train[\"Store\"] == 708]\n",
    "\n",
    "plt.plot(salesByDayStore103.Date, salesByDayStore103.Sales,'.b',markerfacecolor='none')"
   ]
  },
  {
   "cell_type": "code",
   "execution_count": 143,
   "metadata": {},
   "outputs": [
    {
     "data": {
      "text/plain": [
       "[<matplotlib.lines.Line2D at 0x170e216aa90>]"
      ]
     },
     "execution_count": 143,
     "metadata": {},
     "output_type": "execute_result"
    },
    {
     "data": {
      "image/png": "[encoded data removed]",
      "text/plain": [
       "<matplotlib.figure.Figure at 0x170e20f3f60>"
      ]
     },
     "metadata": {},
     "output_type": "display_data"
    }
   ],
   "source": [
    "salesByDayStore103 = pre_train[[\"Sales\",\"Date\"]][(pre_train[\"Store\"] == 708) & (pre_train[\"Open\"] == 1)]\n",
    "\n",
    "plt.plot(salesByDayStore103.Date, salesByDayStore103.Sales,'.b',markerfacecolor='none')"
   ]
  },
  {
   "cell_type": "code",
   "execution_count": 161,
   "metadata": {},
   "outputs": [
    {
     "data": {
      "text/plain": [
       "[<matplotlib.lines.Line2D at 0x16fa243e5c0>]"
      ]
     },
     "execution_count": 161,
     "metadata": {},
     "output_type": "execute_result"
    },
    {
     "data": {
      "image/png": "[encoded data removed]",
      "text/plain": [
       "<matplotlib.figure.Figure at 0x170a44b1da0>"
      ]
     },
     "metadata": {},
     "output_type": "display_data"
    }
   ],
   "source": [
    "#Highest sale on sunday and doesnot have 0 sales ; 262\n",
    "salesByDayOnSunday = pre_train[[\"Sales\",\"Date\"]][(pre_train[\"Store\"] == 262) & (pre_train[\"DayOfWeek\"] == 7)]\n",
    "\n",
    "\n",
    "plt.plot(salesByDayOnSunday.Date, salesByDayOnSunday.Sales, 'r+', alpha=1)\n",
    "\n",
    "\n",
    "\n",
    "#Highest sale on sunday and doesnot have 0 sales\n",
    "salesByDayOnSunday = pre_train[[\"Sales\",\"Date\"]][(pre_train[\"Store\"] == 262) & (pre_train[\"DayOfWeek\"] != 7)]\n",
    "\n",
    "plt.plot(salesByDayOnSunday.Date, salesByDayOnSunday.Sales, 'bx', alpha=0.5)\n",
    "\n"
   ]
  },
  {
   "cell_type": "code",
   "execution_count": 174,
   "metadata": {},
   "outputs": [
    {
     "data": {
      "text/plain": [
       "[<matplotlib.lines.Line2D at 0x170e1768400>]"
      ]
     },
     "execution_count": 174,
     "metadata": {},
     "output_type": "execute_result"
    },
    {
     "data": {
      "image/png": "[encoded data removed]",
      "text/plain": [
       "<matplotlib.figure.Figure at 0x16fa1d97080>"
      ]
     },
     "metadata": {},
     "output_type": "display_data"
    }
   ],
   "source": [
    "bp = pre_train[pre_train[\"Sales\"] != 0].boxplot(column='Sales', by='DayOfWeek', grid=True, showfliers=False)\n",
    "#for i in [0, 1]:\n",
    "\n",
    "y = pre_train[pre_train[\"Sales\"] != 0].Sales[pre_train.DayOfWeek==1]\n",
    "# Add some random \"jitter\" to the x-axis\n",
    "x = np.random.normal(1, 0.1, size=len(y))\n",
    "plt.plot(x, y, 'r.', alpha=0.01)\n",
    "\n",
    "y = pre_train[pre_train[\"Sales\"] != 0].Sales[pre_train.DayOfWeek==2]\n",
    "# Add some random \"jitter\" to the x-axis\n",
    "x = np.random.normal(2, 0.1, size=len(y))\n",
    "plt.plot(x, y, 'r.', alpha=0.01)\n",
    "\n",
    "y = pre_train[pre_train[\"Sales\"] != 0].Sales[pre_train.DayOfWeek==3]\n",
    "# Add some random \"jitter\" to the x-axis\n",
    "x = np.random.normal(3, 0.1, size=len(y))\n",
    "plt.plot(x, y, 'r.', alpha=0.01)\n",
    "\n",
    "y = pre_train[pre_train[\"Sales\"] != 0].Sales[pre_train.DayOfWeek==4]\n",
    "# Add some random \"jitter\" to the x-axis\n",
    "x = np.random.normal(4, 0.1, size=len(y))\n",
    "plt.plot(x, y, 'r.', alpha=0.01)\n",
    "\n",
    "y = pre_train[pre_train[\"Sales\"] != 0].Sales[pre_train.DayOfWeek==5]\n",
    "# Add some random \"jitter\" to the x-axis\n",
    "x = np.random.normal(5, 0.1, size=len(y))\n",
    "plt.plot(x, y, 'r.', alpha=0.01)\n",
    "\n",
    "y = pre_train[pre_train[\"Sales\"] != 0].Sales[pre_train.DayOfWeek==6]\n",
    "# Add some random \"jitter\" to the x-axis\n",
    "x = np.random.normal(6, 0.1, size=len(y))\n",
    "plt.plot(x, y, 'r.', alpha=0.01)\n",
    "\n",
    "y = pre_train[pre_train[\"Sales\"] != 0].Sales[pre_train.DayOfWeek==7]\n",
    "# Add some random \"jitter\" to the x-axis\n",
    "x = np.random.normal(7, 0.1, size=len(y))\n",
    "plt.plot(x, y, 'r.', alpha=0.01)\n",
    "\n"
   ]
  },
  {
   "cell_type": "markdown",
   "metadata": {},
   "source": [
    "# Store Data"
   ]
  },
  {
   "cell_type": "code",
   "execution_count": 178,
   "metadata": {},
   "outputs": [
    {
     "data": {
      "text/html": [
       "<div>\n",
       "<style scoped>\n",
       "    .dataframe tbody tr th:only-of-type {\n",
       "        vertical-align: middle;\n",
       "    }\n",
       "\n",
       "    .dataframe tbody tr th {\n",
       "        vertical-align: top;\n",
       "    }\n",
       "\n",
       "    .dataframe thead th {\n",
       "        text-align: right;\n",
       "    }\n",
       "</style>\n",
       "<table border=\"1\" class=\"dataframe\">\n",
       "  <thead>\n",
       "    <tr style=\"text-align: right;\">\n",
       "      <th></th>\n",
       "      <th>Store</th>\n",
       "      <th>StoreType</th>\n",
       "      <th>Assortment</th>\n",
       "      <th>CompetitionDistance</th>\n",
       "      <th>CompetitionOpenSinceMonth</th>\n",
       "      <th>CompetitionOpenSinceYear</th>\n",
       "      <th>Promo2</th>\n",
       "      <th>Promo2SinceWeek</th>\n",
       "      <th>Promo2SinceYear</th>\n",
       "      <th>PromoInterval</th>\n",
       "    </tr>\n",
       "  </thead>\n",
       "  <tbody>\n",
       "    <tr>\n",
       "      <th>count</th>\n",
       "      <td>1115.000000</td>\n",
       "      <td>1115</td>\n",
       "      <td>1115</td>\n",
       "      <td>1112.000000</td>\n",
       "      <td>761.000000</td>\n",
       "      <td>761.000000</td>\n",
       "      <td>1115.000000</td>\n",
       "      <td>571.000000</td>\n",
       "      <td>571.000000</td>\n",
       "      <td>571</td>\n",
       "    </tr>\n",
       "    <tr>\n",
       "      <th>unique</th>\n",
       "      <td>nan</td>\n",
       "      <td>4</td>\n",
       "      <td>3</td>\n",
       "      <td>nan</td>\n",
       "      <td>nan</td>\n",
       "      <td>nan</td>\n",
       "      <td>nan</td>\n",
       "      <td>nan</td>\n",
       "      <td>nan</td>\n",
       "      <td>3</td>\n",
       "    </tr>\n",
       "    <tr>\n",
       "      <th>top</th>\n",
       "      <td>nan</td>\n",
       "      <td>a</td>\n",
       "      <td>a</td>\n",
       "      <td>nan</td>\n",
       "      <td>nan</td>\n",
       "      <td>nan</td>\n",
       "      <td>nan</td>\n",
       "      <td>nan</td>\n",
       "      <td>nan</td>\n",
       "      <td>Jan,Apr,Jul,Oct</td>\n",
       "    </tr>\n",
       "    <tr>\n",
       "      <th>freq</th>\n",
       "      <td>nan</td>\n",
       "      <td>602</td>\n",
       "      <td>593</td>\n",
       "      <td>nan</td>\n",
       "      <td>nan</td>\n",
       "      <td>nan</td>\n",
       "      <td>nan</td>\n",
       "      <td>nan</td>\n",
       "      <td>nan</td>\n",
       "      <td>335</td>\n",
       "    </tr>\n",
       "    <tr>\n",
       "      <th>mean</th>\n",
       "      <td>558.000000</td>\n",
       "      <td>NaN</td>\n",
       "      <td>NaN</td>\n",
       "      <td>5404.901079</td>\n",
       "      <td>7.224704</td>\n",
       "      <td>2008.668857</td>\n",
       "      <td>0.512108</td>\n",
       "      <td>23.595447</td>\n",
       "      <td>2011.763573</td>\n",
       "      <td>NaN</td>\n",
       "    </tr>\n",
       "    <tr>\n",
       "      <th>std</th>\n",
       "      <td>322.017080</td>\n",
       "      <td>NaN</td>\n",
       "      <td>NaN</td>\n",
       "      <td>7663.174720</td>\n",
       "      <td>3.212348</td>\n",
       "      <td>6.195983</td>\n",
       "      <td>0.500078</td>\n",
       "      <td>14.141984</td>\n",
       "      <td>1.674935</td>\n",
       "      <td>NaN</td>\n",
       "    </tr>\n",
       "    <tr>\n",
       "      <th>min</th>\n",
       "      <td>1.000000</td>\n",
       "      <td>NaN</td>\n",
       "      <td>NaN</td>\n",
       "      <td>20.000000</td>\n",
       "      <td>1.000000</td>\n",
       "      <td>1900.000000</td>\n",
       "      <td>0.000000</td>\n",
       "      <td>1.000000</td>\n",
       "      <td>2009.000000</td>\n",
       "      <td>NaN</td>\n",
       "    </tr>\n",
       "    <tr>\n",
       "      <th>25%</th>\n",
       "      <td>279.500000</td>\n",
       "      <td>NaN</td>\n",
       "      <td>NaN</td>\n",
       "      <td>717.500000</td>\n",
       "      <td>4.000000</td>\n",
       "      <td>2006.000000</td>\n",
       "      <td>0.000000</td>\n",
       "      <td>13.000000</td>\n",
       "      <td>2011.000000</td>\n",
       "      <td>NaN</td>\n",
       "    </tr>\n",
       "    <tr>\n",
       "      <th>50%</th>\n",
       "      <td>558.000000</td>\n",
       "      <td>NaN</td>\n",
       "      <td>NaN</td>\n",
       "      <td>2325.000000</td>\n",
       "      <td>8.000000</td>\n",
       "      <td>2010.000000</td>\n",
       "      <td>1.000000</td>\n",
       "      <td>22.000000</td>\n",
       "      <td>2012.000000</td>\n",
       "      <td>NaN</td>\n",
       "    </tr>\n",
       "    <tr>\n",
       "      <th>75%</th>\n",
       "      <td>836.500000</td>\n",
       "      <td>NaN</td>\n",
       "      <td>NaN</td>\n",
       "      <td>6882.500000</td>\n",
       "      <td>10.000000</td>\n",
       "      <td>2013.000000</td>\n",
       "      <td>1.000000</td>\n",
       "      <td>37.000000</td>\n",
       "      <td>2013.000000</td>\n",
       "      <td>NaN</td>\n",
       "    </tr>\n",
       "    <tr>\n",
       "      <th>max</th>\n",
       "      <td>1115.000000</td>\n",
       "      <td>NaN</td>\n",
       "      <td>NaN</td>\n",
       "      <td>75860.000000</td>\n",
       "      <td>12.000000</td>\n",
       "      <td>2015.000000</td>\n",
       "      <td>1.000000</td>\n",
       "      <td>50.000000</td>\n",
       "      <td>2015.000000</td>\n",
       "      <td>NaN</td>\n",
       "    </tr>\n",
       "  </tbody>\n",
       "</table>\n",
       "</div>"
      ],
      "text/plain": [
       "             Store StoreType Assortment  CompetitionDistance  \\\n",
       "count  1115.000000      1115       1115          1112.000000   \n",
       "unique         nan         4          3                  nan   \n",
       "top            nan         a          a                  nan   \n",
       "freq           nan       602        593                  nan   \n",
       "mean    558.000000       NaN        NaN          5404.901079   \n",
       "std     322.017080       NaN        NaN          7663.174720   \n",
       "min       1.000000       NaN        NaN            20.000000   \n",
       "25%     279.500000       NaN        NaN           717.500000   \n",
       "50%     558.000000       NaN        NaN          2325.000000   \n",
       "75%     836.500000       NaN        NaN          6882.500000   \n",
       "max    1115.000000       NaN        NaN         75860.000000   \n",
       "\n",
       "        CompetitionOpenSinceMonth  CompetitionOpenSinceYear      Promo2  \\\n",
       "count                  761.000000                761.000000 1115.000000   \n",
       "unique                        nan                       nan         nan   \n",
       "top                           nan                       nan         nan   \n",
       "freq                          nan                       nan         nan   \n",
       "mean                     7.224704               2008.668857    0.512108   \n",
       "std                      3.212348                  6.195983    0.500078   \n",
       "min                      1.000000               1900.000000    0.000000   \n",
       "25%                      4.000000               2006.000000    0.000000   \n",
       "50%                      8.000000               2010.000000    1.000000   \n",
       "75%                     10.000000               2013.000000    1.000000   \n",
       "max                     12.000000               2015.000000    1.000000   \n",
       "\n",
       "        Promo2SinceWeek  Promo2SinceYear    PromoInterval  \n",
       "count        571.000000       571.000000              571  \n",
       "unique              nan              nan                3  \n",
       "top                 nan              nan  Jan,Apr,Jul,Oct  \n",
       "freq                nan              nan              335  \n",
       "mean          23.595447      2011.763573              NaN  \n",
       "std           14.141984         1.674935              NaN  \n",
       "min            1.000000      2009.000000              NaN  \n",
       "25%           13.000000      2011.000000              NaN  \n",
       "50%           22.000000      2012.000000              NaN  \n",
       "75%           37.000000      2013.000000              NaN  \n",
       "max           50.000000      2015.000000              NaN  "
      ]
     },
     "execution_count": 178,
     "metadata": {},
     "output_type": "execute_result"
    }
   ],
   "source": [
    "store.describe(include='all')"
   ]
  },
  {
   "cell_type": "code",
   "execution_count": 180,
   "metadata": {},
   "outputs": [
    {
     "data": {
      "text/plain": [
       "a    602\n",
       "d    348\n",
       "c    148\n",
       "b     17\n",
       "Name: StoreType, dtype: int64"
      ]
     },
     "execution_count": 180,
     "metadata": {},
     "output_type": "execute_result"
    }
   ],
   "source": [
    "store.StoreType.value_counts()"
   ]
  },
  {
   "cell_type": "code",
   "execution_count": 183,
   "metadata": {},
   "outputs": [
    {
     "data": {
      "text/plain": [
       "a    593\n",
       "c    513\n",
       "b      9\n",
       "Name: Assortment, dtype: int64"
      ]
     },
     "execution_count": 183,
     "metadata": {},
     "output_type": "execute_result"
    }
   ],
   "source": [
    "store.Assortment.value_counts()"
   ]
  },
  {
   "cell_type": "code",
   "execution_count": 184,
   "metadata": {},
   "outputs": [
    {
     "data": {
      "text/plain": [
       "Jan,Apr,Jul,Oct     335\n",
       "Feb,May,Aug,Nov     130\n",
       "Mar,Jun,Sept,Dec    106\n",
       "Name: PromoInterval, dtype: int64"
      ]
     },
     "execution_count": 184,
     "metadata": {},
     "output_type": "execute_result"
    }
   ],
   "source": [
    "store.PromoInterval.value_counts()"
   ]
  },
  {
   "cell_type": "code",
   "execution_count": 194,
   "metadata": {},
   "outputs": [
    {
     "data": {
      "text/html": [
       "<div>\n",
       "<style scoped>\n",
       "    .dataframe tbody tr th:only-of-type {\n",
       "        vertical-align: middle;\n",
       "    }\n",
       "\n",
       "    .dataframe tbody tr th {\n",
       "        vertical-align: top;\n",
       "    }\n",
       "\n",
       "    .dataframe thead th {\n",
       "        text-align: right;\n",
       "    }\n",
       "</style>\n",
       "<table border=\"1\" class=\"dataframe\">\n",
       "  <thead>\n",
       "    <tr style=\"text-align: right;\">\n",
       "      <th>Assortment</th>\n",
       "      <th>a</th>\n",
       "      <th>b</th>\n",
       "      <th>c</th>\n",
       "    </tr>\n",
       "    <tr>\n",
       "      <th>StoreType</th>\n",
       "      <th></th>\n",
       "      <th></th>\n",
       "      <th></th>\n",
       "    </tr>\n",
       "  </thead>\n",
       "  <tbody>\n",
       "    <tr>\n",
       "      <th>a</th>\n",
       "      <td>381</td>\n",
       "      <td>0</td>\n",
       "      <td>221</td>\n",
       "    </tr>\n",
       "    <tr>\n",
       "      <th>b</th>\n",
       "      <td>7</td>\n",
       "      <td>9</td>\n",
       "      <td>1</td>\n",
       "    </tr>\n",
       "    <tr>\n",
       "      <th>c</th>\n",
       "      <td>77</td>\n",
       "      <td>0</td>\n",
       "      <td>71</td>\n",
       "    </tr>\n",
       "    <tr>\n",
       "      <th>d</th>\n",
       "      <td>128</td>\n",
       "      <td>0</td>\n",
       "      <td>220</td>\n",
       "    </tr>\n",
       "  </tbody>\n",
       "</table>\n",
       "</div>"
      ],
      "text/plain": [
       "Assortment    a  b    c\n",
       "StoreType              \n",
       "a           381  0  221\n",
       "b             7  9    1\n",
       "c            77  0   71\n",
       "d           128  0  220"
      ]
     },
     "execution_count": 194,
     "metadata": {},
     "output_type": "execute_result"
    }
   ],
   "source": [
    "pd.crosstab(store.StoreType,store.Assortment)"
   ]
  },
  {
   "cell_type": "code",
   "execution_count": 13,
   "metadata": {},
   "outputs": [
    {
     "data": {
      "text/plain": [
       "1112"
      ]
     },
     "execution_count": 13,
     "metadata": {},
     "output_type": "execute_result"
    }
   ],
   "source": [
    "len(store.CompetitionDistance.dropna())"
   ]
  },
  {
   "cell_type": "code",
   "execution_count": 12,
   "metadata": {
    "scrolled": true
   },
   "outputs": [
    {
     "data": {
      "text/plain": [
       "(array([290., 146., 114.,  81.,  62.,  51.,  35.,  28.,  24.,  23.,  27.,\n",
       "         22.,  19.,  11.,  10.,  10.,   8.,  13.,   9.,  12.,   9.,  10.,\n",
       "         10.,  12.,  11.,   4.,   8.,   5.,   5.,   6.,   1.,   2.,   2.,\n",
       "          2.,   3.,   3.,   2.,   0.,   2.,   2.,   1.,   1.,   2.,   1.,\n",
       "          1.,   0.,   1.,   1.,   0.,   0.,   1.,   1.,   0.,   2.,   0.,\n",
       "          0.,   0.,   0.,   1.,   0.,   1.,   1.,   0.,   1.,   0.,   0.,\n",
       "          0.,   0.,   0.,   0.,   0.,   0.,   0.,   0.,   0.,   0.,   1.,\n",
       "          0.,   0.,   0.,   0.,   0.,   0.,   0.,   0.,   0.,   0.,   0.,\n",
       "          0.,   0.,   0.,   0.,   0.,   0.,   0.,   0.,   0.,   0.,   0.,\n",
       "          1.]),\n",
       " array([2.00000e+01, 7.78400e+02, 1.53680e+03, 2.29520e+03, 3.05360e+03,\n",
       "        3.81200e+03, 4.57040e+03, 5.32880e+03, 6.08720e+03, 6.84560e+03,\n",
       "        7.60400e+03, 8.36240e+03, 9.12080e+03, 9.87920e+03, 1.06376e+04,\n",
       "        1.13960e+04, 1.21544e+04, 1.29128e+04, 1.36712e+04, 1.44296e+04,\n",
       "        1.51880e+04, 1.59464e+04, 1.67048e+04, 1.74632e+04, 1.82216e+04,\n",
       "        1.89800e+04, 1.97384e+04, 2.04968e+04, 2.12552e+04, 2.20136e+04,\n",
       "        2.27720e+04, 2.35304e+04, 2.42888e+04, 2.50472e+04, 2.58056e+04,\n",
       "        2.65640e+04, 2.73224e+04, 2.80808e+04, 2.88392e+04, 2.95976e+04,\n",
       "        3.03560e+04, 3.11144e+04, 3.18728e+04, 3.26312e+04, 3.33896e+04,\n",
       "        3.41480e+04, 3.49064e+04, 3.56648e+04, 3.64232e+04, 3.71816e+04,\n",
       "        3.79400e+04, 3.86984e+04, 3.94568e+04, 4.02152e+04, 4.09736e+04,\n",
       "        4.17320e+04, 4.24904e+04, 4.32488e+04, 4.40072e+04, 4.47656e+04,\n",
       "        4.55240e+04, 4.62824e+04, 4.70408e+04, 4.77992e+04, 4.85576e+04,\n",
       "        4.93160e+04, 5.00744e+04, 5.08328e+04, 5.15912e+04, 5.23496e+04,\n",
       "        5.31080e+04, 5.38664e+04, 5.46248e+04, 5.53832e+04, 5.61416e+04,\n",
       "        5.69000e+04, 5.76584e+04, 5.84168e+04, 5.91752e+04, 5.99336e+04,\n",
       "        6.06920e+04, 6.14504e+04, 6.22088e+04, 6.29672e+04, 6.37256e+04,\n",
       "        6.44840e+04, 6.52424e+04, 6.60008e+04, 6.67592e+04, 6.75176e+04,\n",
       "        6.82760e+04, 6.90344e+04, 6.97928e+04, 7.05512e+04, 7.13096e+04,\n",
       "        7.20680e+04, 7.28264e+04, 7.35848e+04, 7.43432e+04, 7.51016e+04,\n",
       "        7.58600e+04]),\n",
       " <a list of 100 Patch objects>)"
      ]
     },
     "execution_count": 12,
     "metadata": {},
     "output_type": "execute_result"
    },
    {
     "data": {
      "image/png": "[encoded data removed]",
      "text/plain": [
       "<matplotlib.figure.Figure at 0x265dfe70828>"
      ]
     },
     "metadata": {},
     "output_type": "display_data"
    }
   ],
   "source": [
    "plt.hist(store.CompetitionDistance.dropna(), 100)"
   ]
  },
  {
   "cell_type": "code",
   "execution_count": 6,
   "metadata": {},
   "outputs": [
    {
     "name": "stdout",
     "output_type": "stream",
     "text": [
      "monthNullAndYearNotNull 0\n",
      "monthNotNullAndYearNull 0\n"
     ]
    }
   ],
   "source": [
    "monthNullAndYearNotNull = store[[\"CompetitionOpenSinceMonth\", \"CompetitionOpenSinceYear\"]][(store[\"CompetitionOpenSinceMonth\"].isnull()) & (~store[\"CompetitionOpenSinceYear\"].isnull())]\n",
    "monthNotNullAndYearNull = store[[\"CompetitionOpenSinceMonth\", \"CompetitionOpenSinceYear\"]][(~store[\"CompetitionOpenSinceMonth\"].isnull()) & (store[\"CompetitionOpenSinceYear\"].isnull())]\n",
    "\n",
    "print('monthNullAndYearNotNull', len(monthNullAndYearNotNull))\n",
    "print('monthNotNullAndYearNull', len(monthNotNullAndYearNull))"
   ]
  },
  {
   "cell_type": "code",
   "execution_count": 7,
   "metadata": {},
   "outputs": [
    {
     "name": "stdout",
     "output_type": "stream",
     "text": [
      "distanceNullAndYearNotNull 0\n",
      "distanceNotNullAndYearNull 351\n"
     ]
    }
   ],
   "source": [
    "distanceNullAndYearNotNull = store[[\"CompetitionDistance\", \"CompetitionOpenSinceYear\"]][(store[\"CompetitionDistance\"].isnull()) & (~store[\"CompetitionOpenSinceYear\"].isnull())]\n",
    "distanceNotNullAndYearNull = store[[\"CompetitionDistance\", \"CompetitionOpenSinceYear\"]][(~store[\"CompetitionDistance\"].isnull()) & (store[\"CompetitionOpenSinceYear\"].isnull())]\n",
    "print('distanceNullAndYearNotNull', len(distanceNullAndYearNotNull))\n",
    "print('distanceNotNullAndYearNull', len(distanceNotNullAndYearNull))\n"
   ]
  },
  {
   "cell_type": "code",
   "execution_count": 8,
   "metadata": {},
   "outputs": [
    {
     "data": {
      "text/html": [
       "<div>\n",
       "<style scoped>\n",
       "    .dataframe tbody tr th:only-of-type {\n",
       "        vertical-align: middle;\n",
       "    }\n",
       "\n",
       "    .dataframe tbody tr th {\n",
       "        vertical-align: top;\n",
       "    }\n",
       "\n",
       "    .dataframe thead th {\n",
       "        text-align: right;\n",
       "    }\n",
       "</style>\n",
       "<table border=\"1\" class=\"dataframe\">\n",
       "  <thead>\n",
       "    <tr style=\"text-align: right;\">\n",
       "      <th></th>\n",
       "      <th>CompetitionDistance</th>\n",
       "      <th>CompetitionOpenSinceYear</th>\n",
       "    </tr>\n",
       "  </thead>\n",
       "  <tbody>\n",
       "    <tr>\n",
       "      <th>11</th>\n",
       "      <td>1070.000000</td>\n",
       "      <td>NaN</td>\n",
       "    </tr>\n",
       "    <tr>\n",
       "      <th>12</th>\n",
       "      <td>310.000000</td>\n",
       "      <td>NaN</td>\n",
       "    </tr>\n",
       "    <tr>\n",
       "      <th>15</th>\n",
       "      <td>3270.000000</td>\n",
       "      <td>NaN</td>\n",
       "    </tr>\n",
       "    <tr>\n",
       "      <th>18</th>\n",
       "      <td>3240.000000</td>\n",
       "      <td>NaN</td>\n",
       "    </tr>\n",
       "    <tr>\n",
       "      <th>21</th>\n",
       "      <td>1040.000000</td>\n",
       "      <td>NaN</td>\n",
       "    </tr>\n",
       "  </tbody>\n",
       "</table>\n",
       "</div>"
      ],
      "text/plain": [
       "    CompetitionDistance CompetitionOpenSinceYear\n",
       "11          1070.000000                      NaN\n",
       "12           310.000000                      NaN\n",
       "15          3270.000000                      NaN\n",
       "18          3240.000000                      NaN\n",
       "21          1040.000000                      NaN"
      ]
     },
     "execution_count": 8,
     "metadata": {},
     "output_type": "execute_result"
    }
   ],
   "source": [
    "# some of row have distance but doesn't have year and month\n",
    "# we have to fix it later.\n",
    "distanceNotNullAndYearNull.head()"
   ]
  },
  {
   "cell_type": "code",
   "execution_count": null,
   "metadata": {},
   "outputs": [],
   "source": []
  },
  {
   "cell_type": "code",
   "execution_count": 5,
   "metadata": {},
   "outputs": [],
   "source": [
    "competitionOpenYearMonth = store.CompetitionOpenSinceYear.str.cat(store.CompetitionOpenSinceMonth)\n",
    "competitionOpenYearMonth = pd.to_datetime(competitionOpenYearMonth.dropna(), format='%Y%m', errors='ignore').dt.to_period('M')"
   ]
  },
  {
   "cell_type": "code",
   "execution_count": 6,
   "metadata": {},
   "outputs": [
    {
     "data": {
      "text/plain": [
       "0   2008-09\n",
       "1   2007-11\n",
       "2   2006-12\n",
       "3   2009-09\n",
       "4   2015-04\n",
       "Name: CompetitionOpenSinceYear, dtype: object"
      ]
     },
     "execution_count": 6,
     "metadata": {},
     "output_type": "execute_result"
    }
   ],
   "source": [
    "competitionOpenYearMonth.head()"
   ]
  },
  {
   "cell_type": "code",
   "execution_count": 82,
   "metadata": {},
   "outputs": [],
   "source": [
    "newestCompetitionYearMonth = competitionOpenYearMonth.sort_values(ascending = False).iloc[0]"
   ]
  },
  {
   "cell_type": "code",
   "execution_count": 84,
   "metadata": {},
   "outputs": [],
   "source": [
    "openSinceInMonth = newestCompetitionYearMonth - competitionOpenYearMonth"
   ]
  },
  {
   "cell_type": "code",
   "execution_count": 85,
   "metadata": {},
   "outputs": [
    {
     "data": {
      "text/plain": [
       "(array([ 77.,  87., 105.,  58.,  61.,  72.,  55.,  54.,  70.,  30.,  22.,\n",
       "         30.,  18.,   9.,   2.,   0.,   0.,   4.,   0.,   0.,   0.,   5.,\n",
       "          0.,   0.,   0.,   0.,   0.,   0.,   0.,   0.,   0.,   0.,   0.,\n",
       "          0.,   0.,   0.,   0.,   0.,   0.,   0.,   0.,   0.,   0.,   0.,\n",
       "          0.,   0.,   1.,   0.,   0.,   0.,   0.,   0.,   0.,   0.,   0.,\n",
       "          0.,   0.,   0.,   0.,   0.,   0.,   0.,   0.,   0.,   0.,   0.,\n",
       "          0.,   0.,   0.,   0.,   0.,   0.,   0.,   0.,   0.,   0.,   0.,\n",
       "          0.,   0.,   0.,   0.,   0.,   0.,   0.,   0.,   0.,   0.,   0.,\n",
       "          0.,   0.,   0.,   0.,   0.,   0.,   0.,   0.,   0.,   0.,   0.,\n",
       "          1.]),\n",
       " array([   0.  ,   13.87,   27.74,   41.61,   55.48,   69.35,   83.22,\n",
       "          97.09,  110.96,  124.83,  138.7 ,  152.57,  166.44,  180.31,\n",
       "         194.18,  208.05,  221.92,  235.79,  249.66,  263.53,  277.4 ,\n",
       "         291.27,  305.14,  319.01,  332.88,  346.75,  360.62,  374.49,\n",
       "         388.36,  402.23,  416.1 ,  429.97,  443.84,  457.71,  471.58,\n",
       "         485.45,  499.32,  513.19,  527.06,  540.93,  554.8 ,  568.67,\n",
       "         582.54,  596.41,  610.28,  624.15,  638.02,  651.89,  665.76,\n",
       "         679.63,  693.5 ,  707.37,  721.24,  735.11,  748.98,  762.85,\n",
       "         776.72,  790.59,  804.46,  818.33,  832.2 ,  846.07,  859.94,\n",
       "         873.81,  887.68,  901.55,  915.42,  929.29,  943.16,  957.03,\n",
       "         970.9 ,  984.77,  998.64, 1012.51, 1026.38, 1040.25, 1054.12,\n",
       "        1067.99, 1081.86, 1095.73, 1109.6 , 1123.47, 1137.34, 1151.21,\n",
       "        1165.08, 1178.95, 1192.82, 1206.69, 1220.56, 1234.43, 1248.3 ,\n",
       "        1262.17, 1276.04, 1289.91, 1303.78, 1317.65, 1331.52, 1345.39,\n",
       "        1359.26, 1373.13, 1387.  ]),\n",
       " <a list of 100 Patch objects>)"
      ]
     },
     "execution_count": 85,
     "metadata": {},
     "output_type": "execute_result"
    },
    {
     "data": {
      "image/png": "[encoded data removed]",
      "text/plain": [
       "<matplotlib.figure.Figure at 0x24e716edba8>"
      ]
     },
     "metadata": {},
     "output_type": "display_data"
    }
   ],
   "source": [
    "openSinceInMonth = openSinceInMonth.astype('int32')\n",
    "plt.hist(openSinceInMonth,100)"
   ]
  },
  {
   "cell_type": "code",
   "execution_count": 17,
   "metadata": {},
   "outputs": [
    {
     "name": "stdout",
     "output_type": "stream",
     "text": [
      "promoWeekNullAndYearNotNull 0\n",
      "promoWeekNotNullAndYearNull 0\n"
     ]
    }
   ],
   "source": [
    "promoWeekNullAndYearNotNull = store[[\"Promo2SinceWeek\", \"Promo2SinceYear\"]][(store[\"Promo2SinceWeek\"].isnull()) & (~store[\"Promo2SinceYear\"].isnull())]\n",
    "promoWeekNotNullAndYearNull = store[[\"Promo2SinceWeek\", \"Promo2SinceYear\"]][(~store[\"Promo2SinceWeek\"].isnull()) & (store[\"Promo2SinceYear\"].isnull())]\n",
    "\n",
    "print('promoWeekNullAndYearNotNull', len(promoWeekNullAndYearNotNull))\n",
    "print('promoWeekNotNullAndYearNull', len(promoWeekNotNullAndYearNull))"
   ]
  },
  {
   "cell_type": "code",
   "execution_count": 20,
   "metadata": {},
   "outputs": [
    {
     "name": "stdout",
     "output_type": "stream",
     "text": [
      "promoUseAndYearNull 0\n",
      "promoNotUseAndYearNotNull 0\n"
     ]
    }
   ],
   "source": [
    "promoUseAndYearNull = store[[\"Promo2\", \"Promo2SinceYear\"]][(store[\"Promo2\"] == 1) & (store[\"Promo2SinceYear\"].isnull())]\n",
    "promoNotUseAndYearNotNull = store[[\"Promo2\", \"Promo2SinceYear\"]][(store[\"Promo2\"] == 0) & (~store[\"Promo2SinceYear\"].isnull())]\n",
    "print('promoUseAndYearNull', len(promoUseAndYearNull))\n",
    "print('promoNotUseAndYearNotNull', len(promoNotUseAndYearNotNull))\n"
   ]
  },
  {
   "cell_type": "code",
   "execution_count": 145,
   "metadata": {},
   "outputs": [
    {
     "name": "stdout",
     "output_type": "stream",
     "text": [
      "promoUseAndIntervalNull 0\n",
      "promoNotUseAndIntervalNotNull 0\n"
     ]
    }
   ],
   "source": [
    "promoUseAndIntervalNull = store[[\"Promo2\", \"PromoInterval\"]][(store[\"Promo2\"] == 1) & (store[\"PromoInterval\"].isnull())]\n",
    "promoNotUseAndIntervalNotNull = store[[\"Promo2\", \"PromoInterval\"]][(store[\"Promo2\"] == 0) & (~store[\"PromoInterval\"].isnull())]\n",
    "print('promoUseAndIntervalNull', len(promoUseAndIntervalNull))\n",
    "print('promoNotUseAndIntervalNotNull', len(promoNotUseAndIntervalNotNull))\n"
   ]
  },
  {
   "cell_type": "code",
   "execution_count": 131,
   "metadata": {},
   "outputs": [],
   "source": [
    "promoStartYearMonth = store[(store[\"Promo2\"] == 1)][['Promo2SinceYear','Promo2SinceWeek']]\n",
    "#Weekday will start on monday.\n",
    "promoStartYearMonth = pd.to_datetime(promoStartYearMonth.Promo2SinceWeek.astype(str)+\n",
    "                          promoStartYearMonth.Promo2SinceYear.astype(str).add('-1') ,format='%W%Y-%w')\n",
    "    \n"
   ]
  },
  {
   "cell_type": "code",
   "execution_count": 132,
   "metadata": {
    "scrolled": true
   },
   "outputs": [
    {
     "data": {
      "text/plain": [
       "1    2010-03-29\n",
       "2    2011-04-04\n",
       "10   2012-01-02\n",
       "11   2010-03-29\n",
       "12   2009-11-09\n",
       "dtype: datetime64[ns]"
      ]
     },
     "execution_count": 132,
     "metadata": {},
     "output_type": "execute_result"
    }
   ],
   "source": [
    "promoStartYearMonth.head()"
   ]
  },
  {
   "cell_type": "code",
   "execution_count": 126,
   "metadata": {},
   "outputs": [
    {
     "data": {
      "text/plain": [
       "pandas.core.series.Series"
      ]
     },
     "execution_count": 126,
     "metadata": {},
     "output_type": "execute_result"
    }
   ],
   "source": [
    "type(promoStartYearMonth)"
   ]
  },
  {
   "cell_type": "code",
   "execution_count": 133,
   "metadata": {
    "scrolled": true
   },
   "outputs": [],
   "source": [
    "newestPromoStartYearMonth = pd.to_datetime(promoStartYearMonth.sort_values(ascending = False).iloc[0])"
   ]
  },
  {
   "cell_type": "code",
   "execution_count": 138,
   "metadata": {},
   "outputs": [
    {
     "data": {
      "text/plain": [
       "1      1897 days\n",
       "2      1526 days\n",
       "10     1253 days\n",
       "11     1897 days\n",
       "12     2037 days\n",
       "13     1344 days\n",
       "14     1526 days\n",
       "16     1806 days\n",
       "17     1162 days\n",
       "18     1470 days\n",
       "19      245 days\n",
       "20     2037 days\n",
       "21     1106 days\n",
       "23     1344 days\n",
       "26     1589 days\n",
       "27      119 days\n",
       "29      455 days\n",
       "31     2037 days\n",
       "34     1253 days\n",
       "35      245 days\n",
       "38      672 days\n",
       "39     2037 days\n",
       "40      672 days\n",
       "41     1344 days\n",
       "42     2093 days\n",
       "45     1526 days\n",
       "46      791 days\n",
       "50     1561 days\n",
       "51     1715 days\n",
       "53      854 days\n",
       "          ...   \n",
       "1068   1526 days\n",
       "1070   1015 days\n",
       "1071   1953 days\n",
       "1072    952 days\n",
       "1073   1526 days\n",
       "1075    882 days\n",
       "1076   1743 days\n",
       "1077   1344 days\n",
       "1078   2093 days\n",
       "1079    245 days\n",
       "1082    854 days\n",
       "1083   1897 days\n",
       "1085   1498 days\n",
       "1087    700 days\n",
       "1089   1526 days\n",
       "1091    245 days\n",
       "1093    245 days\n",
       "1094   1526 days\n",
       "1095    455 days\n",
       "1098    791 days\n",
       "1099   1526 days\n",
       "1101    245 days\n",
       "1102    854 days\n",
       "1103   1526 days\n",
       "1104    854 days\n",
       "1105    672 days\n",
       "1106   1897 days\n",
       "1108   1106 days\n",
       "1110    672 days\n",
       "1114   1106 days\n",
       "Length: 571, dtype: timedelta64[ns]"
      ]
     },
     "execution_count": 138,
     "metadata": {},
     "output_type": "execute_result"
    }
   ],
   "source": [
    "newestPromoStartYearMonth - promoStartYearMonth"
   ]
  },
  {
   "cell_type": "code",
   "execution_count": 141,
   "metadata": {},
   "outputs": [
    {
     "data": {
      "text/plain": [
       "(array([ 3.,  2.,  4.,  0.,  0.,  1.,  0.,  0.,  1.,  3.,  0., 48.,  0.,\n",
       "         0.,  0.,  0.,  0.,  1.,  6.,  0.,  1., 32.,  0.,  0.,  3.,  0.,\n",
       "         1.,  0.,  2., 10.,  0., 37.,  4.,  0.,  1.,  2.,  0.,  7., 10.,\n",
       "         0., 33., 13.,  0.,  4.,  2., 11.,  0.,  7.,  0.,  1.,  5., 25.,\n",
       "         0.,  1.,  6.,  0.,  0.,  0., 19.,  0.,  4.,  0., 16.,  0.,  4.,\n",
       "         0.,  0.,  2.,  8.,  0., 14., 63.,  0., 14.,  3.,  0.,  1.,  1.,\n",
       "         1.,  0.,  5., 14.,  0.,  0.,  1.,  0.,  0.,  4., 34.,  0.,  0.,\n",
       "         3.,  0.,  0.,  0., 30.,  0.,  1., 35.,  7.]),\n",
       " array([   0.  ,   21.35,   42.7 ,   64.05,   85.4 ,  106.75,  128.1 ,\n",
       "         149.45,  170.8 ,  192.15,  213.5 ,  234.85,  256.2 ,  277.55,\n",
       "         298.9 ,  320.25,  341.6 ,  362.95,  384.3 ,  405.65,  427.  ,\n",
       "         448.35,  469.7 ,  491.05,  512.4 ,  533.75,  555.1 ,  576.45,\n",
       "         597.8 ,  619.15,  640.5 ,  661.85,  683.2 ,  704.55,  725.9 ,\n",
       "         747.25,  768.6 ,  789.95,  811.3 ,  832.65,  854.  ,  875.35,\n",
       "         896.7 ,  918.05,  939.4 ,  960.75,  982.1 , 1003.45, 1024.8 ,\n",
       "        1046.15, 1067.5 , 1088.85, 1110.2 , 1131.55, 1152.9 , 1174.25,\n",
       "        1195.6 , 1216.95, 1238.3 , 1259.65, 1281.  , 1302.35, 1323.7 ,\n",
       "        1345.05, 1366.4 , 1387.75, 1409.1 , 1430.45, 1451.8 , 1473.15,\n",
       "        1494.5 , 1515.85, 1537.2 , 1558.55, 1579.9 , 1601.25, 1622.6 ,\n",
       "        1643.95, 1665.3 , 1686.65, 1708.  , 1729.35, 1750.7 , 1772.05,\n",
       "        1793.4 , 1814.75, 1836.1 , 1857.45, 1878.8 , 1900.15, 1921.5 ,\n",
       "        1942.85, 1964.2 , 1985.55, 2006.9 , 2028.25, 2049.6 , 2070.95,\n",
       "        2092.3 , 2113.65, 2135.  ]),\n",
       " <a list of 100 Patch objects>)"
      ]
     },
     "execution_count": 141,
     "metadata": {},
     "output_type": "execute_result"
    },
    {
     "data": {
      "image/png": "[encoded data removed]",
      "text/plain": [
       "<matplotlib.figure.Figure at 0x24e71abcc18>"
      ]
     },
     "metadata": {},
     "output_type": "display_data"
    }
   ],
   "source": [
    "promoSinceInMonth = newestPromoStartYearMonth - promoStartYearMonth\n",
    "promoSinceInMonth = promoSinceInMonth.astype('timedelta64[D]')\n",
    "plt.hist(promoSinceInMonth,100)"
   ]
  },
  {
   "cell_type": "code",
   "execution_count": null,
   "metadata": {},
   "outputs": [],
   "source": []
  },
  {
   "cell_type": "code",
   "execution_count": 142,
   "metadata": {},
   "outputs": [
    {
     "data": {
      "text/plain": [
       "Jan,Apr,Jul,Oct     335\n",
       "Feb,May,Aug,Nov     130\n",
       "Mar,Jun,Sept,Dec    106\n",
       "Name: PromoInterval, dtype: int64"
      ]
     },
     "execution_count": 142,
     "metadata": {},
     "output_type": "execute_result"
    }
   ],
   "source": [
    "store.PromoInterval.value_counts()"
   ]
  },
  {
   "cell_type": "code",
   "execution_count": 378,
   "metadata": {},
   "outputs": [
    {
     "data": {
      "text/plain": [
       "[<matplotlib.lines.Line2D at 0x4ea10478c50>]"
      ]
     },
     "execution_count": 378,
     "metadata": {},
     "output_type": "execute_result"
    },
    {
     "data": {
      "image/png": "[encoded data removed]",
      "text/plain": [
       "<matplotlib.figure.Figure at 0x24e71e825c0>"
      ]
     },
     "metadata": {},
     "output_type": "display_data"
    }
   ],
   "source": [
    "saleAndStore = pd.merge(pre_train, store, on='Store')\n",
    "saleAndStore = saleAndStore.fillna({'PromoInterval': 'None'})\n",
    "bp = saleAndStore[saleAndStore[\"Sales\"] != 0].boxplot(column='Sales', by='PromoInterval', grid=True, showfliers=False)\n",
    "#for i in [0, 1]:\n",
    "\n",
    "\n",
    "\n",
    "\n",
    "y = saleAndStore[saleAndStore[\"Sales\"] != 0].Sales[saleAndStore.PromoInterval=='Feb,May,Aug,Nov']\n",
    "# Add some random \"jitter\" to the x-axis\n",
    "x = np.random.normal(1, 0.1, size=len(y))\n",
    "plt.plot(x, y, 'r.', alpha=0.01)\n",
    "\n",
    "y = saleAndStore[saleAndStore[\"Sales\"] != 0].Sales[saleAndStore.PromoInterval=='Jan,Apr,Jul,Oct']\n",
    "# Add some random \"jitter\" to the x-axis\n",
    "x = np.random.normal(2, 0.1, size=len(y))\n",
    "plt.plot(x, y, 'r.', alpha=0.01)\n",
    "\n",
    "y = saleAndStore[saleAndStore[\"Sales\"] != 0].Sales[saleAndStore.PromoInterval=='Mar,Jun,Sept,Dec']\n",
    "# Add some random \"jitter\" to the x-axis\n",
    "x = np.random.normal(3, 0.1, size=len(y))\n",
    "plt.plot(x, y, 'r.', alpha=0.01)\n",
    "\n",
    "y = saleAndStore[saleAndStore[\"Sales\"] != 0].Sales[saleAndStore.PromoInterval== 'None']\n",
    "# Add some random \"jitter\" to the x-axis\n",
    "x = np.random.normal(4, 0.1, size=len(y))\n",
    "plt.plot(x, y, 'r.', alpha=0.01)\n"
   ]
  },
  {
   "cell_type": "code",
   "execution_count": 299,
   "metadata": {},
   "outputs": [
    {
     "data": {
      "text/plain": [
       "[<matplotlib.lines.Line2D at 0x24e13479780>]"
      ]
     },
     "execution_count": 299,
     "metadata": {},
     "output_type": "execute_result"
    },
    {
     "data": {
      "image/png": "[encoded data removed]",
      "text/plain": [
       "<matplotlib.figure.Figure at 0x24e1341b6a0>"
      ]
     },
     "metadata": {},
     "output_type": "display_data"
    }
   ],
   "source": [
    "from statsmodels.nonparametric.smoothers_lowess import lowess\n",
    "\n",
    "saleDateByStore = saleAndStore[(saleAndStore[\"Sales\"] != 0)][[\"StoreType\",\"Date\",\"Sales\"]]\n",
    "saleDateByStore = saleDateByStore.groupby(['StoreType','Date']).Sales.mean().reset_index()\n",
    "saleDateByStoreA = saleDateByStore[saleDateByStore[\"StoreType\"] == 'a'][['Date','Sales']]\n",
    "saleDateByStoreB = saleDateByStore[saleDateByStore[\"StoreType\"] == 'b'][['Date','Sales']]\n",
    "saleDateByStoreC = saleDateByStore[saleDateByStore[\"StoreType\"] == 'c'][['Date','Sales']]\n",
    "saleDateByStoreD = saleDateByStore[saleDateByStore[\"StoreType\"] == 'd'][['Date','Sales']]\n",
    "\n",
    "filteredA = lowess(saleDateByStoreA.Sales, saleDateByStoreA.Date, is_sorted=False, frac=0.2, it=0)\n",
    "filteredB = lowess(saleDateByStoreB.Sales, saleDateByStoreB.Date, is_sorted=False, frac=0.2, it=0)\n",
    "filteredC = lowess(saleDateByStoreC.Sales, saleDateByStoreC.Date, is_sorted=False, frac=0.2, it=0)\n",
    "filteredD = lowess(saleDateByStoreD.Sales, saleDateByStoreD.Date, is_sorted=False, frac=0.2, it=0)\n",
    "\n",
    "plt.plot(pd.to_datetime(filteredA[:,0]), filteredA[:,1], 'r')\n",
    "plt.plot(pd.to_datetime(filteredB[:,0]), filteredB[:,1], 'g')\n",
    "plt.plot(pd.to_datetime(filteredC[:,0]), filteredC[:,1], 'b')\n",
    "plt.plot(pd.to_datetime(filteredD[:,0]), filteredD[:,1], 'y')\n",
    "\n",
    "#x_smooth = np.linspace(saleDateByStore.Date.min().value, saleDateByStore.Date.max().value, 100)\n",
    "#yhat = savitzky_golay(saleDateByStore.Sales, 51, 3)\n",
    "#plt.plot(x_smooth, yhat,'-b')"
   ]
  },
  {
   "cell_type": "code",
   "execution_count": 301,
   "metadata": {},
   "outputs": [
    {
     "data": {
      "text/plain": [
       "[<matplotlib.lines.Line2D at 0x24e134dffd0>]"
      ]
     },
     "execution_count": 301,
     "metadata": {},
     "output_type": "execute_result"
    },
    {
     "data": {
      "image/png": "[encoded data removed]",
      "text/plain": [
       "<matplotlib.figure.Figure at 0x24e134b3f60>"
      ]
     },
     "metadata": {},
     "output_type": "display_data"
    }
   ],
   "source": [
    "customerDateByStore = saleAndStore[(saleAndStore[\"Customers\"] != 0)][[\"StoreType\",\"Date\",\"Customers\"]]\n",
    "customerDateByStore = customerDateByStore.groupby(['StoreType','Date']).Customers.mean().reset_index()\n",
    "customerDateByStoreA = customerDateByStore[customerDateByStore[\"StoreType\"] == 'a'][['Date','Customers']]\n",
    "customerDateByStoreB = customerDateByStore[customerDateByStore[\"StoreType\"] == 'b'][['Date','Customers']]\n",
    "customerDateByStoreC = customerDateByStore[customerDateByStore[\"StoreType\"] == 'c'][['Date','Customers']]\n",
    "customerDateByStoreD = customerDateByStore[customerDateByStore[\"StoreType\"] == 'd'][['Date','Customers']]\n",
    "\n",
    "filteredA = lowess(customerDateByStoreA.Customers, customerDateByStoreA.Date, is_sorted=False, frac=0.2, it=0)\n",
    "filteredB = lowess(customerDateByStoreB.Customers, customerDateByStoreB.Date, is_sorted=False, frac=0.2, it=0)\n",
    "filteredC = lowess(customerDateByStoreC.Customers, customerDateByStoreC.Date, is_sorted=False, frac=0.2, it=0)\n",
    "filteredD = lowess(customerDateByStoreD.Customers, customerDateByStoreD.Date, is_sorted=False, frac=0.2, it=0)\n",
    "\n",
    "plt.plot(pd.to_datetime(filteredA[:,0]), filteredA[:,1], 'r')\n",
    "plt.plot(pd.to_datetime(filteredB[:,0]), filteredB[:,1], 'g')\n",
    "plt.plot(pd.to_datetime(filteredC[:,0]), filteredC[:,1], 'b')\n",
    "plt.plot(pd.to_datetime(filteredD[:,0]), filteredD[:,1], 'y')"
   ]
  },
  {
   "cell_type": "code",
   "execution_count": 305,
   "metadata": {},
   "outputs": [
    {
     "data": {
      "text/plain": [
       "[<matplotlib.lines.Line2D at 0x24e13a779e8>]"
      ]
     },
     "execution_count": 305,
     "metadata": {},
     "output_type": "execute_result"
    },
    {
     "data": {
      "image/png": "[encoded data removed]",
      "text/plain": [
       "<matplotlib.figure.Figure at 0x24e13488e48>"
      ]
     },
     "metadata": {},
     "output_type": "display_data"
    }
   ],
   "source": [
    "saleDateByAssortment = saleAndStore[(saleAndStore[\"Sales\"] != 0)][[\"Assortment\",\"Date\",\"Sales\"]]\n",
    "saleDateByAssortment = saleDateByAssortment.groupby(['Assortment','Date']).Sales.mean().reset_index()\n",
    "saleDateByAssortmentA = saleDateByAssortment[saleDateByAssortment[\"Assortment\"] == 'a'][['Date','Sales']]\n",
    "saleDateByAssortmentB = saleDateByAssortment[saleDateByAssortment[\"Assortment\"] == 'b'][['Date','Sales']]\n",
    "saleDateByAssortmentC = saleDateByAssortment[saleDateByAssortment[\"Assortment\"] == 'c'][['Date','Sales']]\n",
    "\n",
    "filteredA = lowess(saleDateByAssortmentA.Sales, saleDateByAssortmentA.Date, is_sorted=False, frac=0.2, it=0)\n",
    "filteredB = lowess(saleDateByAssortmentB.Sales, saleDateByAssortmentB.Date, is_sorted=False, frac=0.2, it=0)\n",
    "filteredC = lowess(saleDateByAssortmentC.Sales, saleDateByAssortmentC.Date, is_sorted=False, frac=0.2, it=0)\n",
    "\n",
    "plt.plot(pd.to_datetime(filteredA[:,0]), filteredA[:,1], 'r')\n",
    "plt.plot(pd.to_datetime(filteredB[:,0]), filteredB[:,1], 'g')\n",
    "plt.plot(pd.to_datetime(filteredC[:,0]), filteredC[:,1], 'b')"
   ]
  },
  {
   "cell_type": "code",
   "execution_count": 310,
   "metadata": {},
   "outputs": [
    {
     "data": {
      "text/plain": [
       "[<matplotlib.lines.Line2D at 0x24e182bcdd8>]"
      ]
     },
     "execution_count": 310,
     "metadata": {},
     "output_type": "execute_result"
    },
    {
     "data": {
      "image/png": "[encoded data removed]",
      "text/plain": [
       "<matplotlib.figure.Figure at 0x24e17213320>"
      ]
     },
     "metadata": {},
     "output_type": "display_data"
    }
   ],
   "source": [
    "customerDateByAssortment = saleAndStore[(saleAndStore[\"Customers\"] != 0)][[\"Assortment\",\"Date\",\"Customers\"]]\n",
    "customerDateByAssortment = customerDateByAssortment.groupby(['Assortment','Date']).Customers.mean().reset_index()\n",
    "customerDateByAssortmentA = customerDateByAssortment[customerDateByAssortment[\"Assortment\"] == 'a'][['Date','Customers']]\n",
    "customerDateByAssortmentB = customerDateByAssortment[customerDateByAssortment[\"Assortment\"] == 'b'][['Date','Customers']]\n",
    "customerDateByAssortmentC = customerDateByAssortment[customerDateByAssortment[\"Assortment\"] == 'c'][['Date','Customers']]\n",
    "\n",
    "filteredA = lowess(customerDateByAssortmentA.Customers, customerDateByAssortmentA.Date, is_sorted=False, frac=0.3, it=0)\n",
    "filteredB = lowess(customerDateByAssortmentB.Customers, customerDateByAssortmentB.Date, is_sorted=False, frac=0.3, it=0)\n",
    "filteredC = lowess(customerDateByAssortmentC.Customers, customerDateByAssortmentC.Date, is_sorted=False, frac=0.3, it=0)\n",
    "\n",
    "plt.plot(pd.to_datetime(filteredA[:,0]), filteredA[:,1], 'r')\n",
    "plt.plot(pd.to_datetime(filteredB[:,0]), filteredB[:,1], 'g')\n",
    "plt.plot(pd.to_datetime(filteredC[:,0]), filteredC[:,1], 'b')"
   ]
  },
  {
   "cell_type": "code",
   "execution_count": null,
   "metadata": {},
   "outputs": [],
   "source": []
  },
  {
   "cell_type": "code",
   "execution_count": 328,
   "metadata": {},
   "outputs": [
    {
     "data": {
      "text/plain": [
       "[<matplotlib.lines.Line2D at 0x24e18333978>]"
      ]
     },
     "execution_count": 328,
     "metadata": {},
     "output_type": "execute_result"
    },
    {
     "data": {
      "image/png": "[encoded data removed]",
      "text/plain": [
       "<matplotlib.figure.Figure at 0x24e139ea048>"
      ]
     },
     "metadata": {},
     "output_type": "display_data"
    }
   ],
   "source": [
    "sale_and_distance = saleAndStore[[\"Sales\",\"CompetitionDistance\"]][(saleAndStore[\"Sales\"] != 0) & (~saleAndStore[\"CompetitionDistance\"].isnull())].groupby(['CompetitionDistance']).Sales.mean().reset_index()\n",
    "\n",
    "x = np.log(sale_and_distance.CompetitionDistance)\n",
    "y = np.log(sale_and_distance.Sales)\n",
    "\n",
    "plt.plot(x, y, '.b')\n",
    "\n",
    "filtered = lowess(y, x, is_sorted=False, frac=0.3, it=0)\n",
    "\n",
    "plt.plot(filtered[:,0], filtered[:,1], 'r')"
   ]
  },
  {
   "cell_type": "code",
   "execution_count": 361,
   "metadata": {},
   "outputs": [
    {
     "name": "stderr",
     "output_type": "stream",
     "text": [
      "D:\\Anaconda3\\lib\\site-packages\\ipykernel_launcher.py:3: SettingWithCopyWarning: \n",
      "A value is trying to be set on a copy of a slice from a DataFrame.\n",
      "Try using .loc[row_indexer,col_indexer] = value instead\n",
      "\n",
      "See the caveats in the documentation: http://pandas.pydata.org/pandas-docs/stable/indexing.html#indexing-view-versus-copy\n",
      "  This is separate from the ipykernel package so we can avoid doing imports until\n"
     ]
    },
    {
     "data": {
      "text/plain": [
       "[<matplotlib.lines.Line2D at 0x24e5cd47f98>]"
      ]
     },
     "execution_count": 361,
     "metadata": {},
     "output_type": "execute_result"
    },
    {
     "data": {
      "image/png": "[encoded data removed]",
      "text/plain": [
       "<matplotlib.figure.Figure at 0x24e1833e5c0>"
      ]
     },
     "metadata": {},
     "output_type": "display_data"
    }
   ],
   "source": [
    "SalesAndCompetition = saleAndStore[['Sales','CompetitionOpenSinceYear']]\n",
    "\n",
    "SalesAndCompetition['isCompetition'] = np.where(~SalesAndCompetition['CompetitionOpenSinceYear'].isnull(), 1, 0)\n",
    "\n",
    "#data.loc[data['id'] > 2000, \"first_name\"] = \"John\"\n",
    "\n",
    "#SalesAndCompetition.loc[:,idx['A',:]]<0\n",
    "\n",
    "#SalesAndCompetition.columns = ['Sales', 'isCompetition']\n",
    "#SalesAndCompetition = SalesAndCompetition.rename(index=str, columns={\"CompetitionOpenSinceYear\": \"isCompetition\"})\n",
    "\n",
    "bp = SalesAndCompetition[SalesAndCompetition[\"Sales\"] != 0].boxplot(column='Sales', by='isCompetition', grid=True, showfliers=False)\n",
    "\n",
    "y = saleAndStore[SalesAndCompetition[\"Sales\"] != 0].Sales[SalesAndCompetition.isCompetition==0]\n",
    "# Add some random \"jitter\" to the x-axis\n",
    "x = np.random.normal(1, 0.1, size=len(y))\n",
    "plt.plot(x, y, 'r.', alpha=0.01)\n",
    "\n",
    "y = saleAndStore[SalesAndCompetition[\"Sales\"] != 0].Sales[SalesAndCompetition.isCompetition==1]\n",
    "# Add some random \"jitter\" to the x-axis\n",
    "x = np.random.normal(2, 0.1, size=len(y))\n",
    "plt.plot(x, y, 'r.', alpha=0.01)\n"
   ]
  },
  {
   "cell_type": "code",
   "execution_count": 387,
   "metadata": {},
   "outputs": [],
   "source": []
  },
  {
   "cell_type": "code",
   "execution_count": null,
   "metadata": {},
   "outputs": [],
   "source": [
    "saleAndStore[saleAndStore['CompetitionOpenSinceYear'].isnull()]['Store'].nunique()"
   ]
  },
  {
   "cell_type": "code",
   "execution_count": 393,
   "metadata": {},
   "outputs": [],
   "source": [
    "saleAndCompetitionBeforeAfter = saleAndStore[~saleAndStore['CompetitionOpenSinceYear'].isnull()][['Store','Date','CompetitionOpenSinceYear','CompetitionOpenSinceMonth','Sales']]"
   ]
  },
  {
   "cell_type": "code",
   "execution_count": 470,
   "metadata": {},
   "outputs": [],
   "source": [
    "competitionOpenYearMonth = saleAndCompetitionBeforeAfter.CompetitionOpenSinceYear.str.cat(saleAndCompetitionBeforeAfter.CompetitionOpenSinceMonth)\n",
    "saleAndCompetitionBeforeAfter['competitionOpenYearMonth'] = pd.to_datetime(competitionOpenYearMonth.dropna(), format='%Y%m', errors='ignore')\n",
    "saleAndCompetitionBeforeAfter['competitionOpenYearMonthBefore'] = saleAndCompetitionBeforeAfter['competitionOpenYearMonth'] + pd.DateOffset(months=-5)\n",
    "saleAndCompetitionBeforeAfter['competitionOpenYearMonthAfter'] = saleAndCompetitionBeforeAfter['competitionOpenYearMonth'] + pd.DateOffset(months=5)\n"
   ]
  },
  {
   "cell_type": "code",
   "execution_count": 446,
   "metadata": {},
   "outputs": [
    {
     "data": {
      "text/plain": [
       "0    20089\n",
       "1    20089\n",
       "2    20089\n",
       "3    20089\n",
       "4    20089\n",
       "Name: CompetitionOpenSinceYear, dtype: object"
      ]
     },
     "execution_count": 446,
     "metadata": {},
     "output_type": "execute_result"
    }
   ],
   "source": [
    "competitionOpenYearMonth.head()"
   ]
  },
  {
   "cell_type": "code",
   "execution_count": 448,
   "metadata": {
    "scrolled": false
   },
   "outputs": [
    {
     "data": {
      "text/plain": [
       "693861"
      ]
     },
     "execution_count": 448,
     "metadata": {},
     "output_type": "execute_result"
    }
   ],
   "source": [
    "len(saleAndCompetitionBeforeAfter)"
   ]
  },
  {
   "cell_type": "code",
   "execution_count": 471,
   "metadata": {},
   "outputs": [],
   "source": [
    "result = saleAndCompetitionBeforeAfter[['Store', 'Date', 'Sales','competitionOpenYearMonth']][((saleAndCompetitionBeforeAfter['Date'] >= saleAndCompetitionBeforeAfter['competitionOpenYearMonthBefore']) & (saleAndCompetitionBeforeAfter['Date'] <= saleAndCompetitionBeforeAfter['competitionOpenYearMonthAfter'])) & (saleAndCompetitionBeforeAfter['Sales']!=0)]\n",
    "\n"
   ]
  },
  {
   "cell_type": "code",
   "execution_count": 453,
   "metadata": {},
   "outputs": [
    {
     "data": {
      "text/plain": [
       "18353"
      ]
     },
     "execution_count": 453,
     "metadata": {},
     "output_type": "execute_result"
    }
   ],
   "source": [
    "len(result)"
   ]
  },
  {
   "cell_type": "code",
   "execution_count": 454,
   "metadata": {
    "scrolled": true
   },
   "outputs": [
    {
     "data": {
      "text/plain": [
       "3828    61\n",
       "3830    59\n",
       "3831    58\n",
       "3832    57\n",
       "3833    56\n",
       "dtype: int64"
      ]
     },
     "execution_count": 454,
     "metadata": {},
     "output_type": "execute_result"
    }
   ],
   "source": [
    "(result.Date - result.competitionOpenYearMonth).dt.days.head()"
   ]
  },
  {
   "cell_type": "code",
   "execution_count": 467,
   "metadata": {},
   "outputs": [
    {
     "data": {
      "text/plain": [
       "array([7629.83800014, 7629.83800014, 7629.83800014, ..., 6832.41211171,\n",
       "       6832.41211171, 6832.41211171])"
      ]
     },
     "execution_count": 467,
     "metadata": {},
     "output_type": "execute_result"
    }
   ],
   "source": [
    "filtered[:,1]"
   ]
  },
  {
   "cell_type": "code",
   "execution_count": 472,
   "metadata": {
    "scrolled": true
   },
   "outputs": [
    {
     "data": {
      "text/plain": [
       "[<matplotlib.lines.Line2D at 0x24e1df1c390>]"
      ]
     },
     "execution_count": 472,
     "metadata": {},
     "output_type": "execute_result"
    },
    {
     "data": {
      "image/png": "[encoded data removed]",
      "text/plain": [
       "<matplotlib.figure.Figure at 0x24e1dc90160>"
      ]
     },
     "metadata": {},
     "output_type": "display_data"
    }
   ],
   "source": [
    "filtered = lowess(result.Sales, (result.Date - result.competitionOpenYearMonth).dt.days, is_sorted=False, frac=0.5, it=0)\n",
    "\n",
    "plt.plot(filtered[:,0], filtered[:,1], '.r')"
   ]
  },
  {
   "cell_type": "code",
   "execution_count": null,
   "metadata": {},
   "outputs": [],
   "source": []
  },
  {
   "cell_type": "code",
   "execution_count": 476,
   "metadata": {},
   "outputs": [],
   "source": [
    "saleAndDate = saleAndStore[['Sales','Date']][saleAndStore['Sales'] != 0]"
   ]
  },
  {
   "cell_type": "code",
   "execution_count": 480,
   "metadata": {},
   "outputs": [
    {
     "data": {
      "text/plain": [
       "0    7\n",
       "1    7\n",
       "2    7\n",
       "3    7\n",
       "4    7\n",
       "Name: Date, dtype: int64"
      ]
     },
     "execution_count": 480,
     "metadata": {},
     "output_type": "execute_result"
    }
   ],
   "source": [
    "saleAndDate.Date.dt.month.head()"
   ]
  },
  {
   "cell_type": "code",
   "execution_count": 487,
   "metadata": {},
   "outputs": [
    {
     "data": {
      "text/plain": [
       "844338"
      ]
     },
     "execution_count": 487,
     "metadata": {},
     "output_type": "execute_result"
    }
   ],
   "source": [
    "len(saleAndDate)"
   ]
  },
  {
   "cell_type": "code",
   "execution_count": 490,
   "metadata": {
    "scrolled": true
   },
   "outputs": [
    {
     "data": {
      "text/html": [
       "<div>\n",
       "<style scoped>\n",
       "    .dataframe tbody tr th:only-of-type {\n",
       "        vertical-align: middle;\n",
       "    }\n",
       "\n",
       "    .dataframe tbody tr th {\n",
       "        vertical-align: top;\n",
       "    }\n",
       "\n",
       "    .dataframe thead th {\n",
       "        text-align: right;\n",
       "    }\n",
       "</style>\n",
       "<table border=\"1\" class=\"dataframe\">\n",
       "  <thead>\n",
       "    <tr style=\"text-align: right;\">\n",
       "      <th></th>\n",
       "      <th>Sales</th>\n",
       "    </tr>\n",
       "    <tr>\n",
       "      <th>Date</th>\n",
       "      <th></th>\n",
       "    </tr>\n",
       "  </thead>\n",
       "  <tbody>\n",
       "    <tr>\n",
       "      <th>2013-01-31</th>\n",
       "      <td>6240.506045</td>\n",
       "    </tr>\n",
       "    <tr>\n",
       "      <th>2013-02-28</th>\n",
       "      <td>6428.838730</td>\n",
       "    </tr>\n",
       "    <tr>\n",
       "      <th>2013-03-31</th>\n",
       "      <td>7213.092718</td>\n",
       "    </tr>\n",
       "    <tr>\n",
       "      <th>2013-04-30</th>\n",
       "      <td>6579.791664</td>\n",
       "    </tr>\n",
       "    <tr>\n",
       "      <th>2013-05-31</th>\n",
       "      <td>7077.028245</td>\n",
       "    </tr>\n",
       "    <tr>\n",
       "      <th>2013-06-30</th>\n",
       "      <td>6467.745839</td>\n",
       "    </tr>\n",
       "    <tr>\n",
       "      <th>2013-07-31</th>\n",
       "      <td>6923.613645</td>\n",
       "    </tr>\n",
       "    <tr>\n",
       "      <th>2013-08-31</th>\n",
       "      <td>6596.367019</td>\n",
       "    </tr>\n",
       "    <tr>\n",
       "      <th>2013-09-30</th>\n",
       "      <td>6363.615547</td>\n",
       "    </tr>\n",
       "    <tr>\n",
       "      <th>2013-10-31</th>\n",
       "      <td>6473.347016</td>\n",
       "    </tr>\n",
       "    <tr>\n",
       "      <th>2013-11-30</th>\n",
       "      <td>6904.509503</td>\n",
       "    </tr>\n",
       "    <tr>\n",
       "      <th>2013-12-31</th>\n",
       "      <td>8613.455299</td>\n",
       "    </tr>\n",
       "    <tr>\n",
       "      <th>2014-01-31</th>\n",
       "      <td>6540.313756</td>\n",
       "    </tr>\n",
       "    <tr>\n",
       "      <th>2014-02-28</th>\n",
       "      <td>6678.536710</td>\n",
       "    </tr>\n",
       "    <tr>\n",
       "      <th>2014-03-31</th>\n",
       "      <td>6654.709671</td>\n",
       "    </tr>\n",
       "    <tr>\n",
       "      <th>2014-04-30</th>\n",
       "      <td>7227.587658</td>\n",
       "    </tr>\n",
       "    <tr>\n",
       "      <th>2014-05-31</th>\n",
       "      <td>6948.119518</td>\n",
       "    </tr>\n",
       "    <tr>\n",
       "      <th>2014-06-30</th>\n",
       "      <td>7251.213362</td>\n",
       "    </tr>\n",
       "    <tr>\n",
       "      <th>2014-07-31</th>\n",
       "      <td>6893.938590</td>\n",
       "    </tr>\n",
       "    <tr>\n",
       "      <th>2014-08-31</th>\n",
       "      <td>6714.305191</td>\n",
       "    </tr>\n",
       "    <tr>\n",
       "      <th>2014-09-30</th>\n",
       "      <td>6758.808923</td>\n",
       "    </tr>\n",
       "    <tr>\n",
       "      <th>2014-10-31</th>\n",
       "      <td>6757.598370</td>\n",
       "    </tr>\n",
       "    <tr>\n",
       "      <th>2014-11-30</th>\n",
       "      <td>7539.603854</td>\n",
       "    </tr>\n",
       "    <tr>\n",
       "      <th>2014-12-31</th>\n",
       "      <td>8603.805210</td>\n",
       "    </tr>\n",
       "    <tr>\n",
       "      <th>2015-01-31</th>\n",
       "      <td>6913.177694</td>\n",
       "    </tr>\n",
       "    <tr>\n",
       "      <th>2015-02-28</th>\n",
       "      <td>6660.519241</td>\n",
       "    </tr>\n",
       "    <tr>\n",
       "      <th>2015-03-31</th>\n",
       "      <td>7071.483992</td>\n",
       "    </tr>\n",
       "    <tr>\n",
       "      <th>2015-04-30</th>\n",
       "      <td>7349.110170</td>\n",
       "    </tr>\n",
       "    <tr>\n",
       "      <th>2015-05-31</th>\n",
       "      <td>7308.779203</td>\n",
       "    </tr>\n",
       "    <tr>\n",
       "      <th>2015-06-30</th>\n",
       "      <td>7295.618795</td>\n",
       "    </tr>\n",
       "    <tr>\n",
       "      <th>2015-07-31</th>\n",
       "      <td>7033.344905</td>\n",
       "    </tr>\n",
       "  </tbody>\n",
       "</table>\n",
       "</div>"
      ],
      "text/plain": [
       "                 Sales\n",
       "Date                  \n",
       "2013-01-31 6240.506045\n",
       "2013-02-28 6428.838730\n",
       "2013-03-31 7213.092718\n",
       "2013-04-30 6579.791664\n",
       "2013-05-31 7077.028245\n",
       "2013-06-30 6467.745839\n",
       "2013-07-31 6923.613645\n",
       "2013-08-31 6596.367019\n",
       "2013-09-30 6363.615547\n",
       "2013-10-31 6473.347016\n",
       "2013-11-30 6904.509503\n",
       "2013-12-31 8613.455299\n",
       "2014-01-31 6540.313756\n",
       "2014-02-28 6678.536710\n",
       "2014-03-31 6654.709671\n",
       "2014-04-30 7227.587658\n",
       "2014-05-31 6948.119518\n",
       "2014-06-30 7251.213362\n",
       "2014-07-31 6893.938590\n",
       "2014-08-31 6714.305191\n",
       "2014-09-30 6758.808923\n",
       "2014-10-31 6757.598370\n",
       "2014-11-30 7539.603854\n",
       "2014-12-31 8603.805210\n",
       "2015-01-31 6913.177694\n",
       "2015-02-28 6660.519241\n",
       "2015-03-31 7071.483992\n",
       "2015-04-30 7349.110170\n",
       "2015-05-31 7308.779203\n",
       "2015-06-30 7295.618795\n",
       "2015-07-31 7033.344905"
      ]
     },
     "execution_count": 490,
     "metadata": {},
     "output_type": "execute_result"
    }
   ],
   "source": [
    "saleAndDate.groupby(pd.Grouper(key='Date', freq='M')).mean()"
   ]
  },
  {
   "cell_type": "code",
   "execution_count": 513,
   "metadata": {
    "scrolled": true
   },
   "outputs": [],
   "source": [
    "saleByMonth = saleAndDate.groupby(saleAndDate['Date'].dt.strftime('%m'))['Sales'].mean().sort_index(level=\"Date\", ascending=True)"
   ]
  },
  {
   "cell_type": "code",
   "execution_count": null,
   "metadata": {},
   "outputs": [],
   "source": []
  },
  {
   "cell_type": "code",
   "execution_count": 520,
   "metadata": {},
   "outputs": [
    {
     "ename": "AttributeError",
     "evalue": "'Series' object has no attribute 'Date'",
     "output_type": "error",
     "traceback": [
      "\u001b[1;31m---------------------------------------------------------------------------\u001b[0m",
      "\u001b[1;31mAttributeError\u001b[0m                            Traceback (most recent call last)",
      "\u001b[1;32m<ipython-input-520-174e93621469>\u001b[0m in \u001b[0;36m<module>\u001b[1;34m()\u001b[0m\n\u001b[1;32m----> 1\u001b[1;33m \u001b[0msaleByMonth\u001b[0m\u001b[1;33m.\u001b[0m\u001b[0mDate\u001b[0m\u001b[1;33m\u001b[0m\u001b[0m\n\u001b[0m",
      "\u001b[1;32mD:\\Anaconda3\\lib\\site-packages\\pandas\\core\\generic.py\u001b[0m in \u001b[0;36m__getattr__\u001b[1;34m(self, name)\u001b[0m\n\u001b[0;32m   3612\u001b[0m             \u001b[1;32mif\u001b[0m \u001b[0mname\u001b[0m \u001b[1;32min\u001b[0m \u001b[0mself\u001b[0m\u001b[1;33m.\u001b[0m\u001b[0m_info_axis\u001b[0m\u001b[1;33m:\u001b[0m\u001b[1;33m\u001b[0m\u001b[0m\n\u001b[0;32m   3613\u001b[0m                 \u001b[1;32mreturn\u001b[0m \u001b[0mself\u001b[0m\u001b[1;33m[\u001b[0m\u001b[0mname\u001b[0m\u001b[1;33m]\u001b[0m\u001b[1;33m\u001b[0m\u001b[0m\n\u001b[1;32m-> 3614\u001b[1;33m             \u001b[1;32mreturn\u001b[0m \u001b[0mobject\u001b[0m\u001b[1;33m.\u001b[0m\u001b[0m__getattribute__\u001b[0m\u001b[1;33m(\u001b[0m\u001b[0mself\u001b[0m\u001b[1;33m,\u001b[0m \u001b[0mname\u001b[0m\u001b[1;33m)\u001b[0m\u001b[1;33m\u001b[0m\u001b[0m\n\u001b[0m\u001b[0;32m   3615\u001b[0m \u001b[1;33m\u001b[0m\u001b[0m\n\u001b[0;32m   3616\u001b[0m     \u001b[1;32mdef\u001b[0m \u001b[0m__setattr__\u001b[0m\u001b[1;33m(\u001b[0m\u001b[0mself\u001b[0m\u001b[1;33m,\u001b[0m \u001b[0mname\u001b[0m\u001b[1;33m,\u001b[0m \u001b[0mvalue\u001b[0m\u001b[1;33m)\u001b[0m\u001b[1;33m:\u001b[0m\u001b[1;33m\u001b[0m\u001b[0m\n",
      "\u001b[1;31mAttributeError\u001b[0m: 'Series' object has no attribute 'Date'"
     ]
    }
   ],
   "source": []
  },
  {
   "cell_type": "code",
   "execution_count": 522,
   "metadata": {
    "scrolled": true
   },
   "outputs": [
    {
     "data": {
      "text/plain": [
       "Index(['01', '02', '03', '04', '05', '06', '07', '08', '09', '10', '11', '12'], dtype='object', name='Date')"
      ]
     },
     "execution_count": 522,
     "metadata": {},
     "output_type": "execute_result"
    }
   ],
   "source": [
    "saleByMonth.keys()"
   ]
  },
  {
   "cell_type": "code",
   "execution_count": 526,
   "metadata": {},
   "outputs": [
    {
     "data": {
      "text/plain": [
       "<Container object of 12 artists>"
      ]
     },
     "execution_count": 526,
     "metadata": {},
     "output_type": "execute_result"
    },
    {
     "data": {
      "image/png": "[encoded data removed]",
      "text/plain": [
       "<matplotlib.figure.Figure at 0x4ea3a598fd0>"
      ]
     },
     "metadata": {},
     "output_type": "display_data"
    }
   ],
   "source": [
    "#ax = plt.bar(saleByMonth)\n",
    "plt.bar(saleByMonth.keys(), saleByMonth / np.mean(saleByMonth), align='center', alpha=0.5)"
   ]
  },
  {
   "cell_type": "code",
   "execution_count": 369,
   "metadata": {
    "scrolled": true
   },
   "outputs": [
    {
     "data": {
      "text/plain": [
       "Date     942\n",
       "Store    354\n",
       "dtype: int64"
      ]
     },
     "execution_count": 369,
     "metadata": {},
     "output_type": "execute_result"
    }
   ],
   "source": [
    "saleAndStore[['Date', 'Store']][saleAndStore['CompetitionOpenSinceYear'].isnull()].nunique()"
   ]
  },
  {
   "cell_type": "code",
   "execution_count": null,
   "metadata": {},
   "outputs": [],
   "source": []
  },
  {
   "cell_type": "code",
   "execution_count": null,
   "metadata": {},
   "outputs": [],
   "source": []
  },
  {
   "cell_type": "code",
   "execution_count": null,
   "metadata": {},
   "outputs": [],
   "source": []
  },
  {
   "cell_type": "code",
   "execution_count": 381,
   "metadata": {
    "scrolled": true
   },
   "outputs": [
    {
     "data": {
      "text/html": [
       "<div>\n",
       "<style scoped>\n",
       "    .dataframe tbody tr th:only-of-type {\n",
       "        vertical-align: middle;\n",
       "    }\n",
       "\n",
       "    .dataframe tbody tr th {\n",
       "        vertical-align: top;\n",
       "    }\n",
       "\n",
       "    .dataframe thead th {\n",
       "        text-align: right;\n",
       "    }\n",
       "</style>\n",
       "<table border=\"1\" class=\"dataframe\">\n",
       "  <thead>\n",
       "    <tr style=\"text-align: right;\">\n",
       "      <th></th>\n",
       "      <th>Sales</th>\n",
       "      <th>CompetitionOpenSinceYear</th>\n",
       "      <th>isCompetition</th>\n",
       "    </tr>\n",
       "  </thead>\n",
       "  <tbody>\n",
       "    <tr>\n",
       "      <th>0</th>\n",
       "      <td>5263</td>\n",
       "      <td>2008</td>\n",
       "      <td>1</td>\n",
       "    </tr>\n",
       "    <tr>\n",
       "      <th>1</th>\n",
       "      <td>5020</td>\n",
       "      <td>2008</td>\n",
       "      <td>1</td>\n",
       "    </tr>\n",
       "    <tr>\n",
       "      <th>2</th>\n",
       "      <td>4782</td>\n",
       "      <td>2008</td>\n",
       "      <td>1</td>\n",
       "    </tr>\n",
       "    <tr>\n",
       "      <th>3</th>\n",
       "      <td>5011</td>\n",
       "      <td>2008</td>\n",
       "      <td>1</td>\n",
       "    </tr>\n",
       "    <tr>\n",
       "      <th>4</th>\n",
       "      <td>6102</td>\n",
       "      <td>2008</td>\n",
       "      <td>1</td>\n",
       "    </tr>\n",
       "  </tbody>\n",
       "</table>\n",
       "</div>"
      ],
      "text/plain": [
       "   Sales CompetitionOpenSinceYear  isCompetition\n",
       "0   5263                     2008              1\n",
       "1   5020                     2008              1\n",
       "2   4782                     2008              1\n",
       "3   5011                     2008              1\n",
       "4   6102                     2008              1"
      ]
     },
     "execution_count": 381,
     "metadata": {},
     "output_type": "execute_result"
    }
   ],
   "source": [
    "SalesAndCompetition.head()"
   ]
  },
  {
   "cell_type": "code",
   "execution_count": 318,
   "metadata": {},
   "outputs": [
    {
     "data": {
      "text/html": [
       "<div>\n",
       "<style scoped>\n",
       "    .dataframe tbody tr th:only-of-type {\n",
       "        vertical-align: middle;\n",
       "    }\n",
       "\n",
       "    .dataframe tbody tr th {\n",
       "        vertical-align: top;\n",
       "    }\n",
       "\n",
       "    .dataframe thead th {\n",
       "        text-align: right;\n",
       "    }\n",
       "</style>\n",
       "<table border=\"1\" class=\"dataframe\">\n",
       "  <thead>\n",
       "    <tr style=\"text-align: right;\">\n",
       "      <th></th>\n",
       "      <th>Sales</th>\n",
       "      <th>CompetitionDistance</th>\n",
       "    </tr>\n",
       "  </thead>\n",
       "  <tbody>\n",
       "    <tr>\n",
       "      <th>0</th>\n",
       "      <td>5263</td>\n",
       "      <td>1270.000000</td>\n",
       "    </tr>\n",
       "    <tr>\n",
       "      <th>1</th>\n",
       "      <td>5020</td>\n",
       "      <td>1270.000000</td>\n",
       "    </tr>\n",
       "    <tr>\n",
       "      <th>2</th>\n",
       "      <td>4782</td>\n",
       "      <td>1270.000000</td>\n",
       "    </tr>\n",
       "    <tr>\n",
       "      <th>3</th>\n",
       "      <td>5011</td>\n",
       "      <td>1270.000000</td>\n",
       "    </tr>\n",
       "    <tr>\n",
       "      <th>4</th>\n",
       "      <td>6102</td>\n",
       "      <td>1270.000000</td>\n",
       "    </tr>\n",
       "  </tbody>\n",
       "</table>\n",
       "</div>"
      ],
      "text/plain": [
       "   Sales  CompetitionDistance\n",
       "0   5263          1270.000000\n",
       "1   5020          1270.000000\n",
       "2   4782          1270.000000\n",
       "3   5011          1270.000000\n",
       "4   6102          1270.000000"
      ]
     },
     "execution_count": 318,
     "metadata": {},
     "output_type": "execute_result"
    }
   ],
   "source": [
    "saleAndStore = saleAndStore[['Sales','CompetitionOpen']]\n",
    "saleAndStore = saleAndStore.fillna({'CompetitionOpenSinceYear': 'None'})\n",
    "bp = saleAndStore[saleAndStore[\"Sales\"] != 0].boxplot(column='Sales', by='PromoInterval', grid=True, showfliers=False)\n",
    "#for i in [0, 1]:\n",
    "\n",
    "\n",
    "y = saleAndStore[saleAndStore[\"Sales\"] != 0].Sales[saleAndStore.PromoInterval=='Feb,May,Aug,Nov']\n",
    "# Add some random \"jitter\" to the x-axis\n",
    "x = np.random.normal(1, 0.1, size=len(y))\n",
    "plt.plot(x, y, 'r.', alpha=0.01)\n",
    "\n",
    "y = saleAndStore[saleAndStore[\"Sales\"] != 0].Sales[saleAndStore.PromoInterval=='Jan,Apr,Jul,Oct']\n",
    "# Add some random \"jitter\" to the x-axis\n",
    "x = np.random.normal(2, 0.1, size=len(y))\n",
    "plt.plot(x, y, 'r.', alpha=0.01)\n",
    "\n",
    "y = saleAndStore[saleAndStore[\"Sales\"] != 0].Sales[saleAndStore.PromoInterval=='Mar,Jun,Sept,Dec']\n",
    "# Add some random \"jitter\" to the x-axis\n",
    "x = np.random.normal(3, 0.1, size=len(y))\n",
    "plt.plot(x, y, 'r.', alpha=0.01)\n",
    "\n",
    "y = saleAndStore[saleAndStore[\"Sales\"] != 0].Sales[saleAndStore.PromoInterval== 'None']\n",
    "# Add some random \"jitter\" to the x-axis\n",
    "x = np.random.normal(4, 0.1, size=len(y))\n",
    "plt.plot(x, y, 'r.', alpha=0.01)\n"
   ]
  },
  {
   "cell_type": "code",
   "execution_count": 327,
   "metadata": {},
   "outputs": [
    {
     "data": {
      "text/plain": [
       "654"
      ]
     },
     "execution_count": 327,
     "metadata": {},
     "output_type": "execute_result"
    }
   ],
   "source": [
    "len(filtered[:,0])"
   ]
  },
  {
   "cell_type": "code",
   "execution_count": 382,
   "metadata": {},
   "outputs": [
    {
     "data": {
      "text/html": [
       "<div>\n",
       "<style scoped>\n",
       "    .dataframe tbody tr th:only-of-type {\n",
       "        vertical-align: middle;\n",
       "    }\n",
       "\n",
       "    .dataframe tbody tr th {\n",
       "        vertical-align: top;\n",
       "    }\n",
       "\n",
       "    .dataframe thead th {\n",
       "        text-align: right;\n",
       "    }\n",
       "</style>\n",
       "<table border=\"1\" class=\"dataframe\">\n",
       "  <thead>\n",
       "    <tr style=\"text-align: right;\">\n",
       "      <th></th>\n",
       "      <th>Store</th>\n",
       "      <th>DayOfWeek</th>\n",
       "      <th>Date</th>\n",
       "      <th>Sales</th>\n",
       "      <th>Customers</th>\n",
       "      <th>Open</th>\n",
       "      <th>Promo</th>\n",
       "      <th>StateHoliday</th>\n",
       "      <th>SchoolHoliday</th>\n",
       "      <th>StoreType</th>\n",
       "      <th>Assortment</th>\n",
       "      <th>CompetitionDistance</th>\n",
       "      <th>CompetitionOpenSinceMonth</th>\n",
       "      <th>CompetitionOpenSinceYear</th>\n",
       "      <th>Promo2</th>\n",
       "      <th>Promo2SinceWeek</th>\n",
       "      <th>Promo2SinceYear</th>\n",
       "      <th>PromoInterval</th>\n",
       "    </tr>\n",
       "  </thead>\n",
       "  <tbody>\n",
       "    <tr>\n",
       "      <th>0</th>\n",
       "      <td>1</td>\n",
       "      <td>5</td>\n",
       "      <td>2015-07-31</td>\n",
       "      <td>5263</td>\n",
       "      <td>555</td>\n",
       "      <td>1</td>\n",
       "      <td>1</td>\n",
       "      <td>0</td>\n",
       "      <td>1</td>\n",
       "      <td>c</td>\n",
       "      <td>a</td>\n",
       "      <td>1270.000000</td>\n",
       "      <td>9</td>\n",
       "      <td>2008</td>\n",
       "      <td>0</td>\n",
       "      <td>NaN</td>\n",
       "      <td>NaN</td>\n",
       "      <td>None</td>\n",
       "    </tr>\n",
       "    <tr>\n",
       "      <th>1</th>\n",
       "      <td>1</td>\n",
       "      <td>4</td>\n",
       "      <td>2015-07-30</td>\n",
       "      <td>5020</td>\n",
       "      <td>546</td>\n",
       "      <td>1</td>\n",
       "      <td>1</td>\n",
       "      <td>0</td>\n",
       "      <td>1</td>\n",
       "      <td>c</td>\n",
       "      <td>a</td>\n",
       "      <td>1270.000000</td>\n",
       "      <td>9</td>\n",
       "      <td>2008</td>\n",
       "      <td>0</td>\n",
       "      <td>NaN</td>\n",
       "      <td>NaN</td>\n",
       "      <td>None</td>\n",
       "    </tr>\n",
       "    <tr>\n",
       "      <th>2</th>\n",
       "      <td>1</td>\n",
       "      <td>3</td>\n",
       "      <td>2015-07-29</td>\n",
       "      <td>4782</td>\n",
       "      <td>523</td>\n",
       "      <td>1</td>\n",
       "      <td>1</td>\n",
       "      <td>0</td>\n",
       "      <td>1</td>\n",
       "      <td>c</td>\n",
       "      <td>a</td>\n",
       "      <td>1270.000000</td>\n",
       "      <td>9</td>\n",
       "      <td>2008</td>\n",
       "      <td>0</td>\n",
       "      <td>NaN</td>\n",
       "      <td>NaN</td>\n",
       "      <td>None</td>\n",
       "    </tr>\n",
       "    <tr>\n",
       "      <th>3</th>\n",
       "      <td>1</td>\n",
       "      <td>2</td>\n",
       "      <td>2015-07-28</td>\n",
       "      <td>5011</td>\n",
       "      <td>560</td>\n",
       "      <td>1</td>\n",
       "      <td>1</td>\n",
       "      <td>0</td>\n",
       "      <td>1</td>\n",
       "      <td>c</td>\n",
       "      <td>a</td>\n",
       "      <td>1270.000000</td>\n",
       "      <td>9</td>\n",
       "      <td>2008</td>\n",
       "      <td>0</td>\n",
       "      <td>NaN</td>\n",
       "      <td>NaN</td>\n",
       "      <td>None</td>\n",
       "    </tr>\n",
       "    <tr>\n",
       "      <th>4</th>\n",
       "      <td>1</td>\n",
       "      <td>1</td>\n",
       "      <td>2015-07-27</td>\n",
       "      <td>6102</td>\n",
       "      <td>612</td>\n",
       "      <td>1</td>\n",
       "      <td>1</td>\n",
       "      <td>0</td>\n",
       "      <td>1</td>\n",
       "      <td>c</td>\n",
       "      <td>a</td>\n",
       "      <td>1270.000000</td>\n",
       "      <td>9</td>\n",
       "      <td>2008</td>\n",
       "      <td>0</td>\n",
       "      <td>NaN</td>\n",
       "      <td>NaN</td>\n",
       "      <td>None</td>\n",
       "    </tr>\n",
       "  </tbody>\n",
       "</table>\n",
       "</div>"
      ],
      "text/plain": [
       "   Store  DayOfWeek       Date  Sales  Customers  Open  Promo StateHoliday  \\\n",
       "0      1          5 2015-07-31   5263        555     1      1            0   \n",
       "1      1          4 2015-07-30   5020        546     1      1            0   \n",
       "2      1          3 2015-07-29   4782        523     1      1            0   \n",
       "3      1          2 2015-07-28   5011        560     1      1            0   \n",
       "4      1          1 2015-07-27   6102        612     1      1            0   \n",
       "\n",
       "   SchoolHoliday StoreType Assortment  CompetitionDistance  \\\n",
       "0              1         c          a          1270.000000   \n",
       "1              1         c          a          1270.000000   \n",
       "2              1         c          a          1270.000000   \n",
       "3              1         c          a          1270.000000   \n",
       "4              1         c          a          1270.000000   \n",
       "\n",
       "  CompetitionOpenSinceMonth CompetitionOpenSinceYear  Promo2 Promo2SinceWeek  \\\n",
       "0                         9                     2008       0             NaN   \n",
       "1                         9                     2008       0             NaN   \n",
       "2                         9                     2008       0             NaN   \n",
       "3                         9                     2008       0             NaN   \n",
       "4                         9                     2008       0             NaN   \n",
       "\n",
       "  Promo2SinceYear PromoInterval  \n",
       "0             NaN          None  \n",
       "1             NaN          None  \n",
       "2             NaN          None  \n",
       "3             NaN          None  \n",
       "4             NaN          None  "
      ]
     },
     "execution_count": 382,
     "metadata": {},
     "output_type": "execute_result"
    }
   ],
   "source": [
    "saleAndStore.head()"
   ]
  },
  {
   "cell_type": "code",
   "execution_count": 386,
   "metadata": {},
   "outputs": [
    {
     "data": {
      "text/plain": [
       "354"
      ]
     },
     "execution_count": 386,
     "metadata": {},
     "output_type": "execute_result"
    }
   ],
   "source": [
    "saleAndStore[saleAndStore['CompetitionOpenSinceYear'].isnull()]['Store'].nunique()"
   ]
  },
  {
   "cell_type": "code",
   "execution_count": null,
   "metadata": {},
   "outputs": [],
   "source": []
  },
  {
   "cell_type": "code",
   "execution_count": null,
   "metadata": {},
   "outputs": [],
   "source": []
  },
  {
   "cell_type": "code",
   "execution_count": null,
   "metadata": {},
   "outputs": [],
   "source": []
  },
  {
   "cell_type": "code",
   "execution_count": null,
   "metadata": {},
   "outputs": [],
   "source": []
  },
  {
   "cell_type": "code",
   "execution_count": 264,
   "metadata": {
    "scrolled": true
   },
   "outputs": [
    {
     "data": {
      "text/html": [
       "<div>\n",
       "<style scoped>\n",
       "    .dataframe tbody tr th:only-of-type {\n",
       "        vertical-align: middle;\n",
       "    }\n",
       "\n",
       "    .dataframe tbody tr th {\n",
       "        vertical-align: top;\n",
       "    }\n",
       "\n",
       "    .dataframe thead th {\n",
       "        text-align: right;\n",
       "    }\n",
       "</style>\n",
       "<table border=\"1\" class=\"dataframe\">\n",
       "  <thead>\n",
       "    <tr style=\"text-align: right;\">\n",
       "      <th></th>\n",
       "      <th>StoreType</th>\n",
       "      <th>Date</th>\n",
       "      <th>Sales</th>\n",
       "    </tr>\n",
       "  </thead>\n",
       "  <tbody>\n",
       "    <tr>\n",
       "      <th>0</th>\n",
       "      <td>a</td>\n",
       "      <td>2013-01-01</td>\n",
       "      <td>2907.000000</td>\n",
       "    </tr>\n",
       "    <tr>\n",
       "      <th>1</th>\n",
       "      <td>a</td>\n",
       "      <td>2013-01-02</td>\n",
       "      <td>6512.269103</td>\n",
       "    </tr>\n",
       "    <tr>\n",
       "      <th>2</th>\n",
       "      <td>a</td>\n",
       "      <td>2013-01-03</td>\n",
       "      <td>5870.261231</td>\n",
       "    </tr>\n",
       "    <tr>\n",
       "      <th>3</th>\n",
       "      <td>a</td>\n",
       "      <td>2013-01-04</td>\n",
       "      <td>6007.013311</td>\n",
       "    </tr>\n",
       "    <tr>\n",
       "      <th>4</th>\n",
       "      <td>a</td>\n",
       "      <td>2013-01-05</td>\n",
       "      <td>4940.978333</td>\n",
       "    </tr>\n",
       "  </tbody>\n",
       "</table>\n",
       "</div>"
      ],
      "text/plain": [
       "  StoreType       Date       Sales\n",
       "0         a 2013-01-01 2907.000000\n",
       "1         a 2013-01-02 6512.269103\n",
       "2         a 2013-01-03 5870.261231\n",
       "3         a 2013-01-04 6007.013311\n",
       "4         a 2013-01-05 4940.978333"
      ]
     },
     "execution_count": 264,
     "metadata": {},
     "output_type": "execute_result"
    }
   ],
   "source": [
    "saleDateByStore.head()"
   ]
  },
  {
   "cell_type": "code",
   "execution_count": 276,
   "metadata": {},
   "outputs": [
    {
     "data": {
      "text/plain": [
       "1356998400000000000"
      ]
     },
     "execution_count": 276,
     "metadata": {},
     "output_type": "execute_result"
    }
   ],
   "source": [
    "saleDateByStore.Date.min().value"
   ]
  },
  {
   "cell_type": "code",
   "execution_count": 272,
   "metadata": {},
   "outputs": [
    {
     "ename": "TypeError",
     "evalue": "unsupported operand type(s) for *: 'Timestamp' and 'float'",
     "output_type": "error",
     "traceback": [
      "\u001b[1;31m---------------------------------------------------------------------------\u001b[0m",
      "\u001b[1;31mTypeError\u001b[0m                                 Traceback (most recent call last)",
      "\u001b[1;32m<ipython-input-272-ed42bef0953b>\u001b[0m in \u001b[0;36m<module>\u001b[1;34m()\u001b[0m\n\u001b[1;32m----> 1\u001b[1;33m \u001b[0mx_smooth\u001b[0m \u001b[1;33m=\u001b[0m \u001b[0mnp\u001b[0m\u001b[1;33m.\u001b[0m\u001b[0mlinspace\u001b[0m\u001b[1;33m(\u001b[0m\u001b[0msaleDateByStore\u001b[0m\u001b[1;33m.\u001b[0m\u001b[0mDate\u001b[0m\u001b[1;33m.\u001b[0m\u001b[0mmin\u001b[0m\u001b[1;33m(\u001b[0m\u001b[1;33m)\u001b[0m\u001b[1;33m,\u001b[0m \u001b[0msaleDateByStore\u001b[0m\u001b[1;33m.\u001b[0m\u001b[0mDate\u001b[0m\u001b[1;33m.\u001b[0m\u001b[0mmax\u001b[0m\u001b[1;33m(\u001b[0m\u001b[1;33m)\u001b[0m\u001b[1;33m,\u001b[0m \u001b[1;36m100\u001b[0m\u001b[1;33m)\u001b[0m\u001b[1;33m\u001b[0m\u001b[0m\n\u001b[0m",
      "\u001b[1;32mD:\\Anaconda3\\lib\\site-packages\\numpy\\core\\function_base.py\u001b[0m in \u001b[0;36mlinspace\u001b[1;34m(start, stop, num, endpoint, retstep, dtype)\u001b[0m\n\u001b[0;32m    106\u001b[0m     \u001b[1;31m# Convert float/complex array scalars to float, gh-3504\u001b[0m\u001b[1;33m\u001b[0m\u001b[1;33m\u001b[0m\u001b[0m\n\u001b[0;32m    107\u001b[0m     \u001b[1;31m# and make sure one can use variables that have an __array_interface__, gh-6634\u001b[0m\u001b[1;33m\u001b[0m\u001b[1;33m\u001b[0m\u001b[0m\n\u001b[1;32m--> 108\u001b[1;33m     \u001b[0mstart\u001b[0m \u001b[1;33m=\u001b[0m \u001b[0masanyarray\u001b[0m\u001b[1;33m(\u001b[0m\u001b[0mstart\u001b[0m\u001b[1;33m)\u001b[0m \u001b[1;33m*\u001b[0m \u001b[1;36m1.0\u001b[0m\u001b[1;33m\u001b[0m\u001b[0m\n\u001b[0m\u001b[0;32m    109\u001b[0m     \u001b[0mstop\u001b[0m  \u001b[1;33m=\u001b[0m \u001b[0masanyarray\u001b[0m\u001b[1;33m(\u001b[0m\u001b[0mstop\u001b[0m\u001b[1;33m)\u001b[0m  \u001b[1;33m*\u001b[0m \u001b[1;36m1.0\u001b[0m\u001b[1;33m\u001b[0m\u001b[0m\n\u001b[0;32m    110\u001b[0m \u001b[1;33m\u001b[0m\u001b[0m\n",
      "\u001b[1;31mTypeError\u001b[0m: unsupported operand type(s) for *: 'Timestamp' and 'float'"
     ]
    }
   ],
   "source": [
    "x_smooth = np.linspace(saleDateByStore.Date.min(), saleDateByStore.Date.max(), 100)"
   ]
  },
  {
   "cell_type": "code",
   "execution_count": 260,
   "metadata": {},
   "outputs": [
    {
     "data": {
      "text/plain": [
       "<matplotlib.axes._subplots.AxesSubplot at 0x24e0c5e2ba8>"
      ]
     },
     "execution_count": 260,
     "metadata": {},
     "output_type": "execute_result"
    },
    {
     "data": {
      "image/png": "[encoded data removed]",
      "text/plain": [
       "<matplotlib.figure.Figure at 0x24e0c5e2550>"
      ]
     },
     "metadata": {},
     "output_type": "display_data"
    }
   ],
   "source": [
    "saleDateByStore.plot()"
   ]
  },
  {
   "cell_type": "code",
   "execution_count": 275,
   "metadata": {},
   "outputs": [
    {
     "data": {
      "text/plain": [
       "array([1.3253760e+18, 1.3256736e+18, 1.3259712e+18, 1.3262688e+18,\n",
       "       1.3265664e+18, 1.3268640e+18, 1.3271616e+18, 1.3274592e+18,\n",
       "       1.3277568e+18, 1.3280544e+18])"
      ]
     },
     "execution_count": 275,
     "metadata": {},
     "output_type": "execute_result"
    }
   ],
   "source": [
    "start = pd.Timestamp('2012-01-01')\n",
    "\n",
    "end = pd.Timestamp('2012-02-01')\n",
    "\n",
    "np.linspace(start.value, end.value, 10)"
   ]
  },
  {
   "cell_type": "code",
   "execution_count": null,
   "metadata": {},
   "outputs": [],
   "source": []
  },
  {
   "cell_type": "code",
   "execution_count": null,
   "metadata": {},
   "outputs": [],
   "source": []
  },
  {
   "cell_type": "code",
   "execution_count": null,
   "metadata": {},
   "outputs": [],
   "source": []
  },
  {
   "cell_type": "code",
   "execution_count": null,
   "metadata": {},
   "outputs": [],
   "source": []
  },
  {
   "cell_type": "code",
   "execution_count": null,
   "metadata": {},
   "outputs": [],
   "source": []
  },
  {
   "cell_type": "code",
   "execution_count": null,
   "metadata": {},
   "outputs": [],
   "source": []
  },
  {
   "cell_type": "code",
   "execution_count": null,
   "metadata": {},
   "outputs": [],
   "source": []
  },
  {
   "cell_type": "code",
   "execution_count": null,
   "metadata": {},
   "outputs": [],
   "source": []
  },
  {
   "cell_type": "code",
   "execution_count": null,
   "metadata": {},
   "outputs": [],
   "source": []
  },
  {
   "cell_type": "code",
   "execution_count": null,
   "metadata": {},
   "outputs": [],
   "source": []
  },
  {
   "cell_type": "code",
   "execution_count": null,
   "metadata": {},
   "outputs": [],
   "source": []
  },
  {
   "cell_type": "code",
   "execution_count": null,
   "metadata": {},
   "outputs": [],
   "source": []
  },
  {
   "cell_type": "code",
   "execution_count": null,
   "metadata": {},
   "outputs": [],
   "source": []
  },
  {
   "cell_type": "code",
   "execution_count": null,
   "metadata": {},
   "outputs": [],
   "source": []
  },
  {
   "cell_type": "code",
   "execution_count": null,
   "metadata": {},
   "outputs": [],
   "source": []
  },
  {
   "cell_type": "code",
   "execution_count": null,
   "metadata": {},
   "outputs": [],
   "source": []
  },
  {
   "cell_type": "code",
   "execution_count": null,
   "metadata": {},
   "outputs": [],
   "source": []
  },
  {
   "cell_type": "code",
   "execution_count": null,
   "metadata": {},
   "outputs": [],
   "source": []
  },
  {
   "cell_type": "code",
   "execution_count": 167,
   "metadata": {
    "scrolled": true
   },
   "outputs": [
    {
     "name": "stdout",
     "output_type": "stream",
     "text": [
      "train data:  Index([], dtype='object')\n",
      "test data:  Index(['Open'], dtype='object')\n",
      "store:  Index(['CompetitionDistance', 'CompetitionOpenSinceMonth',\n",
      "       'CompetitionOpenSinceYear', 'Promo2SinceWeek', 'Promo2SinceYear',\n",
      "       'PromoInterval'],\n",
      "      dtype='object')\n"
     ]
    }
   ],
   "source": [
    "print('train data: ', pre_train.columns[pre_train.isnull().any()])\n",
    "print('test data: ', pre_test.columns[pre_test.isnull().any()])\n",
    "print('store: ', store.columns[store.isnull().any()])"
   ]
  },
  {
   "cell_type": "code",
   "execution_count": 168,
   "metadata": {},
   "outputs": [
    {
     "data": {
      "text/html": [
       "<div>\n",
       "<style scoped>\n",
       "    .dataframe tbody tr th:only-of-type {\n",
       "        vertical-align: middle;\n",
       "    }\n",
       "\n",
       "    .dataframe tbody tr th {\n",
       "        vertical-align: top;\n",
       "    }\n",
       "\n",
       "    .dataframe thead th {\n",
       "        text-align: right;\n",
       "    }\n",
       "</style>\n",
       "<table border=\"1\" class=\"dataframe\">\n",
       "  <thead>\n",
       "    <tr style=\"text-align: right;\">\n",
       "      <th></th>\n",
       "      <th>Store</th>\n",
       "      <th>DayOfWeek</th>\n",
       "      <th>Date</th>\n",
       "      <th>Sales</th>\n",
       "      <th>Customers</th>\n",
       "      <th>Open</th>\n",
       "      <th>Promo</th>\n",
       "      <th>StateHoliday</th>\n",
       "      <th>SchoolHoliday</th>\n",
       "    </tr>\n",
       "  </thead>\n",
       "  <tbody>\n",
       "    <tr>\n",
       "      <th>291</th>\n",
       "      <td>292</td>\n",
       "      <td>5</td>\n",
       "      <td>2015-07-31</td>\n",
       "      <td>0</td>\n",
       "      <td>0</td>\n",
       "      <td>0</td>\n",
       "      <td>1</td>\n",
       "      <td>0</td>\n",
       "      <td>1</td>\n",
       "    </tr>\n",
       "    <tr>\n",
       "      <th>875</th>\n",
       "      <td>876</td>\n",
       "      <td>5</td>\n",
       "      <td>2015-07-31</td>\n",
       "      <td>0</td>\n",
       "      <td>0</td>\n",
       "      <td>0</td>\n",
       "      <td>1</td>\n",
       "      <td>0</td>\n",
       "      <td>1</td>\n",
       "    </tr>\n",
       "    <tr>\n",
       "      <th>1406</th>\n",
       "      <td>292</td>\n",
       "      <td>4</td>\n",
       "      <td>2015-07-30</td>\n",
       "      <td>0</td>\n",
       "      <td>0</td>\n",
       "      <td>0</td>\n",
       "      <td>1</td>\n",
       "      <td>0</td>\n",
       "      <td>1</td>\n",
       "    </tr>\n",
       "    <tr>\n",
       "      <th>1990</th>\n",
       "      <td>876</td>\n",
       "      <td>4</td>\n",
       "      <td>2015-07-30</td>\n",
       "      <td>0</td>\n",
       "      <td>0</td>\n",
       "      <td>0</td>\n",
       "      <td>1</td>\n",
       "      <td>0</td>\n",
       "      <td>1</td>\n",
       "    </tr>\n",
       "    <tr>\n",
       "      <th>2521</th>\n",
       "      <td>292</td>\n",
       "      <td>3</td>\n",
       "      <td>2015-07-29</td>\n",
       "      <td>0</td>\n",
       "      <td>0</td>\n",
       "      <td>0</td>\n",
       "      <td>1</td>\n",
       "      <td>0</td>\n",
       "      <td>1</td>\n",
       "    </tr>\n",
       "  </tbody>\n",
       "</table>\n",
       "</div>"
      ],
      "text/plain": [
       "      Store  DayOfWeek       Date  Sales  Customers  Open  Promo StateHoliday  SchoolHoliday\n",
       "291     292          5 2015-07-31      0          0     0      1            0              1\n",
       "875     876          5 2015-07-31      0          0     0      1            0              1\n",
       "1406    292          4 2015-07-30      0          0     0      1            0              1\n",
       "1990    876          4 2015-07-30      0          0     0      1            0              1\n",
       "2521    292          3 2015-07-29      0          0     0      1            0              1"
      ]
     },
     "execution_count": 168,
     "metadata": {},
     "output_type": "execute_result"
    }
   ],
   "source": [
    "# get only rows that the shops are open\n",
    "pre_train[pre_train[\"Open\"] == 0].head()"
   ]
  },
  {
   "cell_type": "code",
   "execution_count": 169,
   "metadata": {},
   "outputs": [],
   "source": [
    "# train data\n",
    "# remove the row that shops are closed\n",
    "pre_train = pre_train[pre_train[\"Open\"] != 0]"
   ]
  },
  {
   "cell_type": "code",
   "execution_count": 170,
   "metadata": {},
   "outputs": [
    {
     "data": {
      "text/plain": [
       "Index(['Open'], dtype='object')"
      ]
     },
     "execution_count": 170,
     "metadata": {},
     "output_type": "execute_result"
    }
   ],
   "source": [
    "pre_test.columns[pre_test.isnull().any()]"
   ]
  },
  {
   "cell_type": "code",
   "execution_count": 172,
   "metadata": {},
   "outputs": [
    {
     "data": {
      "text/html": [
       "<div>\n",
       "<style scoped>\n",
       "    .dataframe tbody tr th:only-of-type {\n",
       "        vertical-align: middle;\n",
       "    }\n",
       "\n",
       "    .dataframe tbody tr th {\n",
       "        vertical-align: top;\n",
       "    }\n",
       "\n",
       "    .dataframe thead th {\n",
       "        text-align: right;\n",
       "    }\n",
       "</style>\n",
       "<table border=\"1\" class=\"dataframe\">\n",
       "  <thead>\n",
       "    <tr style=\"text-align: right;\">\n",
       "      <th></th>\n",
       "      <th>Id</th>\n",
       "      <th>Store</th>\n",
       "      <th>DayOfWeek</th>\n",
       "      <th>Date</th>\n",
       "      <th>Open</th>\n",
       "      <th>Promo</th>\n",
       "      <th>StateHoliday</th>\n",
       "      <th>SchoolHoliday</th>\n",
       "    </tr>\n",
       "  </thead>\n",
       "  <tbody>\n",
       "    <tr>\n",
       "      <th>479</th>\n",
       "      <td>480</td>\n",
       "      <td>622</td>\n",
       "      <td>4</td>\n",
       "      <td>2015-09-17</td>\n",
       "      <td>nan</td>\n",
       "      <td>1</td>\n",
       "      <td>0</td>\n",
       "      <td>0</td>\n",
       "    </tr>\n",
       "    <tr>\n",
       "      <th>1335</th>\n",
       "      <td>1336</td>\n",
       "      <td>622</td>\n",
       "      <td>3</td>\n",
       "      <td>2015-09-16</td>\n",
       "      <td>nan</td>\n",
       "      <td>1</td>\n",
       "      <td>0</td>\n",
       "      <td>0</td>\n",
       "    </tr>\n",
       "    <tr>\n",
       "      <th>2191</th>\n",
       "      <td>2192</td>\n",
       "      <td>622</td>\n",
       "      <td>2</td>\n",
       "      <td>2015-09-15</td>\n",
       "      <td>nan</td>\n",
       "      <td>1</td>\n",
       "      <td>0</td>\n",
       "      <td>0</td>\n",
       "    </tr>\n",
       "    <tr>\n",
       "      <th>3047</th>\n",
       "      <td>3048</td>\n",
       "      <td>622</td>\n",
       "      <td>1</td>\n",
       "      <td>2015-09-14</td>\n",
       "      <td>nan</td>\n",
       "      <td>1</td>\n",
       "      <td>0</td>\n",
       "      <td>0</td>\n",
       "    </tr>\n",
       "    <tr>\n",
       "      <th>4759</th>\n",
       "      <td>4760</td>\n",
       "      <td>622</td>\n",
       "      <td>6</td>\n",
       "      <td>2015-09-12</td>\n",
       "      <td>nan</td>\n",
       "      <td>0</td>\n",
       "      <td>0</td>\n",
       "      <td>0</td>\n",
       "    </tr>\n",
       "    <tr>\n",
       "      <th>5615</th>\n",
       "      <td>5616</td>\n",
       "      <td>622</td>\n",
       "      <td>5</td>\n",
       "      <td>2015-09-11</td>\n",
       "      <td>nan</td>\n",
       "      <td>0</td>\n",
       "      <td>0</td>\n",
       "      <td>0</td>\n",
       "    </tr>\n",
       "    <tr>\n",
       "      <th>6471</th>\n",
       "      <td>6472</td>\n",
       "      <td>622</td>\n",
       "      <td>4</td>\n",
       "      <td>2015-09-10</td>\n",
       "      <td>nan</td>\n",
       "      <td>0</td>\n",
       "      <td>0</td>\n",
       "      <td>0</td>\n",
       "    </tr>\n",
       "    <tr>\n",
       "      <th>7327</th>\n",
       "      <td>7328</td>\n",
       "      <td>622</td>\n",
       "      <td>3</td>\n",
       "      <td>2015-09-09</td>\n",
       "      <td>nan</td>\n",
       "      <td>0</td>\n",
       "      <td>0</td>\n",
       "      <td>0</td>\n",
       "    </tr>\n",
       "    <tr>\n",
       "      <th>8183</th>\n",
       "      <td>8184</td>\n",
       "      <td>622</td>\n",
       "      <td>2</td>\n",
       "      <td>2015-09-08</td>\n",
       "      <td>nan</td>\n",
       "      <td>0</td>\n",
       "      <td>0</td>\n",
       "      <td>0</td>\n",
       "    </tr>\n",
       "    <tr>\n",
       "      <th>9039</th>\n",
       "      <td>9040</td>\n",
       "      <td>622</td>\n",
       "      <td>1</td>\n",
       "      <td>2015-09-07</td>\n",
       "      <td>nan</td>\n",
       "      <td>0</td>\n",
       "      <td>0</td>\n",
       "      <td>0</td>\n",
       "    </tr>\n",
       "    <tr>\n",
       "      <th>10751</th>\n",
       "      <td>10752</td>\n",
       "      <td>622</td>\n",
       "      <td>6</td>\n",
       "      <td>2015-09-05</td>\n",
       "      <td>nan</td>\n",
       "      <td>0</td>\n",
       "      <td>0</td>\n",
       "      <td>0</td>\n",
       "    </tr>\n",
       "  </tbody>\n",
       "</table>\n",
       "</div>"
      ],
      "text/plain": [
       "          Id  Store  DayOfWeek       Date  Open  Promo StateHoliday  SchoolHoliday\n",
       "479      480    622          4 2015-09-17   nan      1            0              0\n",
       "1335    1336    622          3 2015-09-16   nan      1            0              0\n",
       "2191    2192    622          2 2015-09-15   nan      1            0              0\n",
       "3047    3048    622          1 2015-09-14   nan      1            0              0\n",
       "4759    4760    622          6 2015-09-12   nan      0            0              0\n",
       "5615    5616    622          5 2015-09-11   nan      0            0              0\n",
       "6471    6472    622          4 2015-09-10   nan      0            0              0\n",
       "7327    7328    622          3 2015-09-09   nan      0            0              0\n",
       "8183    8184    622          2 2015-09-08   nan      0            0              0\n",
       "9039    9040    622          1 2015-09-07   nan      0            0              0\n",
       "10751  10752    622          6 2015-09-05   nan      0            0              0"
      ]
     },
     "execution_count": 172,
     "metadata": {},
     "output_type": "execute_result"
    }
   ],
   "source": [
    "pre_test[pre_test[\"Open\"].isnull()]\n",
    "# only store ID = 622 contain nan value on Open field."
   ]
  },
  {
   "cell_type": "code",
   "execution_count": 153,
   "metadata": {},
   "outputs": [],
   "source": [
    "# test data\n",
    "# Open column in test data contains NA value \n",
    "# Assume that all of them are open\n",
    "pre_test.fillna(1, inplace=True)"
   ]
  },
  {
   "cell_type": "code",
   "execution_count": 101,
   "metadata": {},
   "outputs": [
    {
     "data": {
      "text/plain": [
       "Index([], dtype='object')"
      ]
     },
     "execution_count": 101,
     "metadata": {},
     "output_type": "execute_result"
    }
   ],
   "source": []
  },
  {
   "cell_type": "code",
   "execution_count": 76,
   "metadata": {},
   "outputs": [],
   "source": []
  },
  {
   "cell_type": "code",
   "execution_count": 24,
   "metadata": {},
   "outputs": [],
   "source": [
    "# Merge with store data\n",
    "pre_train = pd.merge(pre_train, store, on='Store')\n",
    "pre_test = pd.merge(pre_test, store, on='Store')"
   ]
  },
  {
   "cell_type": "code",
   "execution_count": 25,
   "metadata": {},
   "outputs": [],
   "source": [
    "# Gather some features\n",
    "# I will pick only top 8 features\n",
    "# https://www.kaggle.com/cast42/xgboost-in-python-with-rmspe-v2/code\n",
    "# Day, Store, Competition Open, WeekOfYear, DayOfWeek, PromoOpen, CompetitionDistance, Month\n",
    "def build_features(features, data):\n",
    "    # remove NaNs\n",
    "    data.fillna(0, inplace=True)\n",
    "    data.loc[data.Open.isnull(), 'Open'] = 1\n",
    "    # Use some properties directly\n",
    "    \n",
    "    features.extend(['Store', 'CompetitionDistance'])\n",
    "    \n",
    "    features.append('DayOfWeek')\n",
    "    features.append('Month')\n",
    "    features.append('Day')\n",
    "    features.append('WeekOfYear')\n",
    "    data['Year'] = data.Date.dt.year\n",
    "    data['Month'] = data.Date.dt.month\n",
    "    data['Day'] = data.Date.dt.day\n",
    "    data['WeekOfYear'] = data.Date.dt.weekofyear\n",
    "\n",
    "    \n",
    "    # CompetionOpen en PromoOpen from https://www.kaggle.com/ananya77041/rossmann-store-sales/randomforestpython/code\n",
    "    # Calculate time competition open time in months\n",
    "    #features.append('CompetitionOpen')\n",
    "    #data['CompetitionOpen'] = 12 * (data.Year - data.CompetitionOpenSinceYear) + \\\n",
    "    #    (data.Month - data.CompetitionOpenSinceMonth)\n",
    "    # Promo open time in months\n",
    "    features.append('PromoOpen')\n",
    "    data['PromoOpen'] = 12 * (data.Year - data.Promo2SinceYear) + \\\n",
    "        (data.WeekOfYear - data.Promo2SinceWeek) / 4.0\n",
    "    data['PromoOpen'] = data.PromoOpen.apply(lambda x: x if x > 0 else 0)\n",
    "    data.loc[data.Promo2SinceYear == 0, 'PromoOpen'] = 0"
   ]
  },
  {
   "cell_type": "code",
   "execution_count": 26,
   "metadata": {},
   "outputs": [
    {
     "name": "stdout",
     "output_type": "stream",
     "text": [
      "augment features\n",
      "['Store', 'CompetitionDistance', 'DayOfWeek', 'Month', 'Day', 'WeekOfYear', 'PromoOpen']\n"
     ]
    }
   ],
   "source": [
    "features = []\n",
    "\n",
    "print(\"augment features\")\n",
    "build_features(features, pre_train)\n",
    "build_features([], pre_test)\n",
    "print(features)"
   ]
  },
  {
   "cell_type": "code",
   "execution_count": 27,
   "metadata": {},
   "outputs": [
    {
     "data": {
      "text/html": [
       "<div>\n",
       "<style scoped>\n",
       "    .dataframe tbody tr th:only-of-type {\n",
       "        vertical-align: middle;\n",
       "    }\n",
       "\n",
       "    .dataframe tbody tr th {\n",
       "        vertical-align: top;\n",
       "    }\n",
       "\n",
       "    .dataframe thead th {\n",
       "        text-align: right;\n",
       "    }\n",
       "</style>\n",
       "<table border=\"1\" class=\"dataframe\">\n",
       "  <thead>\n",
       "    <tr style=\"text-align: right;\">\n",
       "      <th></th>\n",
       "      <th>Store</th>\n",
       "      <th>DayOfWeek</th>\n",
       "      <th>Date</th>\n",
       "      <th>Sales</th>\n",
       "      <th>Customers</th>\n",
       "      <th>Open</th>\n",
       "      <th>Promo</th>\n",
       "      <th>StateHoliday</th>\n",
       "      <th>SchoolHoliday</th>\n",
       "      <th>StoreType</th>\n",
       "      <th>...</th>\n",
       "      <th>CompetitionOpenSinceYear</th>\n",
       "      <th>Promo2</th>\n",
       "      <th>Promo2SinceWeek</th>\n",
       "      <th>Promo2SinceYear</th>\n",
       "      <th>PromoInterval</th>\n",
       "      <th>Year</th>\n",
       "      <th>Month</th>\n",
       "      <th>Day</th>\n",
       "      <th>WeekOfYear</th>\n",
       "      <th>PromoOpen</th>\n",
       "    </tr>\n",
       "  </thead>\n",
       "  <tbody>\n",
       "    <tr>\n",
       "      <th>0</th>\n",
       "      <td>1</td>\n",
       "      <td>5</td>\n",
       "      <td>2015-07-31</td>\n",
       "      <td>5263</td>\n",
       "      <td>555</td>\n",
       "      <td>1</td>\n",
       "      <td>1</td>\n",
       "      <td>0</td>\n",
       "      <td>1.0</td>\n",
       "      <td>c</td>\n",
       "      <td>...</td>\n",
       "      <td>2008.0</td>\n",
       "      <td>0</td>\n",
       "      <td>0.0</td>\n",
       "      <td>0.0</td>\n",
       "      <td>0</td>\n",
       "      <td>2015</td>\n",
       "      <td>7</td>\n",
       "      <td>31</td>\n",
       "      <td>31</td>\n",
       "      <td>0.0</td>\n",
       "    </tr>\n",
       "    <tr>\n",
       "      <th>1</th>\n",
       "      <td>1</td>\n",
       "      <td>4</td>\n",
       "      <td>2015-07-30</td>\n",
       "      <td>5020</td>\n",
       "      <td>546</td>\n",
       "      <td>1</td>\n",
       "      <td>1</td>\n",
       "      <td>0</td>\n",
       "      <td>1.0</td>\n",
       "      <td>c</td>\n",
       "      <td>...</td>\n",
       "      <td>2008.0</td>\n",
       "      <td>0</td>\n",
       "      <td>0.0</td>\n",
       "      <td>0.0</td>\n",
       "      <td>0</td>\n",
       "      <td>2015</td>\n",
       "      <td>7</td>\n",
       "      <td>30</td>\n",
       "      <td>31</td>\n",
       "      <td>0.0</td>\n",
       "    </tr>\n",
       "    <tr>\n",
       "      <th>2</th>\n",
       "      <td>1</td>\n",
       "      <td>3</td>\n",
       "      <td>2015-07-29</td>\n",
       "      <td>4782</td>\n",
       "      <td>523</td>\n",
       "      <td>1</td>\n",
       "      <td>1</td>\n",
       "      <td>0</td>\n",
       "      <td>1.0</td>\n",
       "      <td>c</td>\n",
       "      <td>...</td>\n",
       "      <td>2008.0</td>\n",
       "      <td>0</td>\n",
       "      <td>0.0</td>\n",
       "      <td>0.0</td>\n",
       "      <td>0</td>\n",
       "      <td>2015</td>\n",
       "      <td>7</td>\n",
       "      <td>29</td>\n",
       "      <td>31</td>\n",
       "      <td>0.0</td>\n",
       "    </tr>\n",
       "    <tr>\n",
       "      <th>3</th>\n",
       "      <td>1</td>\n",
       "      <td>2</td>\n",
       "      <td>2015-07-28</td>\n",
       "      <td>5011</td>\n",
       "      <td>560</td>\n",
       "      <td>1</td>\n",
       "      <td>1</td>\n",
       "      <td>0</td>\n",
       "      <td>1.0</td>\n",
       "      <td>c</td>\n",
       "      <td>...</td>\n",
       "      <td>2008.0</td>\n",
       "      <td>0</td>\n",
       "      <td>0.0</td>\n",
       "      <td>0.0</td>\n",
       "      <td>0</td>\n",
       "      <td>2015</td>\n",
       "      <td>7</td>\n",
       "      <td>28</td>\n",
       "      <td>31</td>\n",
       "      <td>0.0</td>\n",
       "    </tr>\n",
       "    <tr>\n",
       "      <th>4</th>\n",
       "      <td>1</td>\n",
       "      <td>1</td>\n",
       "      <td>2015-07-27</td>\n",
       "      <td>6102</td>\n",
       "      <td>612</td>\n",
       "      <td>1</td>\n",
       "      <td>1</td>\n",
       "      <td>0</td>\n",
       "      <td>1.0</td>\n",
       "      <td>c</td>\n",
       "      <td>...</td>\n",
       "      <td>2008.0</td>\n",
       "      <td>0</td>\n",
       "      <td>0.0</td>\n",
       "      <td>0.0</td>\n",
       "      <td>0</td>\n",
       "      <td>2015</td>\n",
       "      <td>7</td>\n",
       "      <td>27</td>\n",
       "      <td>31</td>\n",
       "      <td>0.0</td>\n",
       "    </tr>\n",
       "  </tbody>\n",
       "</table>\n",
       "<p>5 rows × 23 columns</p>\n",
       "</div>"
      ],
      "text/plain": [
       "   Store  DayOfWeek       Date  Sales  Customers  Open  Promo StateHoliday  \\\n",
       "0      1          5 2015-07-31   5263        555     1      1            0   \n",
       "1      1          4 2015-07-30   5020        546     1      1            0   \n",
       "2      1          3 2015-07-29   4782        523     1      1            0   \n",
       "3      1          2 2015-07-28   5011        560     1      1            0   \n",
       "4      1          1 2015-07-27   6102        612     1      1            0   \n",
       "\n",
       "   SchoolHoliday StoreType    ...     CompetitionOpenSinceYear  Promo2  \\\n",
       "0            1.0         c    ...                       2008.0       0   \n",
       "1            1.0         c    ...                       2008.0       0   \n",
       "2            1.0         c    ...                       2008.0       0   \n",
       "3            1.0         c    ...                       2008.0       0   \n",
       "4            1.0         c    ...                       2008.0       0   \n",
       "\n",
       "   Promo2SinceWeek  Promo2SinceYear  PromoInterval  Year  Month Day  \\\n",
       "0              0.0              0.0              0  2015      7  31   \n",
       "1              0.0              0.0              0  2015      7  30   \n",
       "2              0.0              0.0              0  2015      7  29   \n",
       "3              0.0              0.0              0  2015      7  28   \n",
       "4              0.0              0.0              0  2015      7  27   \n",
       "\n",
       "   WeekOfYear  PromoOpen  \n",
       "0          31        0.0  \n",
       "1          31        0.0  \n",
       "2          31        0.0  \n",
       "3          31        0.0  \n",
       "4          31        0.0  \n",
       "\n",
       "[5 rows x 23 columns]"
      ]
     },
     "execution_count": 27,
     "metadata": {},
     "output_type": "execute_result"
    }
   ],
   "source": [
    "pre_train[0:5]"
   ]
  },
  {
   "cell_type": "code",
   "execution_count": 28,
   "metadata": {},
   "outputs": [
    {
     "data": {
      "text/html": [
       "<div>\n",
       "<style scoped>\n",
       "    .dataframe tbody tr th:only-of-type {\n",
       "        vertical-align: middle;\n",
       "    }\n",
       "\n",
       "    .dataframe tbody tr th {\n",
       "        vertical-align: top;\n",
       "    }\n",
       "\n",
       "    .dataframe thead th {\n",
       "        text-align: right;\n",
       "    }\n",
       "</style>\n",
       "<table border=\"1\" class=\"dataframe\">\n",
       "  <thead>\n",
       "    <tr style=\"text-align: right;\">\n",
       "      <th></th>\n",
       "      <th>Store</th>\n",
       "      <th>CompetitionDistance</th>\n",
       "      <th>DayOfWeek</th>\n",
       "      <th>Month</th>\n",
       "      <th>Day</th>\n",
       "      <th>WeekOfYear</th>\n",
       "      <th>PromoOpen</th>\n",
       "      <th>Sales</th>\n",
       "    </tr>\n",
       "  </thead>\n",
       "  <tbody>\n",
       "    <tr>\n",
       "      <th>0</th>\n",
       "      <td>1</td>\n",
       "      <td>1270.0</td>\n",
       "      <td>5</td>\n",
       "      <td>7</td>\n",
       "      <td>31</td>\n",
       "      <td>31</td>\n",
       "      <td>0.0</td>\n",
       "      <td>5263</td>\n",
       "    </tr>\n",
       "    <tr>\n",
       "      <th>1</th>\n",
       "      <td>1</td>\n",
       "      <td>1270.0</td>\n",
       "      <td>4</td>\n",
       "      <td>7</td>\n",
       "      <td>30</td>\n",
       "      <td>31</td>\n",
       "      <td>0.0</td>\n",
       "      <td>5020</td>\n",
       "    </tr>\n",
       "    <tr>\n",
       "      <th>2</th>\n",
       "      <td>1</td>\n",
       "      <td>1270.0</td>\n",
       "      <td>3</td>\n",
       "      <td>7</td>\n",
       "      <td>29</td>\n",
       "      <td>31</td>\n",
       "      <td>0.0</td>\n",
       "      <td>4782</td>\n",
       "    </tr>\n",
       "    <tr>\n",
       "      <th>3</th>\n",
       "      <td>1</td>\n",
       "      <td>1270.0</td>\n",
       "      <td>2</td>\n",
       "      <td>7</td>\n",
       "      <td>28</td>\n",
       "      <td>31</td>\n",
       "      <td>0.0</td>\n",
       "      <td>5011</td>\n",
       "    </tr>\n",
       "    <tr>\n",
       "      <th>4</th>\n",
       "      <td>1</td>\n",
       "      <td>1270.0</td>\n",
       "      <td>1</td>\n",
       "      <td>7</td>\n",
       "      <td>27</td>\n",
       "      <td>31</td>\n",
       "      <td>0.0</td>\n",
       "      <td>6102</td>\n",
       "    </tr>\n",
       "  </tbody>\n",
       "</table>\n",
       "</div>"
      ],
      "text/plain": [
       "   Store  CompetitionDistance  DayOfWeek  Month  Day  WeekOfYear  PromoOpen  \\\n",
       "0      1               1270.0          5      7   31          31        0.0   \n",
       "1      1               1270.0          4      7   30          31        0.0   \n",
       "2      1               1270.0          3      7   29          31        0.0   \n",
       "3      1               1270.0          2      7   28          31        0.0   \n",
       "4      1               1270.0          1      7   27          31        0.0   \n",
       "\n",
       "   Sales  \n",
       "0   5263  \n",
       "1   5020  \n",
       "2   4782  \n",
       "3   5011  \n",
       "4   6102  "
      ]
     },
     "execution_count": 28,
     "metadata": {},
     "output_type": "execute_result"
    }
   ],
   "source": [
    "#train = pre_train[['Store', 'CompetitionDistance', 'DayOfWeek', 'Month', 'Day', 'WeekOfYear', 'CompetitionOpen', 'PromoOpen', 'Sales']]\n",
    "train = pre_train[['Store', 'CompetitionDistance', 'DayOfWeek', 'Month', 'Day', 'WeekOfYear', 'PromoOpen', 'Sales']]\n",
    "train[0:5]"
   ]
  },
  {
   "cell_type": "code",
   "execution_count": 29,
   "metadata": {},
   "outputs": [
    {
     "data": {
      "text/html": [
       "<div>\n",
       "<style scoped>\n",
       "    .dataframe tbody tr th:only-of-type {\n",
       "        vertical-align: middle;\n",
       "    }\n",
       "\n",
       "    .dataframe tbody tr th {\n",
       "        vertical-align: top;\n",
       "    }\n",
       "\n",
       "    .dataframe thead th {\n",
       "        text-align: right;\n",
       "    }\n",
       "</style>\n",
       "<table border=\"1\" class=\"dataframe\">\n",
       "  <thead>\n",
       "    <tr style=\"text-align: right;\">\n",
       "      <th></th>\n",
       "      <th>Store</th>\n",
       "      <th>CompetitionDistance</th>\n",
       "      <th>DayOfWeek</th>\n",
       "      <th>Month</th>\n",
       "      <th>Day</th>\n",
       "      <th>WeekOfYear</th>\n",
       "      <th>PromoOpen</th>\n",
       "    </tr>\n",
       "  </thead>\n",
       "  <tbody>\n",
       "    <tr>\n",
       "      <th>0</th>\n",
       "      <td>1</td>\n",
       "      <td>1270.0</td>\n",
       "      <td>4</td>\n",
       "      <td>9</td>\n",
       "      <td>17</td>\n",
       "      <td>38</td>\n",
       "      <td>0.0</td>\n",
       "    </tr>\n",
       "    <tr>\n",
       "      <th>1</th>\n",
       "      <td>1</td>\n",
       "      <td>1270.0</td>\n",
       "      <td>3</td>\n",
       "      <td>9</td>\n",
       "      <td>16</td>\n",
       "      <td>38</td>\n",
       "      <td>0.0</td>\n",
       "    </tr>\n",
       "    <tr>\n",
       "      <th>2</th>\n",
       "      <td>1</td>\n",
       "      <td>1270.0</td>\n",
       "      <td>2</td>\n",
       "      <td>9</td>\n",
       "      <td>15</td>\n",
       "      <td>38</td>\n",
       "      <td>0.0</td>\n",
       "    </tr>\n",
       "    <tr>\n",
       "      <th>3</th>\n",
       "      <td>1</td>\n",
       "      <td>1270.0</td>\n",
       "      <td>1</td>\n",
       "      <td>9</td>\n",
       "      <td>14</td>\n",
       "      <td>38</td>\n",
       "      <td>0.0</td>\n",
       "    </tr>\n",
       "    <tr>\n",
       "      <th>4</th>\n",
       "      <td>1</td>\n",
       "      <td>1270.0</td>\n",
       "      <td>7</td>\n",
       "      <td>9</td>\n",
       "      <td>13</td>\n",
       "      <td>37</td>\n",
       "      <td>0.0</td>\n",
       "    </tr>\n",
       "  </tbody>\n",
       "</table>\n",
       "</div>"
      ],
      "text/plain": [
       "   Store  CompetitionDistance  DayOfWeek  Month  Day  WeekOfYear  PromoOpen\n",
       "0      1               1270.0          4      9   17          38        0.0\n",
       "1      1               1270.0          3      9   16          38        0.0\n",
       "2      1               1270.0          2      9   15          38        0.0\n",
       "3      1               1270.0          1      9   14          38        0.0\n",
       "4      1               1270.0          7      9   13          37        0.0"
      ]
     },
     "execution_count": 29,
     "metadata": {},
     "output_type": "execute_result"
    }
   ],
   "source": [
    "#test = pre_test[['Store', 'CompetitionDistance', 'DayOfWeek', 'Month', 'Day', 'WeekOfYear', 'CompetitionOpen', 'PromoOpen']]\n",
    "test = pre_test[['Store', 'CompetitionDistance', 'DayOfWeek', 'Month', 'Day', 'WeekOfYear', 'PromoOpen']]\n",
    "test[0:5]"
   ]
  },
  {
   "cell_type": "code",
   "execution_count": 30,
   "metadata": {},
   "outputs": [],
   "source": [
    "#train_data = train[['Store', 'CompetitionDistance', 'DayOfWeek', 'Month', 'Day', 'WeekOfYear', 'CompetitionOpen', 'PromoOpen']]\n",
    "train_data = train[['Store', 'CompetitionDistance', 'DayOfWeek', 'Month', 'Day', 'WeekOfYear', 'PromoOpen']]\n",
    "train_target = train[['Sales']]"
   ]
  },
  {
   "cell_type": "code",
   "execution_count": 31,
   "metadata": {},
   "outputs": [],
   "source": [
    "X_train, X_test, y_train, y_test = train_test_split(train_data, train_target, test_size=0.2, random_state=0)"
   ]
  },
  {
   "cell_type": "code",
   "execution_count": null,
   "metadata": {},
   "outputs": [],
   "source": []
  },
  {
   "cell_type": "code",
   "execution_count": null,
   "metadata": {},
   "outputs": [],
   "source": []
  },
  {
   "cell_type": "code",
   "execution_count": null,
   "metadata": {},
   "outputs": [],
   "source": []
  },
  {
   "cell_type": "markdown",
   "metadata": {},
   "source": [
    "# Prediction"
   ]
  },
  {
   "cell_type": "code",
   "execution_count": 32,
   "metadata": {},
   "outputs": [],
   "source": [
    "from sklearn import linear_model\n",
    "from sklearn.pipeline import Pipeline\n",
    "from sklearn.preprocessing import PolynomialFeatures\n",
    "from sklearn.linear_model import LinearRegression"
   ]
  },
  {
   "cell_type": "code",
   "execution_count": 33,
   "metadata": {},
   "outputs": [],
   "source": [
    "def rmspe(yhat, y):\n",
    "    w = ToWeight(y)\n",
    "    rmspe = np.sqrt(np.mean( w * (y - yhat)**2 ))\n",
    "    return rmspe"
   ]
  },
  {
   "cell_type": "code",
   "execution_count": 34,
   "metadata": {},
   "outputs": [],
   "source": [
    "def ToWeight(y):\n",
    "    w = np.zeros(y.shape, dtype=float)\n",
    "    ind = y != 0\n",
    "    w[ind] = 1./(y[ind]**2)\n",
    "    return w"
   ]
  },
  {
   "cell_type": "code",
   "execution_count": 35,
   "metadata": {},
   "outputs": [],
   "source": [
    "polynomial_features = PolynomialFeatures(degree=2,\n",
    "                                             include_bias=False)\n",
    "linear_regression = LinearRegression()\n",
    "pipeline = Pipeline([(\"polynomial_features\", polynomial_features),\n",
    "                     (\"linear_regression\", linear_regression)])\n",
    "pipeline.fit(X_train, y_train)\n",
    "\n",
    "y_pred = pipeline.predict(X_test)"
   ]
  },
  {
   "cell_type": "code",
   "execution_count": 36,
   "metadata": {},
   "outputs": [
    {
     "data": {
      "text/plain": [
       "Sales    0.421337\n",
       "dtype: float64"
      ]
     },
     "execution_count": 36,
     "metadata": {},
     "output_type": "execute_result"
    }
   ],
   "source": [
    "rmspe(y_test, y_pred)"
   ]
  },
  {
   "cell_type": "code",
   "execution_count": 37,
   "metadata": {},
   "outputs": [
    {
     "data": {
      "text/html": [
       "<div>\n",
       "<style scoped>\n",
       "    .dataframe tbody tr th:only-of-type {\n",
       "        vertical-align: middle;\n",
       "    }\n",
       "\n",
       "    .dataframe tbody tr th {\n",
       "        vertical-align: top;\n",
       "    }\n",
       "\n",
       "    .dataframe thead th {\n",
       "        text-align: right;\n",
       "    }\n",
       "</style>\n",
       "<table border=\"1\" class=\"dataframe\">\n",
       "  <thead>\n",
       "    <tr style=\"text-align: right;\">\n",
       "      <th></th>\n",
       "      <th>Store</th>\n",
       "      <th>CompetitionDistance</th>\n",
       "      <th>DayOfWeek</th>\n",
       "      <th>Month</th>\n",
       "      <th>Day</th>\n",
       "      <th>WeekOfYear</th>\n",
       "      <th>PromoOpen</th>\n",
       "    </tr>\n",
       "  </thead>\n",
       "  <tbody>\n",
       "    <tr>\n",
       "      <th>804488</th>\n",
       "      <td>1065</td>\n",
       "      <td>1290.0</td>\n",
       "      <td>4</td>\n",
       "      <td>3</td>\n",
       "      <td>6</td>\n",
       "      <td>10</td>\n",
       "      <td>29.75</td>\n",
       "    </tr>\n",
       "    <tr>\n",
       "      <th>21470</th>\n",
       "      <td>29</td>\n",
       "      <td>2170.0</td>\n",
       "      <td>4</td>\n",
       "      <td>3</td>\n",
       "      <td>5</td>\n",
       "      <td>10</td>\n",
       "      <td>0.00</td>\n",
       "    </tr>\n",
       "    <tr>\n",
       "      <th>652541</th>\n",
       "      <td>864</td>\n",
       "      <td>1020.0</td>\n",
       "      <td>2</td>\n",
       "      <td>3</td>\n",
       "      <td>3</td>\n",
       "      <td>10</td>\n",
       "      <td>63.25</td>\n",
       "    </tr>\n",
       "    <tr>\n",
       "      <th>355557</th>\n",
       "      <td>470</td>\n",
       "      <td>50.0</td>\n",
       "      <td>2</td>\n",
       "      <td>4</td>\n",
       "      <td>2</td>\n",
       "      <td>14</td>\n",
       "      <td>0.00</td>\n",
       "    </tr>\n",
       "  </tbody>\n",
       "</table>\n",
       "</div>"
      ],
      "text/plain": [
       "        Store  CompetitionDistance  DayOfWeek  Month  Day  WeekOfYear  \\\n",
       "804488   1065               1290.0          4      3    6          10   \n",
       "21470      29               2170.0          4      3    5          10   \n",
       "652541    864               1020.0          2      3    3          10   \n",
       "355557    470                 50.0          2      4    2          14   \n",
       "\n",
       "        PromoOpen  \n",
       "804488      29.75  \n",
       "21470        0.00  \n",
       "652541      63.25  \n",
       "355557       0.00  "
      ]
     },
     "execution_count": 37,
     "metadata": {},
     "output_type": "execute_result"
    }
   ],
   "source": [
    "X_test[1:5]"
   ]
  },
  {
   "cell_type": "code",
   "execution_count": 38,
   "metadata": {},
   "outputs": [
    {
     "data": {
      "text/plain": [
       "array([[6070.82177107],\n",
       "       [7052.57985193],\n",
       "       [8004.27102535],\n",
       "       [8728.01653907]])"
      ]
     },
     "execution_count": 38,
     "metadata": {},
     "output_type": "execute_result"
    }
   ],
   "source": [
    "y_pred[1:5]"
   ]
  },
  {
   "cell_type": "code",
   "execution_count": null,
   "metadata": {},
   "outputs": [],
   "source": []
  }
 ],
 "metadata": {
  "kernelspec": {
   "display_name": "Python 3",
   "language": "python",
   "name": "python3"
  },
  "language_info": {
   "codemirror_mode": {
    "name": "ipython",
    "version": 3
   },
   "file_extension": ".py",
   "mimetype": "text/x-python",
   "name": "python",
   "nbconvert_exporter": "python",
   "pygments_lexer": "ipython3",
   "version": "3.6.4"
  }
 },
 "nbformat": 4,
 "nbformat_minor": 2
}
