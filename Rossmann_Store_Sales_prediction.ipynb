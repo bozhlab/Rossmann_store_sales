{
 "cells": [
  {
   "cell_type": "code",
   "execution_count": 128,
   "metadata": {},
   "outputs": [],
   "source": [
    "import pandas as pd\n",
    "import numpy as np\n",
    "from sklearn.model_selection import train_test_split\n",
    "import matplotlib.pyplot as plt\n",
    "from statsmodels.nonparametric.smoothers_lowess import lowess\n",
    "import calendar"
   ]
  },
  {
   "cell_type": "code",
   "execution_count": 129,
   "metadata": {},
   "outputs": [],
   "source": [
    "#set display format of output from pandas\n",
    "pd.set_option('display.float_format', lambda x: '%.6f' % x)\n",
    "#extend chunksize for somes scatter plot\n",
    "plt.rcParams['agg.path.chunksize'] = 10000"
   ]
  },
  {
   "cell_type": "code",
   "execution_count": 228,
   "metadata": {
    "scrolled": true
   },
   "outputs": [],
   "source": [
    "data_types = {\n",
    "         'Id': np.dtype(int),\n",
    "         'Store': np.dtype(int),\n",
    "         'DayOfWeek': 'category',\n",
    "         #'Date': np.dtype(str), # we will parse it later\n",
    "         'Sales': np.dtype(int),\n",
    "         'Customers': np.dtype(int),\n",
    "         'Open': 'category',\n",
    "         'Promo': 'category',\n",
    "         'StateHoliday': np.dtype(str),\n",
    "         'SchoolHoliday': np.dtype(str)\n",
    "         }\n",
    "\n",
    "store_data_types = {\n",
    "         'Store': np.dtype(int),\n",
    "         'StoreType': np.dtype(str),\n",
    "         'Assortment': np.dtype(str),\n",
    "         'CompetitionDistance': np.dtype('float64'), # to prevent parsing null value\n",
    "         'CompetitionOpenSinceMonth': np.dtype(str),\n",
    "         'CompetitionOpenSinceYear': np.dtype(str),\n",
    "         'Promo2': 'category',\n",
    "         'Promo2SinceWeek': np.dtype(str),\n",
    "         'Promo2SinceYear': np.dtype(str),\n",
    "         'PromoInterval': np.dtype(str)\n",
    "        }\n",
    "\n",
    "train = pd.read_csv('input/train.csv', parse_dates=[2], dtype=data_types)\n",
    "test = pd.read_csv('input/test.csv', parse_dates=[3], dtype=data_types)\n",
    "store = pd.read_csv('input/store.csv', dtype=store_data_types)"
   ]
  },
  {
   "cell_type": "code",
   "execution_count": null,
   "metadata": {},
   "outputs": [],
   "source": [
    "print('- Train data')\n",
    "print(train.dtypes)"
   ]
  },
  {
   "cell_type": "code",
   "execution_count": null,
   "metadata": {},
   "outputs": [],
   "source": [
    "print('- Test data')\n",
    "print(test.dtypes)"
   ]
  },
  {
   "cell_type": "code",
   "execution_count": null,
   "metadata": {},
   "outputs": [],
   "source": [
    "print('- Store data')\n",
    "print(store.dtypes)"
   ]
  },
  {
   "cell_type": "markdown",
   "metadata": {},
   "source": [
    "# Data exploration"
   ]
  },
  {
   "cell_type": "code",
   "execution_count": null,
   "metadata": {},
   "outputs": [],
   "source": []
  },
  {
   "cell_type": "code",
   "execution_count": null,
   "metadata": {},
   "outputs": [],
   "source": [
    "train.describe(include='all')"
   ]
  },
  {
   "cell_type": "code",
   "execution_count": null,
   "metadata": {
    "scrolled": true
   },
   "outputs": [],
   "source": [
    "test.describe(include='all')"
   ]
  },
  {
   "cell_type": "code",
   "execution_count": null,
   "metadata": {
    "scrolled": true
   },
   "outputs": [],
   "source": [
    "store.describe(include='all')"
   ]
  },
  {
   "cell_type": "markdown",
   "metadata": {},
   "source": [
    "## Find unique value"
   ]
  },
  {
   "cell_type": "code",
   "execution_count": null,
   "metadata": {
    "scrolled": true
   },
   "outputs": [],
   "source": [
    "print('- Unique train data without null value')\n",
    "print(train.nunique())\n",
    "print('*'*30)\n",
    "print('- Unique train data with null value')\n",
    "print(train.nunique(dropna=False))"
   ]
  },
  {
   "cell_type": "code",
   "execution_count": null,
   "metadata": {},
   "outputs": [],
   "source": [
    "# open value has 3 values so we will check it again. (Include null value)\n",
    "print('- Unique test data without null value')\n",
    "print(test.nunique())\n",
    "print('*'*30)\n",
    "print('- Unique test data with null value')\n",
    "print(test.nunique(dropna=False))"
   ]
  },
  {
   "cell_type": "code",
   "execution_count": null,
   "metadata": {
    "scrolled": true
   },
   "outputs": [],
   "source": [
    "# CompetitionDistance, OpenSinceMonth, OpenSinceYear, Promo2, Promo2SinceWeek, Promo2SinceYear, PromoInterval\n",
    "# contain null value in store data\n",
    "print('- Unique store data without null value')\n",
    "print(store.nunique())\n",
    "print('*'*30)\n",
    "print('- Unique store data with null value')\n",
    "print(store.nunique(dropna=False))"
   ]
  },
  {
   "cell_type": "code",
   "execution_count": null,
   "metadata": {},
   "outputs": [],
   "source": [
    "# or just use the following command to summarize null value\n",
    "print('train data: ', train.columns[train.isnull().any()])\n",
    "print('test data: ', test.columns[test.isnull().any()])\n",
    "print('store: ', store.columns[store.isnull().any()])"
   ]
  },
  {
   "cell_type": "code",
   "execution_count": null,
   "metadata": {},
   "outputs": [],
   "source": [
    "# All test stores are in the train data\n",
    "np.count_nonzero(np.isin(test.Store.unique(), train.Store.unique()))"
   ]
  },
  {
   "cell_type": "code",
   "execution_count": null,
   "metadata": {},
   "outputs": [],
   "source": [
    "# 259 stores in train data are not in test data\n",
    "train.Store.nunique() - np.count_nonzero(np.isin(test.Store.unique(), train.Store.unique()))"
   ]
  },
  {
   "cell_type": "code",
   "execution_count": null,
   "metadata": {},
   "outputs": [],
   "source": [
    "# The proportion of open and close in train data\n",
    "objects = ('Open', 'Close')\n",
    "y = np.arange(len(objects))\n",
    "x_train = [len(train.Open[train['Open'] == '1'])/len(train.Open), len(train.Open[train['Open'] == '0'])/len(train.Open)]\n",
    "x_test = [len(test.Open[test['Open'] == '1'])/len(test.Open), len(test.Open[test['Open'] == '0'])/len(test.Open)]\n",
    "\n",
    "f, ax = plt.subplots(1, 2, figsize=(10,5))\n",
    "\n",
    "ax[0].bar(y, x_train, align='center', alpha=1, color=['aquamarine','tomato'])\n",
    "ax[0].set_xticks(y)\n",
    "ax[0].set_xticklabels(list(objects))\n",
    "ax[0].set_ylabel('Proportion')\n",
    "ax[0].set_title('train data')\n",
    "\n",
    "ax[1].bar(y, x_test, align='center', alpha=1, color=['aquamarine','tomato'])\n",
    "ax[1].set_xticks(y)\n",
    "ax[1].set_xticklabels(list(objects))\n",
    "ax[1].set_ylabel('Proportion')\n",
    "ax[1].set_title('test data')\n",
    "\n",
    "plt.suptitle('The proportion of the open and close day of shops')\n",
    "plt.show()"
   ]
  },
  {
   "cell_type": "code",
   "execution_count": null,
   "metadata": {},
   "outputs": [],
   "source": [
    "# no longer use\n",
    "# The proportion of open and close in train data\n",
    "objects = ('Open', 'Close')\n",
    "y = np.arange(len(objects))\n",
    "x = [len(train.Open[train['Open'] == '1'])/len(train.Open), len(train.Open[train['Open'] == '0'])/len(train.Open)]\n",
    " \n",
    "ax = plt.bar(y, x, align='center', alpha=1, color=['aquamarine','tomato'])\n",
    "plt.xticks(y, objects)\n",
    "plt.ylabel('Proportion'),\n",
    "plt.title('The proportion of the open and close day of shops in train data')\n",
    "plt.legend([ax[0], ax[1]], list(objects))\n",
    "plt.show()"
   ]
  },
  {
   "cell_type": "code",
   "execution_count": null,
   "metadata": {
    "scrolled": true
   },
   "outputs": [],
   "source": [
    "# on test data, the open column contains null value\n",
    "test.Open[test[\"Open\"].isnull()]"
   ]
  },
  {
   "cell_type": "code",
   "execution_count": null,
   "metadata": {},
   "outputs": [],
   "source": [
    "# no longer use\n",
    "# The proportion of open and close in test data\n",
    "objects = ('Open', 'Close')\n",
    "y = np.arange(len(objects))\n",
    "x = [len(test.Open[test['Open'] == '1'])/len(test.Open), len(test.Open[test['Open'] == '0'])/len(test.Open)]\n",
    " \n",
    "ax = plt.bar(y, x, align='center', alpha=1, color=['aquamarine', 'tomato'])\n",
    "plt.xticks(y, objects)\n",
    "plt.ylabel('Proportion')\n",
    "plt.title('The proportion of the open and close day of shops in test data')\n",
    "plt.legend([ax[0], ax[1]], list(objects))\n",
    "plt.show()"
   ]
  },
  {
   "cell_type": "code",
   "execution_count": null,
   "metadata": {},
   "outputs": [],
   "source": [
    "# The proportion of promotion and no promotion day in train data \n",
    "objects = ('Promotion', 'No Promotion')\n",
    "y = np.arange(len(objects))\n",
    "x = [len(train.Promo[train['Promo'] == '1'])/len(train.Promo), len(train.Promo[train['Promo'] == '0'])/len(train.Promo)]\n",
    " \n",
    "ax = plt.bar(y, x, align='center', alpha=1, color=['teal','salmon'])\n",
    "plt.xticks(y, objects)\n",
    "plt.ylabel('Proportion')\n",
    "plt.title('The proportion of the promotion and no promotion day of shops in train data')\n",
    "plt.legend([ax[0], ax[1]], list(objects))\n",
    "plt.show()"
   ]
  },
  {
   "cell_type": "code",
   "execution_count": null,
   "metadata": {},
   "outputs": [],
   "source": [
    "# The proportion of promotion and no promotion day in test data \n",
    "objects = ('Promotion', 'No Promotion')\n",
    "y = np.arange(len(objects))\n",
    "x = [len(test.Promo[test[\"Promo\"] == '1'])/len(test.Promo), len(test.Promo[test[\"Promo\"] == '0'])/len(test.Promo)]\n",
    " \n",
    "ax = plt.bar(y, x, align='center', alpha=1, color=['teal','salmon'])\n",
    "plt.xticks(y, objects)\n",
    "plt.ylabel('Proportion')\n",
    "plt.title('The proportion of promotion and no promotion day of shops in test data')\n",
    "plt.legend([ax[0], ax[1]], list(objects))\n",
    "plt.show()"
   ]
  },
  {
   "cell_type": "code",
   "execution_count": null,
   "metadata": {},
   "outputs": [],
   "source": [
    "# The proportion of holiday and normal day in train data \n",
    "objects = ('Public Holiday', 'Easter Holiday', 'Christmas', 'None')\n",
    "y = np.arange(len(objects))\n",
    "x = [len(train.StateHoliday[train[\"StateHoliday\"] == 'a'])/len(train.StateHoliday), \n",
    "               len(train.StateHoliday[train[\"StateHoliday\"] == 'b'])/len(train.StateHoliday), \n",
    "               len(train.StateHoliday[train[\"StateHoliday\"] == 'c'])/len(train.StateHoliday), \n",
    "               len(train.StateHoliday[train[\"StateHoliday\"] == '0'])/len(train.StateHoliday)]\n",
    " \n",
    "ax = plt.bar(y, x, align='center', alpha=1, color=['orange', 'lightblue', 'coral', 'aquamarine'])\n",
    "plt.xticks(y, objects)\n",
    "plt.ylabel('Proportion')\n",
    "plt.title('The proportion of the state holiday and normal day of shops in train data')\n",
    "plt.legend([ax[0], ax[1], ax[2], ax[3]], list(objects))\n",
    "plt.show()"
   ]
  },
  {
   "cell_type": "code",
   "execution_count": null,
   "metadata": {},
   "outputs": [],
   "source": [
    "# The proportion of holiday and normal day in test data \n",
    "objects = ('Public Holiday', 'Easter Holiday', 'Christmas', 'None')\n",
    "y = np.arange(len(objects))\n",
    "x = [len(test.StateHoliday[test[\"StateHoliday\"] == 'a'])/len(test.StateHoliday), \n",
    "               len(test.StateHoliday[test[\"StateHoliday\"] == 'b'])/len(test.StateHoliday), \n",
    "               len(test.StateHoliday[test[\"StateHoliday\"] == 'c'])/len(test.StateHoliday), \n",
    "               len(test.StateHoliday[test[\"StateHoliday\"] == '0'])/len(test.StateHoliday)]\n",
    " \n",
    "ax = plt.bar(y, x, align='center', alpha=1, color=['orange', 'lightblue', 'coral', 'aquamarine'])\n",
    "plt.xticks(y, objects)\n",
    "plt.ylabel('Proportion')\n",
    "plt.title('The proportion of the state holiday and normal day of shops in test data')\n",
    "plt.legend([ax[0], ax[1], ax[2], ax[3]], list(objects))\n",
    "plt.show()"
   ]
  },
  {
   "cell_type": "code",
   "execution_count": null,
   "metadata": {},
   "outputs": [],
   "source": [
    "objects = ('SchoolHoliday', 'None SchoolHoliday')\n",
    "y = np.arange(len(objects))\n",
    "x = [len(train.SchoolHoliday[train[\"SchoolHoliday\"] == '1'])/len(train.SchoolHoliday), \n",
    "               len(train.SchoolHoliday[train[\"SchoolHoliday\"] == '0'])/len(train.SchoolHoliday)]\n",
    " \n",
    "ax = plt.bar(y, x, align='center', alpha=1, color=['coral','aquamarine'])\n",
    "plt.xticks(y, objects)\n",
    "plt.ylabel('Proportion')\n",
    "plt.title('The proportion of the school holiday of shops in train data')\n",
    "plt.legend([ax[0], ax[1]], list(objects))\n",
    "plt.show()"
   ]
  },
  {
   "cell_type": "code",
   "execution_count": null,
   "metadata": {},
   "outputs": [],
   "source": [
    "objects = ('SchoolHoliday', 'None SchoolHoliday')\n",
    "y = np.arange(len(objects))\n",
    "x = [len(test.SchoolHoliday[test[\"SchoolHoliday\"] == '1'])/len(test.SchoolHoliday),\n",
    "               len(test.SchoolHoliday[test[\"SchoolHoliday\"] == '0'])/len(test.SchoolHoliday)]\n",
    " \n",
    "ax = plt.bar(y, x, align='center', alpha=1, color=['coral','aquamarine'])\n",
    "plt.xticks(y, objects)\n",
    "plt.ylabel('Proportion')\n",
    "plt.title('The proportion of the school holiday of shops in test data')\n",
    "plt.legend([ax[0], ax[1]], list(objects))\n",
    "plt.show()"
   ]
  },
  {
   "cell_type": "code",
   "execution_count": null,
   "metadata": {
    "scrolled": true
   },
   "outputs": [],
   "source": [
    "plt.plot(train.Date.sort_values(ascending=True).reset_index(drop=True), color=\"indigo\")\n",
    "plt.title('Date value on train data')\n",
    "plt.xlabel('Index')\n",
    "plt.show()"
   ]
  },
  {
   "cell_type": "code",
   "execution_count": null,
   "metadata": {},
   "outputs": [],
   "source": [
    "# we have to predict 48 days in test data\n",
    "plt.plot(test.Date.sort_values(ascending=True).reset_index(drop=True), color=\"indigo\")\n",
    "plt.title('Date value on test data')\n",
    "plt.xlabel('Index')\n",
    "plt.show()"
   ]
  },
  {
   "cell_type": "code",
   "execution_count": null,
   "metadata": {},
   "outputs": [],
   "source": [
    "# histogram of sales in train data\n",
    "# According to histogram, there are too many zero sales on train data\n",
    "plt.hist(train.Sales, 100, color=\"orangered\")\n",
    "plt.xlabel('Sales')\n",
    "plt.title('Histogram of sales of each store')\n",
    "plt.show()"
   ]
  },
  {
   "cell_type": "code",
   "execution_count": null,
   "metadata": {},
   "outputs": [],
   "source": [
    "# Show the histogram of mean sales seperated by storeID.\n",
    "# We have to filter out rows that contain zero sales \n",
    "plt.hist(train[train[\"Sales\"] != 0].groupby(['Store']).Sales.mean(),100, color=\"orangered\")\n",
    "plt.xlabel('Average(Sales)')\n",
    "plt.title('Histogram of average sales of each store')\n",
    "plt.show()"
   ]
  },
  {
   "cell_type": "code",
   "execution_count": null,
   "metadata": {},
   "outputs": [],
   "source": [
    "# histogram of customers in train data\n",
    "# According to histogram, there are zero customers on train data\n",
    "plt.hist(train.Customers,100, color=\"teal\")\n",
    "plt.xlabel('Customers')\n",
    "plt.title('Histogram of customers of each store')\n",
    "plt.show()"
   ]
  },
  {
   "cell_type": "code",
   "execution_count": null,
   "metadata": {},
   "outputs": [],
   "source": [
    "# Show the histogram of mean customers seperated by storeID.\n",
    "# We have to filter out rows that contain zero sales \n",
    "plt.hist(train[train[\"Customers\"] != 0].groupby(['Store']).Customers.mean(),100, color=\"teal\")\n",
    "plt.xlabel('Average(Customers)')\n",
    "plt.title('Histogram of average customers of each store')\n",
    "plt.show()"
   ]
  },
  {
   "cell_type": "markdown",
   "metadata": {},
   "source": [
    "## Sales and other features"
   ]
  },
  {
   "cell_type": "code",
   "execution_count": null,
   "metadata": {},
   "outputs": [],
   "source": [
    "# Add boxplot to see a relation between sales and day of week\n",
    "# May be shops might close on Sunday. \n",
    "# So, the density of sales on Sundey is not thick.\n",
    "bp = train[train[\"Sales\"] != 0].boxplot(column='Sales', by='DayOfWeek', grid=True, showfliers=False)\n",
    "fig = bp.get_figure()\n",
    "fig.suptitle('')\n",
    "\n",
    "colors = ['yellow','fuchsia', 'teal', 'orangered', 'blue', 'purple', 'tomato']\n",
    "\n",
    "for i in np.arange(1, 8): # 1-7\n",
    "    y = train[train[\"Sales\"] != 0].Sales[train.DayOfWeek==str(i)]\n",
    "    x = np.random.normal(i, 0.1, size=len(y))\n",
    "    plt.plot(x, y, 'r.', alpha=0.01, color = colors[i-1])\n",
    "    \n",
    "plt.xticks(np.arange(1, 8), ['Mon', 'Tue', 'Wed', 'Thu', 'Fri', 'Sat', 'Sun'])\n",
    "plt.show()"
   ]
  },
  {
   "cell_type": "code",
   "execution_count": null,
   "metadata": {},
   "outputs": [],
   "source": [
    "# Count the total number of closed shop by day of week.\n",
    "# It related to density of the above graph.\n",
    "objects = ['Mon', 'Tue', 'Wed', 'Thu', 'Fri', 'Sat', 'Sun']\n",
    "colors=['yellow','fuchsia', 'teal', 'orangered', 'blue', 'purple', 'tomato']\n",
    "\n",
    "fig, ax = plt.subplots()\n",
    "for label, df in train[train[\"Open\"] == '0'].groupby('DayOfWeek').DayOfWeek:\n",
    "    plt.bar(label, df.count(), color=colors[int(label)-1])\n",
    "\n",
    "plt.xticks(np.arange(1, 8), objects)\n",
    "plt.show()\n"
   ]
  },
  {
   "cell_type": "code",
   "execution_count": null,
   "metadata": {},
   "outputs": [],
   "source": [
    "# Add boxplot to see a relation between sales and promotion\n",
    "bp = train[train[\"Sales\"] != 0].boxplot(column='Sales', by='Promo', grid=True, showfliers=False)\n",
    "fig = bp.get_figure()\n",
    "fig.suptitle('')\n",
    "\n",
    "colors = ['coral', 'aquamarine']\n",
    "\n",
    "for i in [0, 1]:\n",
    "    y = train[train[\"Sales\"] != 0].Sales[train.Promo==str(i)]\n",
    "    x = np.random.normal(i+1, 0.04, size=len(y))\n",
    "    plt.plot(x, y, 'r.', alpha=0.07, color= colors[i])\n"
   ]
  },
  {
   "cell_type": "code",
   "execution_count": null,
   "metadata": {},
   "outputs": [],
   "source": [
    "# Add boxplot to see a relation between sales and state holiday\n",
    "bp = train[train[\"Sales\"] != 0].boxplot(column='Sales', by='StateHoliday', grid=True, showfliers=False)\n",
    "fig = bp.get_figure()\n",
    "fig.suptitle('')\n",
    "\n",
    "colors=['aquamarine', 'orange', 'lightblue', 'coral']\n",
    "\n",
    "for i,j in enumerate(['0', 'a', 'b', 'c']):\n",
    "    y = train[train[\"Sales\"] != 0].Sales[train.StateHoliday==j]\n",
    "    x = np.random.normal(i+1, 0.04, size=len(y))\n",
    "    plt.plot(x, y, 'r.', alpha=0.5, color= colors[i])"
   ]
  },
  {
   "cell_type": "code",
   "execution_count": null,
   "metadata": {
    "scrolled": true
   },
   "outputs": [],
   "source": [
    "# Add boxplot to see a relation between sales and school holiday\n",
    "bp = train[train[\"Sales\"] != 0].boxplot(column='Sales', by='SchoolHoliday', grid=True, showfliers=False)\n",
    "fig = bp.get_figure()\n",
    "fig.suptitle('')\n",
    "\n",
    "colors = ['coral', 'aquamarine']\n",
    "\n",
    "for i in [0, 1]:\n",
    "    y = train[train[\"Sales\"] != 0].Sales[train.SchoolHoliday==str(i)]\n",
    "    x = np.random.normal(i+1, 0.04, size=len(y))\n",
    "    plt.plot(x, y, 'r.', alpha=0.05, color= colors[i])"
   ]
  },
  {
   "cell_type": "markdown",
   "metadata": {},
   "source": [
    "## Customers and other features"
   ]
  },
  {
   "cell_type": "code",
   "execution_count": null,
   "metadata": {},
   "outputs": [],
   "source": [
    "# Add boxplot to see a relation between customers and day of week\n",
    "# May be shops might close on Sunday. \n",
    "# So, the density of customers on Sundey is not thick as same as on sales\n",
    "bp = train[train[\"Customers\"] != 0].boxplot(column='Customers', by='DayOfWeek', grid=True, showfliers=False)\n",
    "fig = bp.get_figure()\n",
    "fig.suptitle('')\n",
    "\n",
    "colors = ['yellow','fuchsia', 'teal', 'orangered', 'blue', 'purple', 'tomato']\n",
    "\n",
    "for i in np.arange(1,8): # 1-7\n",
    "    y = train[train[\"Customers\"] != 0].Customers[train.DayOfWeek==str(i)]\n",
    "    x = np.random.normal(i, 0.1, size=len(y))\n",
    "    plt.plot(x, y, 'r.', alpha=0.01, color = colors[i-1])\n"
   ]
  },
  {
   "cell_type": "code",
   "execution_count": null,
   "metadata": {},
   "outputs": [],
   "source": [
    "# Add boxplot to see a relation between customers and promotion\n",
    "bp = train[train[\"Customers\"] != 0].boxplot(column='Customers', by='Promo', grid=True, showfliers=False)\n",
    "fig = bp.get_figure()\n",
    "fig.suptitle('')\n",
    "\n",
    "colors = ['coral', 'aquamarine']\n",
    "\n",
    "for i in [0, 1]:\n",
    "    y = train[train[\"Customers\"] != 0].Customers[train.Promo==str(i)]\n",
    "    x = np.random.normal(i+1, 0.04, size=len(y))\n",
    "    plt.plot(x, y, 'r.', alpha=0.01, color= colors[i])\n"
   ]
  },
  {
   "cell_type": "code",
   "execution_count": null,
   "metadata": {},
   "outputs": [],
   "source": [
    "# Add boxplot to see a relation between customers and state holiday\n",
    "bp = train[train[\"Customers\"] != 0].boxplot(column='Customers', by='StateHoliday', grid=True, showfliers=False)\n",
    "fig = bp.get_figure()\n",
    "fig.suptitle('')\n",
    "\n",
    "colors=['aquamarine', 'orange', 'lightblue', 'coral']\n",
    "\n",
    "for i,j in enumerate(['0', 'a', 'b', 'c']):\n",
    "    y = train[train[\"Customers\"] != 0].Customers[train.StateHoliday==j]\n",
    "    x = np.random.normal(i+1, 0.04, size=len(y))\n",
    "    plt.plot(x, y, 'r.', alpha=0.5, color= colors[i])"
   ]
  },
  {
   "cell_type": "code",
   "execution_count": null,
   "metadata": {},
   "outputs": [],
   "source": [
    "# Add boxplot to see a relation between customers and school holiday\n",
    "bp = train[train[\"Customers\"] != 0].boxplot(column='Customers', by='SchoolHoliday', grid=True, showfliers=False)\n",
    "fig = bp.get_figure()\n",
    "fig.suptitle('')\n",
    "\n",
    "colors = ['coral', 'aquamarine']\n",
    "\n",
    "for i in [0, 1]:\n",
    "    y = train[train[\"Customers\"] != 0].Customers[train.SchoolHoliday==str(i)]\n",
    "    x = np.random.normal(i+1, 0.04, size=len(y))\n",
    "    plt.plot(x, y, '.', alpha=0.05, color= colors[i])"
   ]
  },
  {
   "cell_type": "code",
   "execution_count": null,
   "metadata": {},
   "outputs": [],
   "source": [
    "# Sales and Customers with regression line\n",
    "\n",
    "#import statsmodels.api as sm\n",
    "#lowess = sm.nonparametric.lowess\n",
    "\n",
    "sale_and_customer = train[[\"Sales\",\"Customers\"]][(train[\"Sales\"] != 0) & (train[\"Customers\"] != 0)]\n",
    "\n",
    "x = np.log(sale_and_customer.Customers)\n",
    "y = np.log(sale_and_customer.Sales)\n",
    "\n",
    "plt.plot(x, y, '.', color='navy')\n",
    "\n",
    "filtered = lowess(y, x, is_sorted=False, frac=0.2, it=0)\n",
    "\n",
    "plt.plot(filtered[:,0], filtered[:,1], 'r')\n",
    "plt.xlabel('log(Customers)')\n",
    "plt.ylabel('log(Sales)')\n",
    "plt.title('Relation between customers and sales')\n",
    "plt.show()"
   ]
  },
  {
   "cell_type": "code",
   "execution_count": null,
   "metadata": {},
   "outputs": [],
   "source": [
    "# There are just 2 rows that have customers but do not have sales.\n",
    "train[[\"Sales\",\"Customers\"]][(train[\"Sales\"] == 0) & (train[\"Customers\"] != 0)]"
   ]
  },
  {
   "cell_type": "code",
   "execution_count": null,
   "metadata": {},
   "outputs": [],
   "source": [
    "# Stores that have zero sales in each day\n",
    "# The stores have different amounts of zero sales\n",
    "# So, we will explore in the next step\n",
    "storeWithZeroSales = train[(train[\"Sales\"] == 0)].groupby(['Store']).Sales.size().sort_values(ascending=False)\n",
    "plt.title('Histogram of zero sales of each store')\n",
    "plt.hist(storeWithZeroSales,100, color=\"teal\")\n",
    "plt.xlabel(\"Store\")\n",
    "plt.show()"
   ]
  },
  {
   "cell_type": "code",
   "execution_count": null,
   "metadata": {},
   "outputs": [],
   "source": [
    "# Store 103 have the most zero sales among all stores\n",
    "storeWithZeroSales.head()"
   ]
  },
  {
   "cell_type": "code",
   "execution_count": null,
   "metadata": {},
   "outputs": [],
   "source": [
    "# The sales of store 103 \n",
    "# The first period that new store openning have a high spike on sales\n",
    "salesByDayStore103 = train[[\"Sales\",\"Date\"]][train[\"Store\"] == 103]\n",
    "salesByDayStore103WithOpen = train[[\"Sales\",\"Date\"]][(train[\"Store\"] == 103) & (train[\"Open\"] == '1')]\n",
    "\n",
    "f, ax = plt.subplots(1, 2, figsize=(14,5))\n",
    "\n",
    "ax[0].plot(salesByDayStore103.Date, salesByDayStore103.Sales,'o',markerfacecolor='none', markersize=3, color='lime')\n",
    "ax[0].set_ylabel('Sales')\n",
    "ax[0].set_title('Open and closed day')\n",
    "\n",
    "ax[1].plot(salesByDayStore103WithOpen.Date, salesByDayStore103WithOpen.Sales,'o',\n",
    "           markerfacecolor='none', markersize=3, color='lime')\n",
    "ax[1].set_ylabel('Sales')\n",
    "ax[1].set_title('Only open day')\n",
    "\n",
    "plt.suptitle('Sales of Store 103')\n",
    "plt.show()"
   ]
  },
  {
   "cell_type": "code",
   "execution_count": null,
   "metadata": {},
   "outputs": [],
   "source": [
    "# The sales of store 708 \n",
    "# When stores open after closing for a while, there is a high spike on sales\n",
    "# It is the same case as closing. When the stores will close for a while, the last day will have a high spike on sales.\n",
    "salesByDayStore708 = train[[\"Sales\",\"Date\"]][train[\"Store\"] == 708]\n",
    "salesByDayStore708WithOpen = train[[\"Sales\",\"Date\"]][(train[\"Store\"] == 708) & (train[\"Open\"] == '1')]\n",
    "\n",
    "f, ax = plt.subplots(1, 2, figsize=(14,5))\n",
    "\n",
    "ax[0].plot(salesByDayStore708.Date, salesByDayStore708.Sales,'ro',markerfacecolor='none', markersize=3, color='lime')\n",
    "ax[0].set_ylabel('Sales')\n",
    "ax[0].set_title('Open and closed day')\n",
    "\n",
    "ax[1].plot(salesByDayStore708WithOpen.Date, salesByDayStore708WithOpen.Sales,'o',\n",
    "           markerfacecolor='none', markersize=3, color='lime')\n",
    "ax[1].set_ylabel('Sales')\n",
    "ax[1].set_title('Only open day')\n",
    "\n",
    "plt.suptitle('Sales of Store 708')\n",
    "plt.show()"
   ]
  },
  {
   "cell_type": "code",
   "execution_count": null,
   "metadata": {},
   "outputs": [],
   "source": [
    "# There are some shops that open twentyfour-seven\n",
    "\n",
    "train[(train[\"Open\"] == '1') & (train[\"DayOfWeek\"] == '7') & (train[\"StateHoliday\"] != '0')].groupby([\"Store\"]).Store.head()"
   ]
  },
  {
   "cell_type": "code",
   "execution_count": null,
   "metadata": {},
   "outputs": [],
   "source": [
    "# The sales of store 353 \n",
    "# The sales on Sunday is higher than other days.\n",
    "\n",
    "# Only sales on Sunday\n",
    "salesByDayOnSundayStore353 = train[[\"Sales\",\"Date\"]][(train[\"Store\"] == 353) & (train[\"DayOfWeek\"] == '7')]\n",
    "plt.plot(salesByDayOnSundayStore353.Date, salesByDayOnSundayStore353.Sales, 'r+', alpha=1)\n",
    "\n",
    "# Sales except Sunday\n",
    "salesByDayNotSundayStore353 = train[[\"Sales\",\"Date\"]][(train[\"Store\"] == 353) & (train[\"DayOfWeek\"] != '7')]\n",
    "plt.plot(salesByDayNotSundayStore353.Date, salesByDayNotSundayStore353.Sales, 'bx', alpha=0.5)\n",
    "plt.ylabel('Sales')\n",
    "plt.title('Sales on Sunday and other days of store 353')\n"
   ]
  },
  {
   "cell_type": "code",
   "execution_count": null,
   "metadata": {},
   "outputs": [],
   "source": []
  },
  {
   "cell_type": "markdown",
   "metadata": {},
   "source": [
    "# Store Data"
   ]
  },
  {
   "cell_type": "code",
   "execution_count": null,
   "metadata": {},
   "outputs": [],
   "source": [
    "store.describe(include='all')"
   ]
  },
  {
   "cell_type": "code",
   "execution_count": null,
   "metadata": {},
   "outputs": [],
   "source": [
    "# Show store type of each store\n",
    "store.StoreType.value_counts(dropna=False).sort_index()"
   ]
  },
  {
   "cell_type": "code",
   "execution_count": null,
   "metadata": {},
   "outputs": [],
   "source": [
    "# Show Assortment of each store\n",
    "store.Assortment.value_counts(dropna=False).sort_index()"
   ]
  },
  {
   "cell_type": "code",
   "execution_count": null,
   "metadata": {},
   "outputs": [],
   "source": [
    "# Proo Interval of each store\n",
    "store.PromoInterval.value_counts(dropna=False).sort_index()"
   ]
  },
  {
   "cell_type": "code",
   "execution_count": null,
   "metadata": {},
   "outputs": [],
   "source": [
    "# Crosstab of assortment and store type\n",
    "pd.crosstab(store.StoreType,store.Assortment,dropna=False)"
   ]
  },
  {
   "cell_type": "code",
   "execution_count": null,
   "metadata": {
    "scrolled": true
   },
   "outputs": [],
   "source": [
    "# histogram of distance of competition stores in store data\n",
    "# According to histogram, some competition stores are far away\n",
    "plt.hist(store.CompetitionDistance.dropna(), 100, color=\"orangered\")\n",
    "plt.xlabel('Distance')\n",
    "plt.title('Histogram of distance of competition stores')\n",
    "plt.show()"
   ]
  },
  {
   "cell_type": "code",
   "execution_count": null,
   "metadata": {},
   "outputs": [],
   "source": [
    "# Find null value of competition open month and year\n",
    "monthNullAndYearNotNull = store[[\"CompetitionOpenSinceMonth\", \"CompetitionOpenSinceYear\"]][(store[\"CompetitionOpenSinceMonth\"].isnull()) & (~store[\"CompetitionOpenSinceYear\"].isnull())]\n",
    "monthNotNullAndYearNull = store[[\"CompetitionOpenSinceMonth\", \"CompetitionOpenSinceYear\"]][(~store[\"CompetitionOpenSinceMonth\"].isnull()) & (store[\"CompetitionOpenSinceYear\"].isnull())]\n",
    "\n",
    "print('monthNullAndYearNotNull', len(monthNullAndYearNotNull))\n",
    "print('monthNotNullAndYearNull', len(monthNotNullAndYearNull))"
   ]
  },
  {
   "cell_type": "code",
   "execution_count": null,
   "metadata": {},
   "outputs": [],
   "source": [
    "# Find null value of competition distance and open year\n",
    "# There are some stores that have competition distance but do not have open year\n",
    "distanceNullAndYearNotNull = store[[\"CompetitionDistance\", \"CompetitionOpenSinceYear\"]][(store[\"CompetitionDistance\"].isnull()) & (~store[\"CompetitionOpenSinceYear\"].isnull())]\n",
    "distanceNotNullAndYearNull = store[[\"CompetitionDistance\", \"CompetitionOpenSinceYear\"]][(~store[\"CompetitionDistance\"].isnull()) & (store[\"CompetitionOpenSinceYear\"].isnull())]\n",
    "print('distanceNullAndYearNotNull', len(distanceNullAndYearNotNull))\n",
    "print('distanceNotNullAndYearNull', len(distanceNotNullAndYearNull))\n"
   ]
  },
  {
   "cell_type": "code",
   "execution_count": null,
   "metadata": {},
   "outputs": [],
   "source": [
    "# some of row have distance but doesn't have year and month\n",
    "# we have to fix it later.\n",
    "distanceNotNullAndYearNull.head()"
   ]
  },
  {
   "cell_type": "code",
   "execution_count": null,
   "metadata": {},
   "outputs": [],
   "source": [
    "# concat year and month then find the newest competition store date\n",
    "competitionOpenYearMonth = store.CompetitionOpenSinceYear.str.cat(store.CompetitionOpenSinceMonth)\n",
    "competitionOpenYearMonth = pd.to_datetime(competitionOpenYearMonth.dropna(), format='%Y%m', errors='ignore').dt.to_period('M')\n",
    "newestCompetitionYearMonth = competitionOpenYearMonth.sort_values(ascending = False).iloc[0]"
   ]
  },
  {
   "cell_type": "code",
   "execution_count": null,
   "metadata": {},
   "outputs": [],
   "source": [
    "# We have to find how long that each competition store open\n",
    "# Most stores have open competitions less than 200 days\n",
    "openSinceInMonth = newestCompetitionYearMonth - competitionOpenYearMonth\n",
    "openSinceInMonth = openSinceInMonth.astype('int32')\n",
    "plt.hist(openSinceInMonth,100, color=\"orangered\")\n",
    "plt.xlabel('Duration')\n",
    "plt.title('Histogram of duration of opened competition stores')\n",
    "plt.show()"
   ]
  },
  {
   "cell_type": "code",
   "execution_count": null,
   "metadata": {},
   "outputs": [],
   "source": [
    "# Find null value of promotion week and year\n",
    "promoWeekNullAndYearNotNull = store[[\"Promo2SinceWeek\", \"Promo2SinceYear\"]][(store[\"Promo2SinceWeek\"].isnull()) & (~store[\"Promo2SinceYear\"].isnull())]\n",
    "promoWeekNotNullAndYearNull = store[[\"Promo2SinceWeek\", \"Promo2SinceYear\"]][(~store[\"Promo2SinceWeek\"].isnull()) & (store[\"Promo2SinceYear\"].isnull())]\n",
    "\n",
    "print('promoWeekNullAndYearNotNull', len(promoWeekNullAndYearNotNull))\n",
    "print('promoWeekNotNullAndYearNull', len(promoWeekNotNullAndYearNull))"
   ]
  },
  {
   "cell_type": "code",
   "execution_count": null,
   "metadata": {},
   "outputs": [],
   "source": [
    "# Find null value of promo2 and promo2SinceYear\n",
    "promoUseAndYearNull = store[[\"Promo2\", \"Promo2SinceYear\"]][(store[\"Promo2\"] == '1') & (store[\"Promo2SinceYear\"].isnull())]\n",
    "promoNotUseAndYearNotNull = store[[\"Promo2\", \"Promo2SinceYear\"]][(store[\"Promo2\"] == '0') & (~store[\"Promo2SinceYear\"].isnull())]\n",
    "print('promoUseAndYearNull', len(promoUseAndYearNull))\n",
    "print('promoNotUseAndYearNotNull', len(promoNotUseAndYearNotNull))\n"
   ]
  },
  {
   "cell_type": "code",
   "execution_count": null,
   "metadata": {},
   "outputs": [],
   "source": [
    "# Find null value of promo2 and PromoInterval\n",
    "promoUseAndIntervalNull = store[[\"Promo2\", \"PromoInterval\"]][(store[\"Promo2\"] == '1') & (store[\"PromoInterval\"].isnull())]\n",
    "promoNotUseAndIntervalNotNull = store[[\"Promo2\", \"PromoInterval\"]][(store[\"Promo2\"] == '0') & (~store[\"PromoInterval\"].isnull())]\n",
    "print('promoUseAndIntervalNull', len(promoUseAndIntervalNull))\n",
    "print('promoNotUseAndIntervalNotNull', len(promoNotUseAndIntervalNotNull))\n"
   ]
  },
  {
   "cell_type": "code",
   "execution_count": null,
   "metadata": {},
   "outputs": [],
   "source": [
    "# First day of the promotion will start on Monday.\n",
    "promoStartYearMonth = store[(store[\"Promo2\"] == '1')][['Promo2SinceYear','Promo2SinceWeek']]\n",
    "promoStartYearMonth = pd.to_datetime(promoStartYearMonth.Promo2SinceWeek.astype(str)+\n",
    "                          promoStartYearMonth.Promo2SinceYear.astype(str).add('-1') ,format='%W%Y-%w')\n",
    "newestPromoStartYearMonth = pd.to_datetime(promoStartYearMonth.sort_values(ascending = False).iloc[0])\n"
   ]
  },
  {
   "cell_type": "code",
   "execution_count": null,
   "metadata": {
    "scrolled": true
   },
   "outputs": [],
   "source": [
    "# We have to find how long that each store has a promotion\n",
    "promoSinceInMonth = newestPromoStartYearMonth - promoStartYearMonth\n",
    "promoSinceInMonth = promoSinceInMonth.astype('timedelta64[D]')\n",
    "plt.hist(promoSinceInMonth,100, color=\"orangered\")\n",
    "plt.xlabel('Duration')\n",
    "plt.title('Histogram of duration of promotion')\n",
    "plt.show()"
   ]
  },
  {
   "cell_type": "code",
   "execution_count": null,
   "metadata": {},
   "outputs": [],
   "source": [
    "# Sale and Promotion Interval by months\n",
    "saleAndStore = pd.merge(train, store, on='Store')\n",
    "saleAndStore.PromoInterval.cat.add_categories('None', inplace=True)\n",
    "saleAndStore = saleAndStore.fillna({'PromoInterval': 'None'})\n",
    "bp = saleAndStore[saleAndStore[\"Sales\"] != 0].boxplot(column='Sales', by='PromoInterval', grid=True, showfliers=False)\n",
    "fig = bp.get_figure()\n",
    "fig.suptitle('')\n",
    "\n",
    "PromoInterval=['Feb,May,Aug,Nov', 'Jan,Apr,Jul,Oct', 'Mar,Jun,Sept,Dec', 'None']\n",
    "colors = ['teal', 'orangered', 'blue', 'purple']\n",
    "\n",
    "for i,j in enumerate(PromoInterval):\n",
    "    y = saleAndStore[saleAndStore[\"Sales\"] != 0].Sales[saleAndStore.PromoInterval==j]\n",
    "    x = np.random.normal(i+1, 0.1, size=len(y))\n",
    "    plt.plot(x, y, 'r.', alpha=0.4, color= colors[i])"
   ]
  },
  {
   "cell_type": "code",
   "execution_count": null,
   "metadata": {
    "scrolled": true
   },
   "outputs": [],
   "source": [
    "# Sales by store types\n",
    "saleDateByStore = saleAndStore[(saleAndStore[\"Sales\"] != 0)][[\"StoreType\",\"Date\",\"Sales\"]]\n",
    "saleDateByStore = saleDateByStore.groupby(['StoreType','Date']).Sales.mean().reset_index()\n",
    "saleDateByStoreA = saleDateByStore[saleDateByStore[\"StoreType\"] == 'a'][['Date','Sales']]\n",
    "saleDateByStoreB = saleDateByStore[saleDateByStore[\"StoreType\"] == 'b'][['Date','Sales']]\n",
    "saleDateByStoreC = saleDateByStore[saleDateByStore[\"StoreType\"] == 'c'][['Date','Sales']]\n",
    "saleDateByStoreD = saleDateByStore[saleDateByStore[\"StoreType\"] == 'd'][['Date','Sales']]\n",
    "\n",
    "filteredA = lowess(saleDateByStoreA.Sales, saleDateByStoreA.Date, is_sorted=False, frac=0.2, it=0)\n",
    "filteredB = lowess(saleDateByStoreB.Sales, saleDateByStoreB.Date, is_sorted=False, frac=0.2, it=0)\n",
    "filteredC = lowess(saleDateByStoreC.Sales, saleDateByStoreC.Date, is_sorted=False, frac=0.2, it=0)\n",
    "filteredD = lowess(saleDateByStoreD.Sales, saleDateByStoreD.Date, is_sorted=False, frac=0.2, it=0)\n",
    "\n",
    "plt.plot(pd.to_datetime(filteredA[:,0]), filteredA[:,1], 'r', label='StoreA')\n",
    "plt.plot(pd.to_datetime(filteredB[:,0]), filteredB[:,1], 'g', label='StoreB')\n",
    "plt.plot(pd.to_datetime(filteredC[:,0]), filteredC[:,1], 'b', label='StoreC')\n",
    "plt.plot(pd.to_datetime(filteredD[:,0]), filteredD[:,1], 'y', label='StoreD')\n",
    "\n",
    "plt.ylabel('Sales')\n",
    "plt.xlabel('Date')\n",
    "plt.legend(bbox_to_anchor=(1.05, 1), loc=2, borderaxespad=0.)\n",
    "plt.show()"
   ]
  },
  {
   "cell_type": "code",
   "execution_count": null,
   "metadata": {},
   "outputs": [],
   "source": [
    "# Customers by store types\n",
    "customerDateByStore = saleAndStore[(saleAndStore[\"Customers\"] != 0)][[\"StoreType\",\"Date\",\"Customers\"]]\n",
    "customerDateByStore = customerDateByStore.groupby(['StoreType','Date']).Customers.mean().reset_index()\n",
    "customerDateByStoreA = customerDateByStore[customerDateByStore[\"StoreType\"] == 'a'][['Date','Customers']]\n",
    "customerDateByStoreB = customerDateByStore[customerDateByStore[\"StoreType\"] == 'b'][['Date','Customers']]\n",
    "customerDateByStoreC = customerDateByStore[customerDateByStore[\"StoreType\"] == 'c'][['Date','Customers']]\n",
    "customerDateByStoreD = customerDateByStore[customerDateByStore[\"StoreType\"] == 'd'][['Date','Customers']]\n",
    "\n",
    "filteredA = lowess(customerDateByStoreA.Customers, customerDateByStoreA.Date, is_sorted=False, frac=0.2, it=0)\n",
    "filteredB = lowess(customerDateByStoreB.Customers, customerDateByStoreB.Date, is_sorted=False, frac=0.2, it=0)\n",
    "filteredC = lowess(customerDateByStoreC.Customers, customerDateByStoreC.Date, is_sorted=False, frac=0.2, it=0)\n",
    "filteredD = lowess(customerDateByStoreD.Customers, customerDateByStoreD.Date, is_sorted=False, frac=0.2, it=0)\n",
    "\n",
    "plt.plot(pd.to_datetime(filteredA[:,0]), filteredA[:,1], 'r', label='StoreA')\n",
    "plt.plot(pd.to_datetime(filteredB[:,0]), filteredB[:,1], 'g', label='StoreB')\n",
    "plt.plot(pd.to_datetime(filteredC[:,0]), filteredC[:,1], 'b', label='StoreC')\n",
    "plt.plot(pd.to_datetime(filteredD[:,0]), filteredD[:,1], 'y', label='StoreD')\n",
    "\n",
    "plt.ylabel('Customers')\n",
    "plt.xlabel('Date')\n",
    "plt.legend(bbox_to_anchor=(1.05, 1), loc=2, borderaxespad=0.)\n",
    "plt.show()"
   ]
  },
  {
   "cell_type": "code",
   "execution_count": null,
   "metadata": {},
   "outputs": [],
   "source": [
    "# Sales by store types\n",
    "saleDateByAssortment = saleAndStore[(saleAndStore[\"Sales\"] != 0)][[\"Assortment\",\"Date\",\"Sales\"]]\n",
    "saleDateByAssortment = saleDateByAssortment.groupby(['Assortment','Date']).Sales.mean().reset_index()\n",
    "saleDateByAssortmentA = saleDateByAssortment[saleDateByAssortment[\"Assortment\"] == 'a'][['Date','Sales']]\n",
    "saleDateByAssortmentB = saleDateByAssortment[saleDateByAssortment[\"Assortment\"] == 'b'][['Date','Sales']]\n",
    "saleDateByAssortmentC = saleDateByAssortment[saleDateByAssortment[\"Assortment\"] == 'c'][['Date','Sales']]\n",
    "\n",
    "filteredA = lowess(saleDateByAssortmentA.Sales, saleDateByAssortmentA.Date, is_sorted=False, frac=0.2, it=0)\n",
    "filteredB = lowess(saleDateByAssortmentB.Sales, saleDateByAssortmentB.Date, is_sorted=False, frac=0.2, it=0)\n",
    "filteredC = lowess(saleDateByAssortmentC.Sales, saleDateByAssortmentC.Date, is_sorted=False, frac=0.2, it=0)\n",
    "\n",
    "plt.plot(pd.to_datetime(filteredA[:,0]), filteredA[:,1], 'r', label='AssortmentA')\n",
    "plt.plot(pd.to_datetime(filteredB[:,0]), filteredB[:,1], 'g', label='AssortmentB')\n",
    "plt.plot(pd.to_datetime(filteredC[:,0]), filteredC[:,1], 'b', label='AssortmentC')\n",
    "\n",
    "plt.ylabel('Sales')\n",
    "plt.xlabel('Date')\n",
    "plt.legend(bbox_to_anchor=(1.05, 1), loc=2, borderaxespad=0.)\n",
    "plt.show()"
   ]
  },
  {
   "cell_type": "code",
   "execution_count": null,
   "metadata": {},
   "outputs": [],
   "source": [
    "# Customers by store types\n",
    "customerDateByAssortment = saleAndStore[(saleAndStore[\"Customers\"] != 0)][[\"Assortment\",\"Date\",\"Customers\"]]\n",
    "customerDateByAssortment = customerDateByAssortment.groupby(['Assortment','Date']).Customers.mean().reset_index()\n",
    "customerDateByAssortmentA = customerDateByAssortment[customerDateByAssortment[\"Assortment\"] == 'a'][['Date','Customers']]\n",
    "customerDateByAssortmentB = customerDateByAssortment[customerDateByAssortment[\"Assortment\"] == 'b'][['Date','Customers']]\n",
    "customerDateByAssortmentC = customerDateByAssortment[customerDateByAssortment[\"Assortment\"] == 'c'][['Date','Customers']]\n",
    "\n",
    "filteredA = lowess(customerDateByAssortmentA.Customers, customerDateByAssortmentA.Date, is_sorted=False, frac=0.3, it=0)\n",
    "filteredB = lowess(customerDateByAssortmentB.Customers, customerDateByAssortmentB.Date, is_sorted=False, frac=0.3, it=0)\n",
    "filteredC = lowess(customerDateByAssortmentC.Customers, customerDateByAssortmentC.Date, is_sorted=False, frac=0.3, it=0)\n",
    "\n",
    "plt.plot(pd.to_datetime(filteredA[:,0]), filteredA[:,1], 'r', label='AssortmentA')\n",
    "plt.plot(pd.to_datetime(filteredB[:,0]), filteredB[:,1], 'g', label='AssortmentB')\n",
    "plt.plot(pd.to_datetime(filteredC[:,0]), filteredC[:,1], 'b', label='AssortmentC')\n",
    "\n",
    "plt.ylabel('Customers')\n",
    "plt.xlabel('Date')\n",
    "plt.legend(bbox_to_anchor=(1.05, 1), loc=2, borderaxespad=0.)\n",
    "plt.show()"
   ]
  },
  {
   "cell_type": "code",
   "execution_count": null,
   "metadata": {},
   "outputs": [],
   "source": [
    "# Sales and distance\n",
    "sale_and_distance = saleAndStore[[\"Sales\",\"CompetitionDistance\"]][(saleAndStore[\"Sales\"] != 0) & (~saleAndStore[\"CompetitionDistance\"].isnull())].groupby(['CompetitionDistance']).Sales.mean().reset_index()\n",
    "\n",
    "x = np.log(sale_and_distance.CompetitionDistance)\n",
    "y = np.log(sale_and_distance.Sales)\n",
    "\n",
    "plt.plot(x, y, '.b')\n",
    "\n",
    "filtered = lowess(y, x, is_sorted=False, frac=0.3, it=0)\n",
    "\n",
    "plt.plot(filtered[:,0], filtered[:,1], 'r')\n",
    "\n",
    "plt.xlabel('log(CompetitionDistance)')\n",
    "plt.ylabel('log(Sales)')\n",
    "plt.title('Relation between competition distance and sales')\n",
    "plt.show()"
   ]
  },
  {
   "cell_type": "code",
   "execution_count": null,
   "metadata": {},
   "outputs": [],
   "source": [
    "# Customers and distance\n",
    "customer_and_distance = saleAndStore[[\"Customers\",\"CompetitionDistance\"]][(saleAndStore[\"Customers\"] != 0) & (~saleAndStore[\"CompetitionDistance\"].isnull())].groupby(['CompetitionDistance']).Customers.mean().reset_index()\n",
    "\n",
    "x = np.log(customer_and_distance.CompetitionDistance)\n",
    "y = np.log(customer_and_distance.Customers)\n",
    "\n",
    "plt.plot(x, y, '.b')\n",
    "\n",
    "filtered = lowess(y, x, is_sorted=False, frac=0.3, it=0)\n",
    "\n",
    "plt.plot(filtered[:,0], filtered[:,1], 'r')\n",
    "\n",
    "plt.xlabel('log(CompetitionDistance)')\n",
    "plt.ylabel('log(Customers)')\n",
    "plt.title('Relation between competition distance and customers')\n",
    "plt.show()"
   ]
  },
  {
   "cell_type": "code",
   "execution_count": null,
   "metadata": {},
   "outputs": [],
   "source": []
  },
  {
   "cell_type": "code",
   "execution_count": null,
   "metadata": {},
   "outputs": [],
   "source": [
    "# If stores have competitions, sales might slightly decrease\n",
    "SalesAndCompetition = saleAndStore[['Sales','Date','CompetitionOpenSinceYear','CompetitionOpenSinceMonth']]\n",
    "SalesAndCompetition = SalesAndCompetition.fillna({'CompetitionOpenSinceYear': '9999', 'CompetitionOpenSinceMonth': '99'})\n",
    "SalesAndCompetition['isCompetition'] = np.where((SalesAndCompetition.Date.dt.year >= SalesAndCompetition['CompetitionOpenSinceYear'].astype(int)) &\n",
    "                                                (SalesAndCompetition.Date.dt.month >= SalesAndCompetition['CompetitionOpenSinceMonth'].astype(int)), '1', '0')\n",
    "\n",
    "bp = SalesAndCompetition[SalesAndCompetition[\"Sales\"] != 0].boxplot(column='Sales', by='isCompetition', grid=True, showfliers=False)\n",
    "fig = bp.get_figure()\n",
    "fig.suptitle('')\n",
    "\n",
    "colors = ['coral', 'aquamarine']\n",
    "\n",
    "for i in [0, 1]:\n",
    "    y = SalesAndCompetition[SalesAndCompetition[\"Sales\"] != 0].Sales[SalesAndCompetition.isCompetition==str(i)]\n",
    "    x = np.random.normal(i+1, 0.04, size=len(y))\n",
    "    plt.plot(x, y, 'r.', alpha=0.02, color= colors[i])\n"
   ]
  },
  {
   "cell_type": "code",
   "execution_count": null,
   "metadata": {},
   "outputs": [],
   "source": [
    "# If stores have competitions, customers might slightly decrease\n",
    "CustomersAndCompetition = saleAndStore[['Customers','Date','CompetitionOpenSinceYear','CompetitionOpenSinceMonth']]\n",
    "CustomersAndCompetition = CustomersAndCompetition.fillna({'CompetitionOpenSinceYear': '9999', 'CompetitionOpenSinceMonth': '99'})\n",
    "CustomersAndCompetition['isCompetition'] = np.where((CustomersAndCompetition.Date.dt.year >= CustomersAndCompetition['CompetitionOpenSinceYear'].astype(int)) &\n",
    "                                                (CustomersAndCompetition.Date.dt.month >= CustomersAndCompetition['CompetitionOpenSinceMonth'].astype(int)), '1', '0')\n",
    "\n",
    "bp = CustomersAndCompetition[CustomersAndCompetition[\"Customers\"] != 0].boxplot(column='Customers', by='isCompetition', grid=True, showfliers=False)\n",
    "fig = bp.get_figure()\n",
    "fig.suptitle('')\n",
    "\n",
    "colors = ['coral', 'aquamarine']\n",
    "\n",
    "for i in [0, 1]:\n",
    "    y = CustomersAndCompetition[CustomersAndCompetition[\"Customers\"] != 0].Customers[CustomersAndCompetition.isCompetition==str(i)]\n",
    "    x = np.random.normal(i+1, 0.04, size=len(y))\n",
    "    plt.plot(x, y, 'r.', alpha=0.02, color= colors[i])\n"
   ]
  },
  {
   "cell_type": "code",
   "execution_count": null,
   "metadata": {},
   "outputs": [],
   "source": [
    "saleAndCompetitionBeforeAfter = saleAndStore[~saleAndStore['CompetitionOpenSinceYear'].isnull()][['Store','Date','CompetitionOpenSinceYear','CompetitionOpenSinceMonth','Sales']]\n",
    "\n",
    "competitionOpenYearMonth = saleAndCompetitionBeforeAfter.CompetitionOpenSinceYear.str.cat(saleAndCompetitionBeforeAfter.CompetitionOpenSinceMonth)\n",
    "saleAndCompetitionBeforeAfter['competitionOpenYearMonth'] = pd.to_datetime(competitionOpenYearMonth.dropna(), format='%Y%m', errors='ignore')\n",
    "saleAndCompetitionBeforeAfter['competitionOpenYearMonthBefore'] = saleAndCompetitionBeforeAfter['competitionOpenYearMonth'] + pd.DateOffset(months=-5)\n",
    "saleAndCompetitionBeforeAfter['competitionOpenYearMonthAfter'] = saleAndCompetitionBeforeAfter['competitionOpenYearMonth'] + pd.DateOffset(months=5)\n",
    "\n",
    "result = saleAndCompetitionBeforeAfter[['Store', 'Date', 'Sales','competitionOpenYearMonth']][((saleAndCompetitionBeforeAfter['Date'] >= saleAndCompetitionBeforeAfter['competitionOpenYearMonthBefore']) & (saleAndCompetitionBeforeAfter['Date'] <= saleAndCompetitionBeforeAfter['competitionOpenYearMonthAfter'])) & (saleAndCompetitionBeforeAfter['Sales']!=0)]\n",
    "\n",
    "filtered = lowess(result.Sales, (result.Date - result.competitionOpenYearMonth).dt.days, is_sorted=False, frac=0.5, it=0)\n",
    "\n",
    "plt.plot(filtered[:,0], filtered[:,1], '.g')\n",
    "\n",
    "plt.xlabel('Days')\n",
    "plt.ylabel('Sales')\n",
    "plt.title('Sales before and after competition store open')\n",
    "plt.show()\n",
    "\n"
   ]
  },
  {
   "cell_type": "code",
   "execution_count": null,
   "metadata": {},
   "outputs": [],
   "source": [
    "customersAndCompetitionBeforeAfter = saleAndStore[~saleAndStore['CompetitionOpenSinceYear'].isnull()][['Store','Date','CompetitionOpenSinceYear','CompetitionOpenSinceMonth','Customers']]\n",
    "\n",
    "competitionOpenYearMonth = customersAndCompetitionBeforeAfter.CompetitionOpenSinceYear.str.cat(customersAndCompetitionBeforeAfter.CompetitionOpenSinceMonth)\n",
    "customersAndCompetitionBeforeAfter['competitionOpenYearMonth'] = pd.to_datetime(competitionOpenYearMonth.dropna(), format='%Y%m', errors='ignore')\n",
    "customersAndCompetitionBeforeAfter['competitionOpenYearMonthBefore'] = customersAndCompetitionBeforeAfter['competitionOpenYearMonth'] + pd.DateOffset(months=-5)\n",
    "customersAndCompetitionBeforeAfter['competitionOpenYearMonthAfter'] = customersAndCompetitionBeforeAfter['competitionOpenYearMonth'] + pd.DateOffset(months=5)\n",
    "\n",
    "result = customersAndCompetitionBeforeAfter[['Store', 'Date', 'Customers','competitionOpenYearMonth']][((customersAndCompetitionBeforeAfter['Date'] >= customersAndCompetitionBeforeAfter['competitionOpenYearMonthBefore']) & (customersAndCompetitionBeforeAfter['Date'] <= customersAndCompetitionBeforeAfter['competitionOpenYearMonthAfter'])) & (customersAndCompetitionBeforeAfter['Customers']!=0)]\n",
    "\n",
    "filtered = lowess(result.Customers, (result.Date - result.competitionOpenYearMonth).dt.days, is_sorted=False, frac=0.5, it=0)\n",
    "\n",
    "plt.plot(filtered[:,0], filtered[:,1], '.g')\n",
    "\n",
    "plt.xlabel('Days')\n",
    "plt.ylabel('Customers')\n",
    "plt.title('Customers before and after competition store open')\n",
    "plt.show()\n"
   ]
  },
  {
   "cell_type": "code",
   "execution_count": null,
   "metadata": {},
   "outputs": [],
   "source": [
    "saleAndDate = saleAndStore[['Sales','Date']][saleAndStore['Sales'] != 0]\n",
    "saleByMonth2013 = saleAndDate[saleAndDate['Date'].dt.year == 2013].groupby(saleAndDate['Date'].dt.strftime('%m'))['Sales'].mean().sort_index(level=\"Date\", ascending=True)\n",
    "saleByMonth2014 = saleAndDate[saleAndDate['Date'].dt.year == 2014].groupby(saleAndDate['Date'].dt.strftime('%m'))['Sales'].mean().sort_index(level=\"Date\", ascending=True)\n",
    "saleByMonth2015 = saleAndDate[saleAndDate['Date'].dt.year == 2015].groupby(saleAndDate['Date'].dt.strftime('%m'))['Sales'].mean().sort_index(level=\"Date\", ascending=True)\n",
    "\n",
    "plt.plot(saleByMonth2013.keys(), (saleByMonth2013 / np.mean(saleByMonth2013)) * 100, '-g', label = '2013')\n",
    "plt.plot(saleByMonth2014.keys(), (saleByMonth2014 / np.mean(saleByMonth2014)) * 100, '-r', label = '2014')\n",
    "plt.plot(saleByMonth2015.keys(), (saleByMonth2015 / np.mean(saleByMonth2015)) * 100, '-b', label = '2015')\n",
    "\n",
    "plt.xlabel('Month')\n",
    "plt.ylabel('Percent sales')\n",
    "plt.title('Sales by months')\n",
    "plt.legend()\n",
    "plt.show()\n"
   ]
  },
  {
   "cell_type": "code",
   "execution_count": null,
   "metadata": {},
   "outputs": [],
   "source": [
    "customerAndDate = saleAndStore[['Customers','Date']][saleAndStore['Customers'] != 0]\n",
    "customerByMonth2013 = customerAndDate[customerAndDate['Date'].dt.year == 2013].groupby(customerAndDate['Date'].dt.strftime('%m'))['Customers'].mean().sort_index(level=\"Date\", ascending=True)\n",
    "customerByMonth2014 = customerAndDate[customerAndDate['Date'].dt.year == 2014].groupby(customerAndDate['Date'].dt.strftime('%m'))['Customers'].mean().sort_index(level=\"Date\", ascending=True)\n",
    "customerByMonth2015 = customerAndDate[customerAndDate['Date'].dt.year == 2015].groupby(customerAndDate['Date'].dt.strftime('%m'))['Customers'].mean().sort_index(level=\"Date\", ascending=True)\n",
    "\n",
    "plt.plot(customerByMonth2013.keys(), (customerByMonth2013 / np.mean(customerByMonth2013)) * 100, '-g', label = '2013')\n",
    "plt.plot(customerByMonth2014.keys(), (customerByMonth2014 / np.mean(customerByMonth2014)) * 100, '-r', label = '2014')\n",
    "plt.plot(customerByMonth2015.keys(), (customerByMonth2015 / np.mean(customerByMonth2015)) * 100, '-b', label = '2015')\n",
    "\n",
    "plt.xlabel('Month')\n",
    "plt.ylabel('Percent customers')\n",
    "plt.title('Customers by months')\n",
    "plt.legend()\n",
    "plt.show()\n"
   ]
  },
  {
   "cell_type": "code",
   "execution_count": null,
   "metadata": {},
   "outputs": [],
   "source": [
    "# Sale and Promotion Interval by months\n",
    "saleAndStore = pd.merge(train, store, on='Store')\n",
    "saleAndStore.PromoInterval.cat.add_categories('None', inplace=True)\n",
    "saleAndStore = saleAndStore.fillna({'PromoInterval': 'None'})\n",
    "bp = saleAndStore[saleAndStore[\"Sales\"] != 0].boxplot(column='Sales', by='PromoInterval', grid=True, showfliers=False)\n",
    "fig = bp.get_figure()\n",
    "fig.suptitle('')\n",
    "\n",
    "PromoInterval=['Feb,May,Aug,Nov', 'Jan,Apr,Jul,Oct', 'Mar,Jun,Sept,Dec', 'None']\n",
    "colors = ['teal', 'orangered', 'blue', 'purple']\n",
    "\n",
    "for i,j in enumerate(PromoInterval):\n",
    "    y = saleAndStore[saleAndStore[\"Sales\"] != 0].Sales[saleAndStore.PromoInterval==j]\n",
    "    x = np.random.normal(i+1, 0.1, size=len(y))\n",
    "    plt.plot(x, y, 'r.', alpha=0.4, color= colors[i])"
   ]
  },
  {
   "cell_type": "code",
   "execution_count": null,
   "metadata": {},
   "outputs": [],
   "source": [
    "# If stores have competitions, sales might slightly decrease\n",
    "SalesAndCompetition = saleAndStore[['Sales','Date','CompetitionOpenSinceYear','CompetitionOpenSinceMonth']]\n",
    "SalesAndCompetition = SalesAndCompetition.fillna({'CompetitionOpenSinceYear': '9999', 'CompetitionOpenSinceMonth': '99'})\n",
    "SalesAndCompetition['isCompetition'] = np.where((SalesAndCompetition.Date.dt.year >= SalesAndCompetition['CompetitionOpenSinceYear'].astype(int)) &\n",
    "                                                (SalesAndCompetition.Date.dt.month >= SalesAndCompetition['CompetitionOpenSinceMonth'].astype(int)), '1', '0')\n",
    "\n",
    "bp = SalesAndCompetition[SalesAndCompetition[\"Sales\"] != 0].boxplot(column='Sales', by='isCompetition', grid=True, showfliers=False)\n",
    "fig = bp.get_figure()\n",
    "fig.suptitle('')\n",
    "\n",
    "colors = ['coral', 'aquamarine']\n",
    "\n",
    "for i in [0, 1]:\n",
    "    y = SalesAndCompetition[SalesAndCompetition[\"Sales\"] != 0].Sales[SalesAndCompetition.isCompetition==str(i)]\n",
    "    x = np.random.normal(i+1, 0.04, size=len(y))\n",
    "    plt.plot(x, y, 'r.', alpha=0.02, color= colors[i])\n"
   ]
  },
  {
   "cell_type": "code",
   "execution_count": null,
   "metadata": {},
   "outputs": [],
   "source": []
  },
  {
   "cell_type": "code",
   "execution_count": null,
   "metadata": {},
   "outputs": [],
   "source": []
  },
  {
   "cell_type": "code",
   "execution_count": null,
   "metadata": {},
   "outputs": [],
   "source": []
  },
  {
   "cell_type": "markdown",
   "metadata": {
    "scrolled": true
   },
   "source": [
    "# Feature selection"
   ]
  },
  {
   "cell_type": "code",
   "execution_count": 131,
   "metadata": {},
   "outputs": [
    {
     "data": {
      "text/html": [
       "<div>\n",
       "<style scoped>\n",
       "    .dataframe tbody tr th:only-of-type {\n",
       "        vertical-align: middle;\n",
       "    }\n",
       "\n",
       "    .dataframe tbody tr th {\n",
       "        vertical-align: top;\n",
       "    }\n",
       "\n",
       "    .dataframe thead th {\n",
       "        text-align: right;\n",
       "    }\n",
       "</style>\n",
       "<table border=\"1\" class=\"dataframe\">\n",
       "  <thead>\n",
       "    <tr style=\"text-align: right;\">\n",
       "      <th></th>\n",
       "      <th>Store</th>\n",
       "      <th>DayOfWeek</th>\n",
       "      <th>Date</th>\n",
       "      <th>Sales</th>\n",
       "      <th>Customers</th>\n",
       "      <th>Open</th>\n",
       "      <th>Promo</th>\n",
       "      <th>StateHoliday</th>\n",
       "      <th>SchoolHoliday</th>\n",
       "    </tr>\n",
       "  </thead>\n",
       "  <tbody>\n",
       "    <tr>\n",
       "      <th>291</th>\n",
       "      <td>292</td>\n",
       "      <td>5</td>\n",
       "      <td>2015-07-31</td>\n",
       "      <td>0</td>\n",
       "      <td>0</td>\n",
       "      <td>0</td>\n",
       "      <td>1</td>\n",
       "      <td>0</td>\n",
       "      <td>1</td>\n",
       "    </tr>\n",
       "    <tr>\n",
       "      <th>875</th>\n",
       "      <td>876</td>\n",
       "      <td>5</td>\n",
       "      <td>2015-07-31</td>\n",
       "      <td>0</td>\n",
       "      <td>0</td>\n",
       "      <td>0</td>\n",
       "      <td>1</td>\n",
       "      <td>0</td>\n",
       "      <td>1</td>\n",
       "    </tr>\n",
       "    <tr>\n",
       "      <th>1406</th>\n",
       "      <td>292</td>\n",
       "      <td>4</td>\n",
       "      <td>2015-07-30</td>\n",
       "      <td>0</td>\n",
       "      <td>0</td>\n",
       "      <td>0</td>\n",
       "      <td>1</td>\n",
       "      <td>0</td>\n",
       "      <td>1</td>\n",
       "    </tr>\n",
       "    <tr>\n",
       "      <th>1990</th>\n",
       "      <td>876</td>\n",
       "      <td>4</td>\n",
       "      <td>2015-07-30</td>\n",
       "      <td>0</td>\n",
       "      <td>0</td>\n",
       "      <td>0</td>\n",
       "      <td>1</td>\n",
       "      <td>0</td>\n",
       "      <td>1</td>\n",
       "    </tr>\n",
       "    <tr>\n",
       "      <th>2521</th>\n",
       "      <td>292</td>\n",
       "      <td>3</td>\n",
       "      <td>2015-07-29</td>\n",
       "      <td>0</td>\n",
       "      <td>0</td>\n",
       "      <td>0</td>\n",
       "      <td>1</td>\n",
       "      <td>0</td>\n",
       "      <td>1</td>\n",
       "    </tr>\n",
       "  </tbody>\n",
       "</table>\n",
       "</div>"
      ],
      "text/plain": [
       "      Store DayOfWeek       Date  Sales  Customers Open Promo StateHoliday  \\\n",
       "291     292         5 2015-07-31      0          0    0     1            0   \n",
       "875     876         5 2015-07-31      0          0    0     1            0   \n",
       "1406    292         4 2015-07-30      0          0    0     1            0   \n",
       "1990    876         4 2015-07-30      0          0    0     1            0   \n",
       "2521    292         3 2015-07-29      0          0    0     1            0   \n",
       "\n",
       "     SchoolHoliday  \n",
       "291              1  \n",
       "875              1  \n",
       "1406             1  \n",
       "1990             1  \n",
       "2521             1  "
      ]
     },
     "execution_count": 131,
     "metadata": {},
     "output_type": "execute_result"
    }
   ],
   "source": [
    "# get only rows that the shops are open\n",
    "train[train[\"Open\"] == '0'].head()"
   ]
  },
  {
   "cell_type": "code",
   "execution_count": 132,
   "metadata": {},
   "outputs": [],
   "source": [
    "# train data\n",
    "# remove the row that shops are closed\n",
    "train = train[train[\"Open\"] != '0']"
   ]
  },
  {
   "cell_type": "code",
   "execution_count": 133,
   "metadata": {},
   "outputs": [],
   "source": [
    "# Merge with store data\n",
    "train = pd.merge(train, store, on='Store')"
   ]
  },
  {
   "cell_type": "code",
   "execution_count": 134,
   "metadata": {},
   "outputs": [
    {
     "data": {
      "text/html": [
       "<div>\n",
       "<style scoped>\n",
       "    .dataframe tbody tr th:only-of-type {\n",
       "        vertical-align: middle;\n",
       "    }\n",
       "\n",
       "    .dataframe tbody tr th {\n",
       "        vertical-align: top;\n",
       "    }\n",
       "\n",
       "    .dataframe thead th {\n",
       "        text-align: right;\n",
       "    }\n",
       "</style>\n",
       "<table border=\"1\" class=\"dataframe\">\n",
       "  <thead>\n",
       "    <tr style=\"text-align: right;\">\n",
       "      <th></th>\n",
       "      <th>Store</th>\n",
       "      <th>DayOfWeek</th>\n",
       "      <th>Date</th>\n",
       "      <th>Sales</th>\n",
       "      <th>Customers</th>\n",
       "      <th>Open</th>\n",
       "      <th>Promo</th>\n",
       "      <th>StateHoliday</th>\n",
       "      <th>SchoolHoliday</th>\n",
       "      <th>StoreType</th>\n",
       "      <th>Assortment</th>\n",
       "      <th>CompetitionDistance</th>\n",
       "      <th>CompetitionOpenSinceMonth</th>\n",
       "      <th>CompetitionOpenSinceYear</th>\n",
       "      <th>Promo2</th>\n",
       "      <th>Promo2SinceWeek</th>\n",
       "      <th>Promo2SinceYear</th>\n",
       "      <th>PromoInterval</th>\n",
       "    </tr>\n",
       "  </thead>\n",
       "  <tbody>\n",
       "    <tr>\n",
       "      <th>0</th>\n",
       "      <td>1</td>\n",
       "      <td>5</td>\n",
       "      <td>2015-07-31</td>\n",
       "      <td>5263</td>\n",
       "      <td>555</td>\n",
       "      <td>1</td>\n",
       "      <td>1</td>\n",
       "      <td>0</td>\n",
       "      <td>1</td>\n",
       "      <td>c</td>\n",
       "      <td>a</td>\n",
       "      <td>1270.000000</td>\n",
       "      <td>9</td>\n",
       "      <td>2008</td>\n",
       "      <td>0</td>\n",
       "      <td>NaN</td>\n",
       "      <td>NaN</td>\n",
       "      <td>NaN</td>\n",
       "    </tr>\n",
       "    <tr>\n",
       "      <th>1</th>\n",
       "      <td>1</td>\n",
       "      <td>4</td>\n",
       "      <td>2015-07-30</td>\n",
       "      <td>5020</td>\n",
       "      <td>546</td>\n",
       "      <td>1</td>\n",
       "      <td>1</td>\n",
       "      <td>0</td>\n",
       "      <td>1</td>\n",
       "      <td>c</td>\n",
       "      <td>a</td>\n",
       "      <td>1270.000000</td>\n",
       "      <td>9</td>\n",
       "      <td>2008</td>\n",
       "      <td>0</td>\n",
       "      <td>NaN</td>\n",
       "      <td>NaN</td>\n",
       "      <td>NaN</td>\n",
       "    </tr>\n",
       "    <tr>\n",
       "      <th>2</th>\n",
       "      <td>1</td>\n",
       "      <td>3</td>\n",
       "      <td>2015-07-29</td>\n",
       "      <td>4782</td>\n",
       "      <td>523</td>\n",
       "      <td>1</td>\n",
       "      <td>1</td>\n",
       "      <td>0</td>\n",
       "      <td>1</td>\n",
       "      <td>c</td>\n",
       "      <td>a</td>\n",
       "      <td>1270.000000</td>\n",
       "      <td>9</td>\n",
       "      <td>2008</td>\n",
       "      <td>0</td>\n",
       "      <td>NaN</td>\n",
       "      <td>NaN</td>\n",
       "      <td>NaN</td>\n",
       "    </tr>\n",
       "    <tr>\n",
       "      <th>3</th>\n",
       "      <td>1</td>\n",
       "      <td>2</td>\n",
       "      <td>2015-07-28</td>\n",
       "      <td>5011</td>\n",
       "      <td>560</td>\n",
       "      <td>1</td>\n",
       "      <td>1</td>\n",
       "      <td>0</td>\n",
       "      <td>1</td>\n",
       "      <td>c</td>\n",
       "      <td>a</td>\n",
       "      <td>1270.000000</td>\n",
       "      <td>9</td>\n",
       "      <td>2008</td>\n",
       "      <td>0</td>\n",
       "      <td>NaN</td>\n",
       "      <td>NaN</td>\n",
       "      <td>NaN</td>\n",
       "    </tr>\n",
       "    <tr>\n",
       "      <th>4</th>\n",
       "      <td>1</td>\n",
       "      <td>1</td>\n",
       "      <td>2015-07-27</td>\n",
       "      <td>6102</td>\n",
       "      <td>612</td>\n",
       "      <td>1</td>\n",
       "      <td>1</td>\n",
       "      <td>0</td>\n",
       "      <td>1</td>\n",
       "      <td>c</td>\n",
       "      <td>a</td>\n",
       "      <td>1270.000000</td>\n",
       "      <td>9</td>\n",
       "      <td>2008</td>\n",
       "      <td>0</td>\n",
       "      <td>NaN</td>\n",
       "      <td>NaN</td>\n",
       "      <td>NaN</td>\n",
       "    </tr>\n",
       "  </tbody>\n",
       "</table>\n",
       "</div>"
      ],
      "text/plain": [
       "   Store DayOfWeek       Date  Sales  Customers Open Promo StateHoliday  \\\n",
       "0      1         5 2015-07-31   5263        555    1     1            0   \n",
       "1      1         4 2015-07-30   5020        546    1     1            0   \n",
       "2      1         3 2015-07-29   4782        523    1     1            0   \n",
       "3      1         2 2015-07-28   5011        560    1     1            0   \n",
       "4      1         1 2015-07-27   6102        612    1     1            0   \n",
       "\n",
       "  SchoolHoliday StoreType Assortment  CompetitionDistance  \\\n",
       "0             1         c          a          1270.000000   \n",
       "1             1         c          a          1270.000000   \n",
       "2             1         c          a          1270.000000   \n",
       "3             1         c          a          1270.000000   \n",
       "4             1         c          a          1270.000000   \n",
       "\n",
       "  CompetitionOpenSinceMonth CompetitionOpenSinceYear Promo2 Promo2SinceWeek  \\\n",
       "0                         9                     2008      0             NaN   \n",
       "1                         9                     2008      0             NaN   \n",
       "2                         9                     2008      0             NaN   \n",
       "3                         9                     2008      0             NaN   \n",
       "4                         9                     2008      0             NaN   \n",
       "\n",
       "  Promo2SinceYear PromoInterval  \n",
       "0             NaN           NaN  \n",
       "1             NaN           NaN  \n",
       "2             NaN           NaN  \n",
       "3             NaN           NaN  \n",
       "4             NaN           NaN  "
      ]
     },
     "execution_count": 134,
     "metadata": {},
     "output_type": "execute_result"
    }
   ],
   "source": [
    "train.head()"
   ]
  },
  {
   "cell_type": "code",
   "execution_count": 135,
   "metadata": {},
   "outputs": [],
   "source": [
    "# Add is Competition\n",
    "SalesAndCompetition = train[['Date','CompetitionOpenSinceYear','CompetitionOpenSinceMonth']]\n",
    "SalesAndCompetition = SalesAndCompetition.fillna({'CompetitionOpenSinceYear': '9999', 'CompetitionOpenSinceMonth': '99'})\n",
    "train['isCompetition'] = np.where((SalesAndCompetition.Date.dt.year >= SalesAndCompetition['CompetitionOpenSinceYear'].astype(int)) &\n",
    "                                                (SalesAndCompetition.Date.dt.month >= SalesAndCompetition['CompetitionOpenSinceMonth'].astype(int)), '1', '0')\n"
   ]
  },
  {
   "cell_type": "code",
   "execution_count": 136,
   "metadata": {},
   "outputs": [],
   "source": [
    "# Add is Promo2\n",
    "SalesAndPromo2 = train[['Date','Promo2','Promo2SinceWeek','Promo2SinceYear', 'PromoInterval']]\n",
    "SalesAndPromo2 = SalesAndPromo2.fillna({'Promo2SinceYear': '9999', 'Promo2SinceWeek': '99', 'PromoInterval': 'None'})\n",
    "train['isPromo2'] = np.where((SalesAndPromo2.Date.dt.year >= SalesAndPromo2['Promo2SinceYear'].astype(int)) &\n",
    "                             (SalesAndPromo2.Date.dt.week >= SalesAndPromo2['Promo2SinceWeek'].astype(int))\n",
    "                             , '1', '0')\n",
    "train['isPromo2'] = train.apply(lambda x: '1' if x.isPromo2 != '0' and calendar.month_abbr[x.Date.month] in x.PromoInterval else '0', axis=1)\n",
    "\n"
   ]
  },
  {
   "cell_type": "code",
   "execution_count": 137,
   "metadata": {
    "scrolled": true
   },
   "outputs": [],
   "source": [
    "train['Year'] = train.Date.dt.year\n",
    "train['Month'] = train.Date.dt.month\n",
    "train['Day'] = train.Date.dt.day\n",
    "train['WeekOfYear'] = train.Date.dt.weekofyear"
   ]
  },
  {
   "cell_type": "code",
   "execution_count": 138,
   "metadata": {},
   "outputs": [],
   "source": [
    "train.loc[train['StateHoliday'] == 'a', 'StateHoliday'] = '1'\n",
    "train.loc[train['StateHoliday'] == 'b', 'StateHoliday'] = '2'\n",
    "train.loc[train['StateHoliday'] == 'c', 'StateHoliday'] = '3'\n",
    "train['StateHoliday'] = train['StateHoliday'].astype(float)"
   ]
  },
  {
   "cell_type": "code",
   "execution_count": 139,
   "metadata": {},
   "outputs": [],
   "source": [
    "train.loc[train['StoreType'] == 'a', 'StoreType'] = '1'\n",
    "train.loc[train['StoreType'] == 'b', 'StoreType'] = '2'\n",
    "train.loc[train['StoreType'] == 'c', 'StoreType'] = '3'\n",
    "train.loc[train['StoreType'] == 'd', 'StoreType'] = '4'\n",
    "train['StoreType'] = train['StoreType'].astype(float)"
   ]
  },
  {
   "cell_type": "code",
   "execution_count": 140,
   "metadata": {},
   "outputs": [],
   "source": [
    "train.loc[train['Assortment'] == 'a', 'Assortment'] = '1'\n",
    "train.loc[train['Assortment'] == 'b', 'Assortment'] = '2'\n",
    "train.loc[train['Assortment'] == 'c', 'Assortment'] = '3'\n",
    "train['Assortment'] = train['Assortment'].astype(float)"
   ]
  },
  {
   "cell_type": "code",
   "execution_count": 141,
   "metadata": {},
   "outputs": [],
   "source": [
    "train.CompetitionDistance.fillna(1, inplace=True)"
   ]
  },
  {
   "cell_type": "code",
   "execution_count": null,
   "metadata": {},
   "outputs": [],
   "source": []
  },
  {
   "cell_type": "code",
   "execution_count": null,
   "metadata": {
    "scrolled": true
   },
   "outputs": [],
   "source": []
  },
  {
   "cell_type": "code",
   "execution_count": 142,
   "metadata": {
    "scrolled": true
   },
   "outputs": [],
   "source": [
    "train_data = train[['Store', 'DayOfWeek', 'Promo', 'StateHoliday', 'SchoolHoliday', 'StoreType', 'Assortment', 'CompetitionDistance', 'isCompetition', 'isPromo2', 'Year', 'Month', 'Day', 'WeekOfYear']]\n",
    "train_target = train[['Sales']]"
   ]
  },
  {
   "cell_type": "code",
   "execution_count": 144,
   "metadata": {},
   "outputs": [
    {
     "data": {
      "text/html": [
       "<div>\n",
       "<style scoped>\n",
       "    .dataframe tbody tr th:only-of-type {\n",
       "        vertical-align: middle;\n",
       "    }\n",
       "\n",
       "    .dataframe tbody tr th {\n",
       "        vertical-align: top;\n",
       "    }\n",
       "\n",
       "    .dataframe thead th {\n",
       "        text-align: right;\n",
       "    }\n",
       "</style>\n",
       "<table border=\"1\" class=\"dataframe\">\n",
       "  <thead>\n",
       "    <tr style=\"text-align: right;\">\n",
       "      <th></th>\n",
       "      <th>Store</th>\n",
       "      <th>DayOfWeek</th>\n",
       "      <th>Promo</th>\n",
       "      <th>StateHoliday</th>\n",
       "      <th>SchoolHoliday</th>\n",
       "      <th>StoreType</th>\n",
       "      <th>Assortment</th>\n",
       "      <th>CompetitionDistance</th>\n",
       "      <th>isCompetition</th>\n",
       "      <th>isPromo2</th>\n",
       "      <th>Year</th>\n",
       "      <th>Month</th>\n",
       "      <th>Day</th>\n",
       "      <th>WeekOfYear</th>\n",
       "    </tr>\n",
       "  </thead>\n",
       "  <tbody>\n",
       "    <tr>\n",
       "      <th>0</th>\n",
       "      <td>1</td>\n",
       "      <td>5</td>\n",
       "      <td>1</td>\n",
       "      <td>0.000000</td>\n",
       "      <td>1</td>\n",
       "      <td>3.000000</td>\n",
       "      <td>1.000000</td>\n",
       "      <td>1270.000000</td>\n",
       "      <td>0</td>\n",
       "      <td>0</td>\n",
       "      <td>2015</td>\n",
       "      <td>7</td>\n",
       "      <td>31</td>\n",
       "      <td>31</td>\n",
       "    </tr>\n",
       "    <tr>\n",
       "      <th>1</th>\n",
       "      <td>1</td>\n",
       "      <td>4</td>\n",
       "      <td>1</td>\n",
       "      <td>0.000000</td>\n",
       "      <td>1</td>\n",
       "      <td>3.000000</td>\n",
       "      <td>1.000000</td>\n",
       "      <td>1270.000000</td>\n",
       "      <td>0</td>\n",
       "      <td>0</td>\n",
       "      <td>2015</td>\n",
       "      <td>7</td>\n",
       "      <td>30</td>\n",
       "      <td>31</td>\n",
       "    </tr>\n",
       "    <tr>\n",
       "      <th>2</th>\n",
       "      <td>1</td>\n",
       "      <td>3</td>\n",
       "      <td>1</td>\n",
       "      <td>0.000000</td>\n",
       "      <td>1</td>\n",
       "      <td>3.000000</td>\n",
       "      <td>1.000000</td>\n",
       "      <td>1270.000000</td>\n",
       "      <td>0</td>\n",
       "      <td>0</td>\n",
       "      <td>2015</td>\n",
       "      <td>7</td>\n",
       "      <td>29</td>\n",
       "      <td>31</td>\n",
       "    </tr>\n",
       "    <tr>\n",
       "      <th>3</th>\n",
       "      <td>1</td>\n",
       "      <td>2</td>\n",
       "      <td>1</td>\n",
       "      <td>0.000000</td>\n",
       "      <td>1</td>\n",
       "      <td>3.000000</td>\n",
       "      <td>1.000000</td>\n",
       "      <td>1270.000000</td>\n",
       "      <td>0</td>\n",
       "      <td>0</td>\n",
       "      <td>2015</td>\n",
       "      <td>7</td>\n",
       "      <td>28</td>\n",
       "      <td>31</td>\n",
       "    </tr>\n",
       "    <tr>\n",
       "      <th>4</th>\n",
       "      <td>1</td>\n",
       "      <td>1</td>\n",
       "      <td>1</td>\n",
       "      <td>0.000000</td>\n",
       "      <td>1</td>\n",
       "      <td>3.000000</td>\n",
       "      <td>1.000000</td>\n",
       "      <td>1270.000000</td>\n",
       "      <td>0</td>\n",
       "      <td>0</td>\n",
       "      <td>2015</td>\n",
       "      <td>7</td>\n",
       "      <td>27</td>\n",
       "      <td>31</td>\n",
       "    </tr>\n",
       "  </tbody>\n",
       "</table>\n",
       "</div>"
      ],
      "text/plain": [
       "   Store DayOfWeek Promo  StateHoliday SchoolHoliday  StoreType  Assortment  \\\n",
       "0      1         5     1      0.000000             1   3.000000    1.000000   \n",
       "1      1         4     1      0.000000             1   3.000000    1.000000   \n",
       "2      1         3     1      0.000000             1   3.000000    1.000000   \n",
       "3      1         2     1      0.000000             1   3.000000    1.000000   \n",
       "4      1         1     1      0.000000             1   3.000000    1.000000   \n",
       "\n",
       "   CompetitionDistance isCompetition isPromo2  Year  Month  Day  WeekOfYear  \n",
       "0          1270.000000             0        0  2015      7   31          31  \n",
       "1          1270.000000             0        0  2015      7   30          31  \n",
       "2          1270.000000             0        0  2015      7   29          31  \n",
       "3          1270.000000             0        0  2015      7   28          31  \n",
       "4          1270.000000             0        0  2015      7   27          31  "
      ]
     },
     "execution_count": 144,
     "metadata": {},
     "output_type": "execute_result"
    }
   ],
   "source": [
    "train_data.head()"
   ]
  },
  {
   "cell_type": "code",
   "execution_count": 93,
   "metadata": {},
   "outputs": [
    {
     "name": "stdout",
     "output_type": "stream",
     "text": [
      "Once deleted, variables cannot be recovered. Proceed (y/[n])? y\n"
     ]
    }
   ],
   "source": [
    "%reset"
   ]
  },
  {
   "cell_type": "code",
   "execution_count": 157,
   "metadata": {},
   "outputs": [
    {
     "name": "stdout",
     "output_type": "stream",
     "text": [
      "Feature ranking:\n",
      "1. feature Store (0.146940)\n",
      "2. feature Day (0.145759)\n",
      "3. feature CompetitionDistance (0.143869)\n",
      "4. feature WeekOfYear (0.113133)\n",
      "5. feature DayOfWeek (0.085064)\n",
      "6. feature Year (0.073011)\n",
      "7. feature Month (0.072006)\n",
      "8. feature StoreType (0.044681)\n",
      "9. feature isCompetition (0.044027)\n",
      "10. feature SchoolHoliday (0.035385)\n",
      "11. feature isPromo2 (0.033615)\n",
      "12. feature Assortment (0.032958)\n",
      "13. feature Promo (0.019098)\n",
      "14. feature StateHoliday (0.010455)\n"
     ]
    },
    {
     "data": {
      "image/png": "[encoded data removed]",
      "text/plain": [
       "<matplotlib.figure.Figure at 0x1893ff35438>"
      ]
     },
     "metadata": {},
     "output_type": "display_data"
    }
   ],
   "source": [
    "from sklearn.ensemble import RandomForestClassifier\n",
    "\n",
    "# Build a classification task using 3 informative features\n",
    "\n",
    "# Build a forest and compute the feature importances\n",
    "forest = RandomForestClassifier(max_depth=10, random_state=0)\n",
    "\n",
    "\n",
    "X = train_data\n",
    "y = train_target\n",
    "forest.fit(X, y.values.ravel())\n",
    "importances = forest.feature_importances_\n",
    "std = np.std([tree.feature_importances_ for tree in forest.estimators_],\n",
    "             axis=0)\n",
    "indices = np.argsort(importances)[::-1]\n",
    "\n",
    "# Print the feature ranking\n",
    "print(\"Feature ranking:\")\n",
    "\n",
    "for f in range(X.shape[1]):\n",
    "    print(\"%d. feature %s (%f)\" % (f + 1, X.columns[indices[f]], importances[indices[f]]))\n",
    "\n",
    "# Plot the feature importances of the forest\n",
    "plt.figure()\n",
    "plt.title(\"Feature importances\")\n",
    "plt.bar(range(X.shape[1]), importances[indices],\n",
    "       color=\"r\", yerr=std[indices], align=\"center\")\n",
    "plt.xticks(range(X.shape[1]), list(map(lambda x: X.columns[x], indices)), rotation=90)\n",
    "plt.xlim([-1, X.shape[1]])\n",
    "plt.show()"
   ]
  },
  {
   "cell_type": "code",
   "execution_count": 158,
   "metadata": {},
   "outputs": [
    {
     "name": "stdout",
     "output_type": "stream",
     "text": [
      "Feature ranking:\n",
      "1. feature Store (0.117028)\n",
      "2. feature CompetitionDistance (0.109079)\n",
      "3. feature Day (0.098419)\n",
      "4. feature WeekOfYear (0.093262)\n",
      "5. feature DayOfWeek (0.089786)\n",
      "6. feature Month (0.085611)\n",
      "7. feature Year (0.079133)\n",
      "8. feature StoreType (0.079132)\n",
      "9. feature Assortment (0.056629)\n",
      "10. feature SchoolHoliday (0.052768)\n",
      "11. feature isCompetition (0.045696)\n",
      "12. feature Promo (0.040441)\n",
      "13. feature isPromo2 (0.035587)\n",
      "14. feature StateHoliday (0.017430)\n"
     ]
    },
    {
     "data": {
      "image/png": "[encoded data removed]",
      "text/plain": [
       "<matplotlib.figure.Figure at 0x189406d4160>"
      ]
     },
     "metadata": {},
     "output_type": "display_data"
    }
   ],
   "source": [
    "from sklearn.ensemble import ExtraTreesClassifier\n",
    "\n",
    "# Build a classification task using 3 informative features\n",
    "\n",
    "# Build a forest and compute the feature importances\n",
    "forest = ExtraTreesClassifier(max_depth=10,\n",
    "                              n_estimators=5,\n",
    "                              random_state=0)\n",
    "\n",
    "\n",
    "X = train_data\n",
    "y = train_target\n",
    "forest.fit(X, y.values.ravel())\n",
    "importances = forest.feature_importances_\n",
    "std = np.std([tree.feature_importances_ for tree in forest.estimators_],\n",
    "             axis=0)\n",
    "indices = np.argsort(importances)[::-1]\n",
    "\n",
    "# Print the feature ranking\n",
    "print(\"Feature ranking:\")\n",
    "\n",
    "for f in range(X.shape[1]):\n",
    "    print(\"%d. feature %s (%f)\" % (f + 1, X.columns[indices[f]], importances[indices[f]]))\n",
    "\n",
    "# Plot the feature importances of the forest\n",
    "plt.figure()\n",
    "plt.title(\"Feature importances\")\n",
    "plt.bar(range(X.shape[1]), importances[indices],\n",
    "       color=\"r\", yerr=std[indices], align=\"center\")\n",
    "plt.xticks(range(X.shape[1]), list(map(lambda x: X.columns[x], indices)), rotation=90)\n",
    "plt.xlim([-1, X.shape[1]])\n",
    "plt.show()"
   ]
  },
  {
   "cell_type": "code",
   "execution_count": 80,
   "metadata": {},
   "outputs": [
    {
     "data": {
      "text/html": [
       "<div>\n",
       "<style scoped>\n",
       "    .dataframe tbody tr th:only-of-type {\n",
       "        vertical-align: middle;\n",
       "    }\n",
       "\n",
       "    .dataframe tbody tr th {\n",
       "        vertical-align: top;\n",
       "    }\n",
       "\n",
       "    .dataframe thead th {\n",
       "        text-align: right;\n",
       "    }\n",
       "</style>\n",
       "<table border=\"1\" class=\"dataframe\">\n",
       "  <thead>\n",
       "    <tr style=\"text-align: right;\">\n",
       "      <th></th>\n",
       "      <th>Store</th>\n",
       "      <th>DayOfWeek</th>\n",
       "      <th>Date</th>\n",
       "      <th>Sales</th>\n",
       "      <th>Customers</th>\n",
       "      <th>Open</th>\n",
       "      <th>Promo</th>\n",
       "      <th>StateHoliday</th>\n",
       "      <th>SchoolHoliday</th>\n",
       "      <th>StoreType</th>\n",
       "      <th>...</th>\n",
       "      <th>Promo2</th>\n",
       "      <th>Promo2SinceWeek</th>\n",
       "      <th>Promo2SinceYear</th>\n",
       "      <th>PromoInterval</th>\n",
       "      <th>isCompetition</th>\n",
       "      <th>isPromo2</th>\n",
       "      <th>Year</th>\n",
       "      <th>Month</th>\n",
       "      <th>Day</th>\n",
       "      <th>WeekOfYear</th>\n",
       "    </tr>\n",
       "  </thead>\n",
       "  <tbody>\n",
       "    <tr>\n",
       "      <th>0</th>\n",
       "      <td>1</td>\n",
       "      <td>5</td>\n",
       "      <td>2015-07-31</td>\n",
       "      <td>5263</td>\n",
       "      <td>555</td>\n",
       "      <td>1</td>\n",
       "      <td>1</td>\n",
       "      <td>0.000000</td>\n",
       "      <td>1</td>\n",
       "      <td>3.000000</td>\n",
       "      <td>...</td>\n",
       "      <td>0</td>\n",
       "      <td>NaN</td>\n",
       "      <td>NaN</td>\n",
       "      <td>NaN</td>\n",
       "      <td>0</td>\n",
       "      <td>0</td>\n",
       "      <td>2015</td>\n",
       "      <td>7</td>\n",
       "      <td>31</td>\n",
       "      <td>31</td>\n",
       "    </tr>\n",
       "    <tr>\n",
       "      <th>1</th>\n",
       "      <td>1</td>\n",
       "      <td>4</td>\n",
       "      <td>2015-07-30</td>\n",
       "      <td>5020</td>\n",
       "      <td>546</td>\n",
       "      <td>1</td>\n",
       "      <td>1</td>\n",
       "      <td>0.000000</td>\n",
       "      <td>1</td>\n",
       "      <td>3.000000</td>\n",
       "      <td>...</td>\n",
       "      <td>0</td>\n",
       "      <td>NaN</td>\n",
       "      <td>NaN</td>\n",
       "      <td>NaN</td>\n",
       "      <td>0</td>\n",
       "      <td>0</td>\n",
       "      <td>2015</td>\n",
       "      <td>7</td>\n",
       "      <td>30</td>\n",
       "      <td>31</td>\n",
       "    </tr>\n",
       "    <tr>\n",
       "      <th>2</th>\n",
       "      <td>1</td>\n",
       "      <td>3</td>\n",
       "      <td>2015-07-29</td>\n",
       "      <td>4782</td>\n",
       "      <td>523</td>\n",
       "      <td>1</td>\n",
       "      <td>1</td>\n",
       "      <td>0.000000</td>\n",
       "      <td>1</td>\n",
       "      <td>3.000000</td>\n",
       "      <td>...</td>\n",
       "      <td>0</td>\n",
       "      <td>NaN</td>\n",
       "      <td>NaN</td>\n",
       "      <td>NaN</td>\n",
       "      <td>0</td>\n",
       "      <td>0</td>\n",
       "      <td>2015</td>\n",
       "      <td>7</td>\n",
       "      <td>29</td>\n",
       "      <td>31</td>\n",
       "    </tr>\n",
       "    <tr>\n",
       "      <th>3</th>\n",
       "      <td>1</td>\n",
       "      <td>2</td>\n",
       "      <td>2015-07-28</td>\n",
       "      <td>5011</td>\n",
       "      <td>560</td>\n",
       "      <td>1</td>\n",
       "      <td>1</td>\n",
       "      <td>0.000000</td>\n",
       "      <td>1</td>\n",
       "      <td>3.000000</td>\n",
       "      <td>...</td>\n",
       "      <td>0</td>\n",
       "      <td>NaN</td>\n",
       "      <td>NaN</td>\n",
       "      <td>NaN</td>\n",
       "      <td>0</td>\n",
       "      <td>0</td>\n",
       "      <td>2015</td>\n",
       "      <td>7</td>\n",
       "      <td>28</td>\n",
       "      <td>31</td>\n",
       "    </tr>\n",
       "    <tr>\n",
       "      <th>4</th>\n",
       "      <td>1</td>\n",
       "      <td>1</td>\n",
       "      <td>2015-07-27</td>\n",
       "      <td>6102</td>\n",
       "      <td>612</td>\n",
       "      <td>1</td>\n",
       "      <td>1</td>\n",
       "      <td>0.000000</td>\n",
       "      <td>1</td>\n",
       "      <td>3.000000</td>\n",
       "      <td>...</td>\n",
       "      <td>0</td>\n",
       "      <td>NaN</td>\n",
       "      <td>NaN</td>\n",
       "      <td>NaN</td>\n",
       "      <td>0</td>\n",
       "      <td>0</td>\n",
       "      <td>2015</td>\n",
       "      <td>7</td>\n",
       "      <td>27</td>\n",
       "      <td>31</td>\n",
       "    </tr>\n",
       "  </tbody>\n",
       "</table>\n",
       "<p>5 rows × 24 columns</p>\n",
       "</div>"
      ],
      "text/plain": [
       "   Store DayOfWeek       Date  Sales  Customers Open Promo  StateHoliday  \\\n",
       "0      1         5 2015-07-31   5263        555    1     1      0.000000   \n",
       "1      1         4 2015-07-30   5020        546    1     1      0.000000   \n",
       "2      1         3 2015-07-29   4782        523    1     1      0.000000   \n",
       "3      1         2 2015-07-28   5011        560    1     1      0.000000   \n",
       "4      1         1 2015-07-27   6102        612    1     1      0.000000   \n",
       "\n",
       "  SchoolHoliday  StoreType    ...      Promo2  Promo2SinceWeek  \\\n",
       "0             1   3.000000    ...           0              NaN   \n",
       "1             1   3.000000    ...           0              NaN   \n",
       "2             1   3.000000    ...           0              NaN   \n",
       "3             1   3.000000    ...           0              NaN   \n",
       "4             1   3.000000    ...           0              NaN   \n",
       "\n",
       "  Promo2SinceYear PromoInterval isCompetition isPromo2  Year Month Day  \\\n",
       "0             NaN           NaN             0        0  2015     7  31   \n",
       "1             NaN           NaN             0        0  2015     7  30   \n",
       "2             NaN           NaN             0        0  2015     7  29   \n",
       "3             NaN           NaN             0        0  2015     7  28   \n",
       "4             NaN           NaN             0        0  2015     7  27   \n",
       "\n",
       "  WeekOfYear  \n",
       "0         31  \n",
       "1         31  \n",
       "2         31  \n",
       "3         31  \n",
       "4         31  \n",
       "\n",
       "[5 rows x 24 columns]"
      ]
     },
     "execution_count": 80,
     "metadata": {},
     "output_type": "execute_result"
    }
   ],
   "source": [
    "train.head()"
   ]
  },
  {
   "cell_type": "code",
   "execution_count": 159,
   "metadata": {},
   "outputs": [],
   "source": [
    "train_data = train[['Store', 'DayOfWeek', 'Promo', 'StateHoliday', 'SchoolHoliday', 'StoreType', 'Assortment', 'CompetitionDistance', 'isCompetition', 'isPromo2', 'Year', 'Month', 'Day', 'WeekOfYear']]\n",
    "train_target = train[['Sales']]\n",
    "X_train, X_test, y_train, y_test = train_test_split(train_data, train_target, test_size=0.2, random_state=0)"
   ]
  },
  {
   "cell_type": "code",
   "execution_count": null,
   "metadata": {},
   "outputs": [],
   "source": []
  },
  {
   "cell_type": "code",
   "execution_count": null,
   "metadata": {},
   "outputs": [],
   "source": []
  },
  {
   "cell_type": "code",
   "execution_count": null,
   "metadata": {},
   "outputs": [],
   "source": []
  },
  {
   "cell_type": "code",
   "execution_count": null,
   "metadata": {},
   "outputs": [],
   "source": []
  },
  {
   "cell_type": "code",
   "execution_count": null,
   "metadata": {},
   "outputs": [],
   "source": []
  },
  {
   "cell_type": "code",
   "execution_count": null,
   "metadata": {},
   "outputs": [],
   "source": []
  },
  {
   "cell_type": "code",
   "execution_count": null,
   "metadata": {},
   "outputs": [],
   "source": []
  },
  {
   "cell_type": "code",
   "execution_count": null,
   "metadata": {},
   "outputs": [],
   "source": []
  },
  {
   "cell_type": "code",
   "execution_count": null,
   "metadata": {},
   "outputs": [],
   "source": []
  },
  {
   "cell_type": "code",
   "execution_count": null,
   "metadata": {},
   "outputs": [],
   "source": []
  },
  {
   "cell_type": "code",
   "execution_count": null,
   "metadata": {},
   "outputs": [],
   "source": []
  },
  {
   "cell_type": "code",
   "execution_count": null,
   "metadata": {},
   "outputs": [],
   "source": []
  },
  {
   "cell_type": "code",
   "execution_count": null,
   "metadata": {},
   "outputs": [],
   "source": []
  },
  {
   "cell_type": "code",
   "execution_count": null,
   "metadata": {},
   "outputs": [],
   "source": []
  },
  {
   "cell_type": "code",
   "execution_count": null,
   "metadata": {},
   "outputs": [],
   "source": []
  },
  {
   "cell_type": "markdown",
   "metadata": {},
   "source": [
    "# Prediction"
   ]
  },
  {
   "cell_type": "code",
   "execution_count": 160,
   "metadata": {},
   "outputs": [],
   "source": [
    "from sklearn import linear_model\n",
    "from sklearn.pipeline import Pipeline\n",
    "from sklearn.preprocessing import PolynomialFeatures\n",
    "from sklearn.linear_model import LinearRegression"
   ]
  },
  {
   "cell_type": "code",
   "execution_count": 161,
   "metadata": {},
   "outputs": [],
   "source": [
    "def rmspe(yhat, y):\n",
    "    w = ToWeight(y)\n",
    "    rmspe = np.sqrt(np.mean( w * (y - yhat)**2 ))\n",
    "    return rmspe"
   ]
  },
  {
   "cell_type": "code",
   "execution_count": 162,
   "metadata": {},
   "outputs": [],
   "source": [
    "def ToWeight(y):\n",
    "    w = np.zeros(y.shape, dtype=float)\n",
    "    ind = y != 0\n",
    "    w[ind] = 1./(y[ind]**2)\n",
    "    return w"
   ]
  },
  {
   "cell_type": "markdown",
   "metadata": {},
   "source": [
    "## Polynomial 3 degree"
   ]
  },
  {
   "cell_type": "code",
   "execution_count": 163,
   "metadata": {},
   "outputs": [],
   "source": [
    "polynomial_features = PolynomialFeatures(degree=3,\n",
    "                                             include_bias=False)\n",
    "linear_regression = LinearRegression()\n",
    "pipeline = Pipeline([(\"polynomial_features\", polynomial_features),\n",
    "                     (\"linear_regression\", linear_regression)])\n",
    "pipeline.fit(X_train, y_train.values.ravel())\n",
    "\n",
    "y_pred = pipeline.predict(X_test)"
   ]
  },
  {
   "cell_type": "code",
   "execution_count": 119,
   "metadata": {},
   "outputs": [
    {
     "data": {
      "text/plain": [
       "0.37299802033068236"
      ]
     },
     "execution_count": 119,
     "metadata": {},
     "output_type": "execute_result"
    }
   ],
   "source": [
    "rmspe(y_test.values.ravel(), y_pred)"
   ]
  },
  {
   "cell_type": "markdown",
   "metadata": {},
   "source": [
    "## Extra Tree Regressor"
   ]
  },
  {
   "cell_type": "code",
   "execution_count": 164,
   "metadata": {},
   "outputs": [
    {
     "data": {
      "text/plain": [
       "0.19366753742544612"
      ]
     },
     "execution_count": 164,
     "metadata": {},
     "output_type": "execute_result"
    }
   ],
   "source": [
    "#from sklearn.ensemble import RandomForestClassifier\n",
    "from sklearn.ensemble import ExtraTreesRegressor\n",
    "\n",
    "forest = ExtraTreesRegressor(n_jobs = -1, n_estimators = 10)\n",
    "\n",
    "forest.fit(X_train, y_train.values.ravel())\n",
    "\n",
    "y_pred = forest.predict(X_test)\n",
    "\n",
    "rmspe(y_test.values.ravel(), y_pred)"
   ]
  },
  {
   "cell_type": "markdown",
   "metadata": {},
   "source": [
    "## Random Forest Regressor"
   ]
  },
  {
   "cell_type": "code",
   "execution_count": 165,
   "metadata": {},
   "outputs": [
    {
     "name": "stdout",
     "output_type": "stream",
     "text": [
      "model fit\n"
     ]
    },
    {
     "data": {
      "text/plain": [
       "0.13918777806213883"
      ]
     },
     "execution_count": 165,
     "metadata": {},
     "output_type": "execute_result"
    }
   ],
   "source": [
    "from sklearn.ensemble import RandomForestRegressor\n",
    "\n",
    "# Fit random forest model\n",
    "rf = RandomForestRegressor(n_jobs = -1, n_estimators = 10)\n",
    "rf.fit(X_train, y_train.values.ravel())\n",
    "print('model fit')\n",
    "\n",
    "# Make predictions\n",
    "y_pred = rf.predict(X_test)\n",
    "\n",
    "rmspe(y_test.values.ravel(), y_pred)"
   ]
  },
  {
   "cell_type": "markdown",
   "metadata": {},
   "source": [
    "## Ada Boost Regressor"
   ]
  },
  {
   "cell_type": "code",
   "execution_count": 166,
   "metadata": {},
   "outputs": [
    {
     "name": "stdout",
     "output_type": "stream",
     "text": [
      "model fit\n"
     ]
    },
    {
     "data": {
      "text/plain": [
       "0.13809381202844637"
      ]
     },
     "execution_count": 166,
     "metadata": {},
     "output_type": "execute_result"
    }
   ],
   "source": [
    "from sklearn.tree import DecisionTreeRegressor\n",
    "from sklearn.ensemble import AdaBoostRegressor\n",
    "\n",
    "# Fit random forest model\n",
    "rf = AdaBoostRegressor(DecisionTreeRegressor(),\n",
    "                          n_estimators=50)\n",
    "rf.fit(X_train, y_train.values.ravel())\n",
    "print('model fit')\n",
    "\n",
    "# Make predictions\n",
    "y_pred = rf.predict(X_test)\n",
    "\n",
    "rmspe(y_test.values.ravel(), y_pred)"
   ]
  },
  {
   "cell_type": "code",
   "execution_count": 175,
   "metadata": {},
   "outputs": [
    {
     "data": {
      "text/html": [
       "<div>\n",
       "<style scoped>\n",
       "    .dataframe tbody tr th:only-of-type {\n",
       "        vertical-align: middle;\n",
       "    }\n",
       "\n",
       "    .dataframe tbody tr th {\n",
       "        vertical-align: top;\n",
       "    }\n",
       "\n",
       "    .dataframe thead th {\n",
       "        text-align: right;\n",
       "    }\n",
       "</style>\n",
       "<table border=\"1\" class=\"dataframe\">\n",
       "  <thead>\n",
       "    <tr style=\"text-align: right;\">\n",
       "      <th></th>\n",
       "      <th>Id</th>\n",
       "      <th>Store</th>\n",
       "      <th>DayOfWeek</th>\n",
       "      <th>Date</th>\n",
       "      <th>Open</th>\n",
       "      <th>Promo</th>\n",
       "      <th>StateHoliday</th>\n",
       "      <th>SchoolHoliday</th>\n",
       "      <th>StoreType</th>\n",
       "      <th>Assortment</th>\n",
       "      <th>CompetitionDistance</th>\n",
       "      <th>CompetitionOpenSinceMonth</th>\n",
       "      <th>CompetitionOpenSinceYear</th>\n",
       "      <th>Promo2</th>\n",
       "      <th>Promo2SinceWeek</th>\n",
       "      <th>Promo2SinceYear</th>\n",
       "      <th>PromoInterval</th>\n",
       "    </tr>\n",
       "  </thead>\n",
       "  <tbody>\n",
       "    <tr>\n",
       "      <th>0</th>\n",
       "      <td>1</td>\n",
       "      <td>1</td>\n",
       "      <td>4</td>\n",
       "      <td>2015-09-17</td>\n",
       "      <td>1</td>\n",
       "      <td>1</td>\n",
       "      <td>0</td>\n",
       "      <td>0</td>\n",
       "      <td>c</td>\n",
       "      <td>a</td>\n",
       "      <td>1270.000000</td>\n",
       "      <td>9</td>\n",
       "      <td>2008</td>\n",
       "      <td>0</td>\n",
       "      <td>NaN</td>\n",
       "      <td>NaN</td>\n",
       "      <td>NaN</td>\n",
       "    </tr>\n",
       "    <tr>\n",
       "      <th>1</th>\n",
       "      <td>857</td>\n",
       "      <td>1</td>\n",
       "      <td>3</td>\n",
       "      <td>2015-09-16</td>\n",
       "      <td>1</td>\n",
       "      <td>1</td>\n",
       "      <td>0</td>\n",
       "      <td>0</td>\n",
       "      <td>c</td>\n",
       "      <td>a</td>\n",
       "      <td>1270.000000</td>\n",
       "      <td>9</td>\n",
       "      <td>2008</td>\n",
       "      <td>0</td>\n",
       "      <td>NaN</td>\n",
       "      <td>NaN</td>\n",
       "      <td>NaN</td>\n",
       "    </tr>\n",
       "    <tr>\n",
       "      <th>2</th>\n",
       "      <td>1713</td>\n",
       "      <td>1</td>\n",
       "      <td>2</td>\n",
       "      <td>2015-09-15</td>\n",
       "      <td>1</td>\n",
       "      <td>1</td>\n",
       "      <td>0</td>\n",
       "      <td>0</td>\n",
       "      <td>c</td>\n",
       "      <td>a</td>\n",
       "      <td>1270.000000</td>\n",
       "      <td>9</td>\n",
       "      <td>2008</td>\n",
       "      <td>0</td>\n",
       "      <td>NaN</td>\n",
       "      <td>NaN</td>\n",
       "      <td>NaN</td>\n",
       "    </tr>\n",
       "    <tr>\n",
       "      <th>3</th>\n",
       "      <td>2569</td>\n",
       "      <td>1</td>\n",
       "      <td>1</td>\n",
       "      <td>2015-09-14</td>\n",
       "      <td>1</td>\n",
       "      <td>1</td>\n",
       "      <td>0</td>\n",
       "      <td>0</td>\n",
       "      <td>c</td>\n",
       "      <td>a</td>\n",
       "      <td>1270.000000</td>\n",
       "      <td>9</td>\n",
       "      <td>2008</td>\n",
       "      <td>0</td>\n",
       "      <td>NaN</td>\n",
       "      <td>NaN</td>\n",
       "      <td>NaN</td>\n",
       "    </tr>\n",
       "    <tr>\n",
       "      <th>4</th>\n",
       "      <td>3425</td>\n",
       "      <td>1</td>\n",
       "      <td>7</td>\n",
       "      <td>2015-09-13</td>\n",
       "      <td>0</td>\n",
       "      <td>0</td>\n",
       "      <td>0</td>\n",
       "      <td>0</td>\n",
       "      <td>c</td>\n",
       "      <td>a</td>\n",
       "      <td>1270.000000</td>\n",
       "      <td>9</td>\n",
       "      <td>2008</td>\n",
       "      <td>0</td>\n",
       "      <td>NaN</td>\n",
       "      <td>NaN</td>\n",
       "      <td>NaN</td>\n",
       "    </tr>\n",
       "  </tbody>\n",
       "</table>\n",
       "</div>"
      ],
      "text/plain": [
       "     Id  Store DayOfWeek       Date Open Promo StateHoliday SchoolHoliday  \\\n",
       "0     1      1         4 2015-09-17    1     1            0             0   \n",
       "1   857      1         3 2015-09-16    1     1            0             0   \n",
       "2  1713      1         2 2015-09-15    1     1            0             0   \n",
       "3  2569      1         1 2015-09-14    1     1            0             0   \n",
       "4  3425      1         7 2015-09-13    0     0            0             0   \n",
       "\n",
       "  StoreType Assortment  CompetitionDistance CompetitionOpenSinceMonth  \\\n",
       "0         c          a          1270.000000                         9   \n",
       "1         c          a          1270.000000                         9   \n",
       "2         c          a          1270.000000                         9   \n",
       "3         c          a          1270.000000                         9   \n",
       "4         c          a          1270.000000                         9   \n",
       "\n",
       "  CompetitionOpenSinceYear Promo2 Promo2SinceWeek Promo2SinceYear  \\\n",
       "0                     2008      0             NaN             NaN   \n",
       "1                     2008      0             NaN             NaN   \n",
       "2                     2008      0             NaN             NaN   \n",
       "3                     2008      0             NaN             NaN   \n",
       "4                     2008      0             NaN             NaN   \n",
       "\n",
       "  PromoInterval  \n",
       "0           NaN  \n",
       "1           NaN  \n",
       "2           NaN  \n",
       "3           NaN  \n",
       "4           NaN  "
      ]
     },
     "execution_count": 175,
     "metadata": {},
     "output_type": "execute_result"
    }
   ],
   "source": [
    "test.head()"
   ]
  },
  {
   "cell_type": "markdown",
   "metadata": {},
   "source": [
    "# Predict Unseen Data"
   ]
  },
  {
   "cell_type": "code",
   "execution_count": 229,
   "metadata": {},
   "outputs": [],
   "source": [
    "test = pd.merge(test, store, on='Store')\n",
    "test.loc[test.Open.isnull(), 'Open'] = '1'"
   ]
  },
  {
   "cell_type": "code",
   "execution_count": 176,
   "metadata": {},
   "outputs": [],
   "source": [
    "# Add is Competition\n",
    "SalesAndCompetition = test[['Date','CompetitionOpenSinceYear','CompetitionOpenSinceMonth']]\n",
    "SalesAndCompetition = SalesAndCompetition.fillna({'CompetitionOpenSinceYear': '9999', 'CompetitionOpenSinceMonth': '99'})\n",
    "test['isCompetition'] = np.where((SalesAndCompetition.Date.dt.year >= SalesAndCompetition['CompetitionOpenSinceYear'].astype(int)) &\n",
    "                                                (SalesAndCompetition.Date.dt.month >= SalesAndCompetition['CompetitionOpenSinceMonth'].astype(int)), '1', '0')\n"
   ]
  },
  {
   "cell_type": "code",
   "execution_count": 177,
   "metadata": {},
   "outputs": [],
   "source": [
    "# Add is Promo2\n",
    "SalesAndPromo2 = test[['Date','Promo2','Promo2SinceWeek','Promo2SinceYear', 'PromoInterval']]\n",
    "SalesAndPromo2 = SalesAndPromo2.fillna({'Promo2SinceYear': '9999', 'Promo2SinceWeek': '99', 'PromoInterval': 'None'})\n",
    "test['isPromo2'] = np.where((SalesAndPromo2.Date.dt.year >= SalesAndPromo2['Promo2SinceYear'].astype(int)) &\n",
    "                             (SalesAndPromo2.Date.dt.week >= SalesAndPromo2['Promo2SinceWeek'].astype(int))\n",
    "                             , '1', '0')\n",
    "test['isPromo2'] = test.apply(lambda x: '1' if x.isPromo2 != '0' and calendar.month_abbr[x.Date.month] in x.PromoInterval else '0', axis=1)\n",
    "\n"
   ]
  },
  {
   "cell_type": "code",
   "execution_count": 178,
   "metadata": {},
   "outputs": [],
   "source": [
    "test['Year'] = test.Date.dt.year\n",
    "test['Month'] = test.Date.dt.month\n",
    "test['Day'] = test.Date.dt.day\n",
    "test['WeekOfYear'] = test.Date.dt.weekofyear"
   ]
  },
  {
   "cell_type": "code",
   "execution_count": 179,
   "metadata": {},
   "outputs": [],
   "source": [
    "test.loc[test['StateHoliday'] == 'a', 'StateHoliday'] = '1'\n",
    "test.loc[test['StateHoliday'] == 'b', 'StateHoliday'] = '2'\n",
    "test.loc[test['StateHoliday'] == 'c', 'StateHoliday'] = '3'\n",
    "test['StateHoliday'] = test['StateHoliday'].astype(float)"
   ]
  },
  {
   "cell_type": "code",
   "execution_count": null,
   "metadata": {},
   "outputs": [],
   "source": []
  },
  {
   "cell_type": "code",
   "execution_count": 180,
   "metadata": {},
   "outputs": [],
   "source": [
    "test.loc[test['StoreType'] == 'a', 'StoreType'] = '1'\n",
    "test.loc[test['StoreType'] == 'b', 'StoreType'] = '2'\n",
    "test.loc[test['StoreType'] == 'c', 'StoreType'] = '3'\n",
    "test.loc[test['StoreType'] == 'd', 'StoreType'] = '4'\n",
    "test['StoreType'] = test['StoreType'].astype(float)"
   ]
  },
  {
   "cell_type": "code",
   "execution_count": 181,
   "metadata": {},
   "outputs": [],
   "source": [
    "test.loc[test['Assortment'] == 'a', 'Assortment'] = '1'\n",
    "test.loc[test['Assortment'] == 'b', 'Assortment'] = '2'\n",
    "test.loc[test['Assortment'] == 'c', 'Assortment'] = '3'\n",
    "test['Assortment'] = test['Assortment'].astype(float)"
   ]
  },
  {
   "cell_type": "code",
   "execution_count": 182,
   "metadata": {},
   "outputs": [],
   "source": [
    "test.CompetitionDistance.fillna(1, inplace=True)"
   ]
  },
  {
   "cell_type": "code",
   "execution_count": 183,
   "metadata": {},
   "outputs": [],
   "source": [
    "test_data = test[['Store', 'DayOfWeek', 'Promo', 'StateHoliday', 'SchoolHoliday', 'StoreType', 'Assortment', 'CompetitionDistance', 'isCompetition', 'isPromo2', 'Year', 'Month', 'Day', 'WeekOfYear']]"
   ]
  },
  {
   "cell_type": "code",
   "execution_count": 184,
   "metadata": {},
   "outputs": [
    {
     "data": {
      "text/html": [
       "<div>\n",
       "<style scoped>\n",
       "    .dataframe tbody tr th:only-of-type {\n",
       "        vertical-align: middle;\n",
       "    }\n",
       "\n",
       "    .dataframe tbody tr th {\n",
       "        vertical-align: top;\n",
       "    }\n",
       "\n",
       "    .dataframe thead th {\n",
       "        text-align: right;\n",
       "    }\n",
       "</style>\n",
       "<table border=\"1\" class=\"dataframe\">\n",
       "  <thead>\n",
       "    <tr style=\"text-align: right;\">\n",
       "      <th></th>\n",
       "      <th>Store</th>\n",
       "      <th>DayOfWeek</th>\n",
       "      <th>Promo</th>\n",
       "      <th>StateHoliday</th>\n",
       "      <th>SchoolHoliday</th>\n",
       "      <th>StoreType</th>\n",
       "      <th>Assortment</th>\n",
       "      <th>CompetitionDistance</th>\n",
       "      <th>isCompetition</th>\n",
       "      <th>isPromo2</th>\n",
       "      <th>Year</th>\n",
       "      <th>Month</th>\n",
       "      <th>Day</th>\n",
       "      <th>WeekOfYear</th>\n",
       "    </tr>\n",
       "  </thead>\n",
       "  <tbody>\n",
       "    <tr>\n",
       "      <th>0</th>\n",
       "      <td>1</td>\n",
       "      <td>4</td>\n",
       "      <td>1</td>\n",
       "      <td>0.000000</td>\n",
       "      <td>0</td>\n",
       "      <td>3.000000</td>\n",
       "      <td>1.000000</td>\n",
       "      <td>1270.000000</td>\n",
       "      <td>1</td>\n",
       "      <td>0</td>\n",
       "      <td>2015</td>\n",
       "      <td>9</td>\n",
       "      <td>17</td>\n",
       "      <td>38</td>\n",
       "    </tr>\n",
       "    <tr>\n",
       "      <th>1</th>\n",
       "      <td>1</td>\n",
       "      <td>3</td>\n",
       "      <td>1</td>\n",
       "      <td>0.000000</td>\n",
       "      <td>0</td>\n",
       "      <td>3.000000</td>\n",
       "      <td>1.000000</td>\n",
       "      <td>1270.000000</td>\n",
       "      <td>1</td>\n",
       "      <td>0</td>\n",
       "      <td>2015</td>\n",
       "      <td>9</td>\n",
       "      <td>16</td>\n",
       "      <td>38</td>\n",
       "    </tr>\n",
       "    <tr>\n",
       "      <th>2</th>\n",
       "      <td>1</td>\n",
       "      <td>2</td>\n",
       "      <td>1</td>\n",
       "      <td>0.000000</td>\n",
       "      <td>0</td>\n",
       "      <td>3.000000</td>\n",
       "      <td>1.000000</td>\n",
       "      <td>1270.000000</td>\n",
       "      <td>1</td>\n",
       "      <td>0</td>\n",
       "      <td>2015</td>\n",
       "      <td>9</td>\n",
       "      <td>15</td>\n",
       "      <td>38</td>\n",
       "    </tr>\n",
       "    <tr>\n",
       "      <th>3</th>\n",
       "      <td>1</td>\n",
       "      <td>1</td>\n",
       "      <td>1</td>\n",
       "      <td>0.000000</td>\n",
       "      <td>0</td>\n",
       "      <td>3.000000</td>\n",
       "      <td>1.000000</td>\n",
       "      <td>1270.000000</td>\n",
       "      <td>1</td>\n",
       "      <td>0</td>\n",
       "      <td>2015</td>\n",
       "      <td>9</td>\n",
       "      <td>14</td>\n",
       "      <td>38</td>\n",
       "    </tr>\n",
       "    <tr>\n",
       "      <th>4</th>\n",
       "      <td>1</td>\n",
       "      <td>7</td>\n",
       "      <td>0</td>\n",
       "      <td>0.000000</td>\n",
       "      <td>0</td>\n",
       "      <td>3.000000</td>\n",
       "      <td>1.000000</td>\n",
       "      <td>1270.000000</td>\n",
       "      <td>1</td>\n",
       "      <td>0</td>\n",
       "      <td>2015</td>\n",
       "      <td>9</td>\n",
       "      <td>13</td>\n",
       "      <td>37</td>\n",
       "    </tr>\n",
       "  </tbody>\n",
       "</table>\n",
       "</div>"
      ],
      "text/plain": [
       "   Store DayOfWeek Promo  StateHoliday SchoolHoliday  StoreType  Assortment  \\\n",
       "0      1         4     1      0.000000             0   3.000000    1.000000   \n",
       "1      1         3     1      0.000000             0   3.000000    1.000000   \n",
       "2      1         2     1      0.000000             0   3.000000    1.000000   \n",
       "3      1         1     1      0.000000             0   3.000000    1.000000   \n",
       "4      1         7     0      0.000000             0   3.000000    1.000000   \n",
       "\n",
       "   CompetitionDistance isCompetition isPromo2  Year  Month  Day  WeekOfYear  \n",
       "0          1270.000000             1        0  2015      9   17          38  \n",
       "1          1270.000000             1        0  2015      9   16          38  \n",
       "2          1270.000000             1        0  2015      9   15          38  \n",
       "3          1270.000000             1        0  2015      9   14          38  \n",
       "4          1270.000000             1        0  2015      9   13          37  "
      ]
     },
     "execution_count": 184,
     "metadata": {},
     "output_type": "execute_result"
    }
   ],
   "source": [
    "test_data.head()"
   ]
  },
  {
   "cell_type": "code",
   "execution_count": 185,
   "metadata": {},
   "outputs": [],
   "source": [
    "test_y_pred = rf.predict(test_data)\n"
   ]
  },
  {
   "cell_type": "code",
   "execution_count": 230,
   "metadata": {},
   "outputs": [],
   "source": [
    "test['Sales'] = test_y_pred"
   ]
  },
  {
   "cell_type": "code",
   "execution_count": 193,
   "metadata": {},
   "outputs": [
    {
     "data": {
      "text/html": [
       "<div>\n",
       "<style scoped>\n",
       "    .dataframe tbody tr th:only-of-type {\n",
       "        vertical-align: middle;\n",
       "    }\n",
       "\n",
       "    .dataframe tbody tr th {\n",
       "        vertical-align: top;\n",
       "    }\n",
       "\n",
       "    .dataframe thead th {\n",
       "        text-align: right;\n",
       "    }\n",
       "</style>\n",
       "<table border=\"1\" class=\"dataframe\">\n",
       "  <thead>\n",
       "    <tr style=\"text-align: right;\">\n",
       "      <th></th>\n",
       "      <th>Store</th>\n",
       "      <th>DayOfWeek</th>\n",
       "      <th>Promo</th>\n",
       "      <th>StateHoliday</th>\n",
       "      <th>SchoolHoliday</th>\n",
       "      <th>StoreType</th>\n",
       "      <th>Assortment</th>\n",
       "      <th>CompetitionDistance</th>\n",
       "      <th>isCompetition</th>\n",
       "      <th>isPromo2</th>\n",
       "      <th>Year</th>\n",
       "      <th>Month</th>\n",
       "      <th>Day</th>\n",
       "      <th>WeekOfYear</th>\n",
       "      <th>Sales</th>\n",
       "    </tr>\n",
       "  </thead>\n",
       "  <tbody>\n",
       "    <tr>\n",
       "      <th>0</th>\n",
       "      <td>1</td>\n",
       "      <td>4</td>\n",
       "      <td>1</td>\n",
       "      <td>0.000000</td>\n",
       "      <td>0</td>\n",
       "      <td>3.000000</td>\n",
       "      <td>1.000000</td>\n",
       "      <td>1270.000000</td>\n",
       "      <td>1</td>\n",
       "      <td>0</td>\n",
       "      <td>2015</td>\n",
       "      <td>9</td>\n",
       "      <td>17</td>\n",
       "      <td>38</td>\n",
       "      <td>4383.000000</td>\n",
       "    </tr>\n",
       "    <tr>\n",
       "      <th>1</th>\n",
       "      <td>1</td>\n",
       "      <td>3</td>\n",
       "      <td>1</td>\n",
       "      <td>0.000000</td>\n",
       "      <td>0</td>\n",
       "      <td>3.000000</td>\n",
       "      <td>1.000000</td>\n",
       "      <td>1270.000000</td>\n",
       "      <td>1</td>\n",
       "      <td>0</td>\n",
       "      <td>2015</td>\n",
       "      <td>9</td>\n",
       "      <td>16</td>\n",
       "      <td>38</td>\n",
       "      <td>4427.000000</td>\n",
       "    </tr>\n",
       "    <tr>\n",
       "      <th>2</th>\n",
       "      <td>1</td>\n",
       "      <td>2</td>\n",
       "      <td>1</td>\n",
       "      <td>0.000000</td>\n",
       "      <td>0</td>\n",
       "      <td>3.000000</td>\n",
       "      <td>1.000000</td>\n",
       "      <td>1270.000000</td>\n",
       "      <td>1</td>\n",
       "      <td>0</td>\n",
       "      <td>2015</td>\n",
       "      <td>9</td>\n",
       "      <td>15</td>\n",
       "      <td>38</td>\n",
       "      <td>4806.000000</td>\n",
       "    </tr>\n",
       "    <tr>\n",
       "      <th>3</th>\n",
       "      <td>1</td>\n",
       "      <td>1</td>\n",
       "      <td>1</td>\n",
       "      <td>0.000000</td>\n",
       "      <td>0</td>\n",
       "      <td>3.000000</td>\n",
       "      <td>1.000000</td>\n",
       "      <td>1270.000000</td>\n",
       "      <td>1</td>\n",
       "      <td>0</td>\n",
       "      <td>2015</td>\n",
       "      <td>9</td>\n",
       "      <td>14</td>\n",
       "      <td>38</td>\n",
       "      <td>5402.000000</td>\n",
       "    </tr>\n",
       "    <tr>\n",
       "      <th>4</th>\n",
       "      <td>1</td>\n",
       "      <td>7</td>\n",
       "      <td>0</td>\n",
       "      <td>0.000000</td>\n",
       "      <td>0</td>\n",
       "      <td>3.000000</td>\n",
       "      <td>1.000000</td>\n",
       "      <td>1270.000000</td>\n",
       "      <td>1</td>\n",
       "      <td>0</td>\n",
       "      <td>2015</td>\n",
       "      <td>9</td>\n",
       "      <td>13</td>\n",
       "      <td>37</td>\n",
       "      <td>13183.000000</td>\n",
       "    </tr>\n",
       "    <tr>\n",
       "      <th>5</th>\n",
       "      <td>1</td>\n",
       "      <td>6</td>\n",
       "      <td>0</td>\n",
       "      <td>0.000000</td>\n",
       "      <td>0</td>\n",
       "      <td>3.000000</td>\n",
       "      <td>1.000000</td>\n",
       "      <td>1270.000000</td>\n",
       "      <td>1</td>\n",
       "      <td>0</td>\n",
       "      <td>2015</td>\n",
       "      <td>9</td>\n",
       "      <td>12</td>\n",
       "      <td>37</td>\n",
       "      <td>4270.000000</td>\n",
       "    </tr>\n",
       "    <tr>\n",
       "      <th>6</th>\n",
       "      <td>1</td>\n",
       "      <td>5</td>\n",
       "      <td>0</td>\n",
       "      <td>0.000000</td>\n",
       "      <td>0</td>\n",
       "      <td>3.000000</td>\n",
       "      <td>1.000000</td>\n",
       "      <td>1270.000000</td>\n",
       "      <td>1</td>\n",
       "      <td>0</td>\n",
       "      <td>2015</td>\n",
       "      <td>9</td>\n",
       "      <td>11</td>\n",
       "      <td>37</td>\n",
       "      <td>3808.000000</td>\n",
       "    </tr>\n",
       "    <tr>\n",
       "      <th>7</th>\n",
       "      <td>1</td>\n",
       "      <td>4</td>\n",
       "      <td>0</td>\n",
       "      <td>0.000000</td>\n",
       "      <td>0</td>\n",
       "      <td>3.000000</td>\n",
       "      <td>1.000000</td>\n",
       "      <td>1270.000000</td>\n",
       "      <td>1</td>\n",
       "      <td>0</td>\n",
       "      <td>2015</td>\n",
       "      <td>9</td>\n",
       "      <td>10</td>\n",
       "      <td>37</td>\n",
       "      <td>3518.000000</td>\n",
       "    </tr>\n",
       "    <tr>\n",
       "      <th>8</th>\n",
       "      <td>1</td>\n",
       "      <td>3</td>\n",
       "      <td>0</td>\n",
       "      <td>0.000000</td>\n",
       "      <td>0</td>\n",
       "      <td>3.000000</td>\n",
       "      <td>1.000000</td>\n",
       "      <td>1270.000000</td>\n",
       "      <td>1</td>\n",
       "      <td>0</td>\n",
       "      <td>2015</td>\n",
       "      <td>9</td>\n",
       "      <td>9</td>\n",
       "      <td>37</td>\n",
       "      <td>3558.000000</td>\n",
       "    </tr>\n",
       "    <tr>\n",
       "      <th>9</th>\n",
       "      <td>1</td>\n",
       "      <td>2</td>\n",
       "      <td>0</td>\n",
       "      <td>0.000000</td>\n",
       "      <td>0</td>\n",
       "      <td>3.000000</td>\n",
       "      <td>1.000000</td>\n",
       "      <td>1270.000000</td>\n",
       "      <td>1</td>\n",
       "      <td>0</td>\n",
       "      <td>2015</td>\n",
       "      <td>9</td>\n",
       "      <td>8</td>\n",
       "      <td>37</td>\n",
       "      <td>3650.000000</td>\n",
       "    </tr>\n",
       "    <tr>\n",
       "      <th>10</th>\n",
       "      <td>1</td>\n",
       "      <td>1</td>\n",
       "      <td>0</td>\n",
       "      <td>0.000000</td>\n",
       "      <td>0</td>\n",
       "      <td>3.000000</td>\n",
       "      <td>1.000000</td>\n",
       "      <td>1270.000000</td>\n",
       "      <td>1</td>\n",
       "      <td>0</td>\n",
       "      <td>2015</td>\n",
       "      <td>9</td>\n",
       "      <td>7</td>\n",
       "      <td>37</td>\n",
       "      <td>3676.000000</td>\n",
       "    </tr>\n",
       "    <tr>\n",
       "      <th>11</th>\n",
       "      <td>1</td>\n",
       "      <td>7</td>\n",
       "      <td>0</td>\n",
       "      <td>0.000000</td>\n",
       "      <td>0</td>\n",
       "      <td>3.000000</td>\n",
       "      <td>1.000000</td>\n",
       "      <td>1270.000000</td>\n",
       "      <td>1</td>\n",
       "      <td>0</td>\n",
       "      <td>2015</td>\n",
       "      <td>9</td>\n",
       "      <td>6</td>\n",
       "      <td>36</td>\n",
       "      <td>9289.000000</td>\n",
       "    </tr>\n",
       "    <tr>\n",
       "      <th>12</th>\n",
       "      <td>1</td>\n",
       "      <td>6</td>\n",
       "      <td>0</td>\n",
       "      <td>0.000000</td>\n",
       "      <td>0</td>\n",
       "      <td>3.000000</td>\n",
       "      <td>1.000000</td>\n",
       "      <td>1270.000000</td>\n",
       "      <td>1</td>\n",
       "      <td>0</td>\n",
       "      <td>2015</td>\n",
       "      <td>9</td>\n",
       "      <td>5</td>\n",
       "      <td>36</td>\n",
       "      <td>4797.000000</td>\n",
       "    </tr>\n",
       "    <tr>\n",
       "      <th>13</th>\n",
       "      <td>1</td>\n",
       "      <td>5</td>\n",
       "      <td>1</td>\n",
       "      <td>0.000000</td>\n",
       "      <td>1</td>\n",
       "      <td>3.000000</td>\n",
       "      <td>1.000000</td>\n",
       "      <td>1270.000000</td>\n",
       "      <td>1</td>\n",
       "      <td>0</td>\n",
       "      <td>2015</td>\n",
       "      <td>9</td>\n",
       "      <td>4</td>\n",
       "      <td>36</td>\n",
       "      <td>4665.000000</td>\n",
       "    </tr>\n",
       "  </tbody>\n",
       "</table>\n",
       "</div>"
      ],
      "text/plain": [
       "    Store DayOfWeek Promo  StateHoliday SchoolHoliday  StoreType  Assortment  \\\n",
       "0       1         4     1      0.000000             0   3.000000    1.000000   \n",
       "1       1         3     1      0.000000             0   3.000000    1.000000   \n",
       "2       1         2     1      0.000000             0   3.000000    1.000000   \n",
       "3       1         1     1      0.000000             0   3.000000    1.000000   \n",
       "4       1         7     0      0.000000             0   3.000000    1.000000   \n",
       "5       1         6     0      0.000000             0   3.000000    1.000000   \n",
       "6       1         5     0      0.000000             0   3.000000    1.000000   \n",
       "7       1         4     0      0.000000             0   3.000000    1.000000   \n",
       "8       1         3     0      0.000000             0   3.000000    1.000000   \n",
       "9       1         2     0      0.000000             0   3.000000    1.000000   \n",
       "10      1         1     0      0.000000             0   3.000000    1.000000   \n",
       "11      1         7     0      0.000000             0   3.000000    1.000000   \n",
       "12      1         6     0      0.000000             0   3.000000    1.000000   \n",
       "13      1         5     1      0.000000             1   3.000000    1.000000   \n",
       "\n",
       "    CompetitionDistance isCompetition isPromo2  Year  Month  Day  WeekOfYear  \\\n",
       "0           1270.000000             1        0  2015      9   17          38   \n",
       "1           1270.000000             1        0  2015      9   16          38   \n",
       "2           1270.000000             1        0  2015      9   15          38   \n",
       "3           1270.000000             1        0  2015      9   14          38   \n",
       "4           1270.000000             1        0  2015      9   13          37   \n",
       "5           1270.000000             1        0  2015      9   12          37   \n",
       "6           1270.000000             1        0  2015      9   11          37   \n",
       "7           1270.000000             1        0  2015      9   10          37   \n",
       "8           1270.000000             1        0  2015      9    9          37   \n",
       "9           1270.000000             1        0  2015      9    8          37   \n",
       "10          1270.000000             1        0  2015      9    7          37   \n",
       "11          1270.000000             1        0  2015      9    6          36   \n",
       "12          1270.000000             1        0  2015      9    5          36   \n",
       "13          1270.000000             1        0  2015      9    4          36   \n",
       "\n",
       "          Sales  \n",
       "0   4383.000000  \n",
       "1   4427.000000  \n",
       "2   4806.000000  \n",
       "3   5402.000000  \n",
       "4  13183.000000  \n",
       "5   4270.000000  \n",
       "6   3808.000000  \n",
       "7   3518.000000  \n",
       "8   3558.000000  \n",
       "9   3650.000000  \n",
       "10  3676.000000  \n",
       "11  9289.000000  \n",
       "12  4797.000000  \n",
       "13  4665.000000  "
      ]
     },
     "execution_count": 193,
     "metadata": {},
     "output_type": "execute_result"
    }
   ],
   "source": [
    "test_data.head(14)"
   ]
  },
  {
   "cell_type": "code",
   "execution_count": null,
   "metadata": {},
   "outputs": [],
   "source": []
  },
  {
   "cell_type": "code",
   "execution_count": null,
   "metadata": {},
   "outputs": [],
   "source": []
  },
  {
   "cell_type": "code",
   "execution_count": 247,
   "metadata": {},
   "outputs": [
    {
     "data": {
      "text/plain": [
       "48"
      ]
     },
     "execution_count": 247,
     "metadata": {},
     "output_type": "execute_result"
    }
   ],
   "source": [
    "len(test[['Date','Sales']][test['Store'] == 3])"
   ]
  },
  {
   "cell_type": "code",
   "execution_count": 248,
   "metadata": {},
   "outputs": [],
   "source": [
    "sales_store1 = train[['Date','Sales']][(train['Store'] == 3) & (train['Open'] == '1')]\n",
    "sales_store1_predict = test[['Date','Sales']][test['Store'] == 3]"
   ]
  },
  {
   "cell_type": "code",
   "execution_count": 218,
   "metadata": {},
   "outputs": [],
   "source": [
    "test = pd.concat([sales_store1, sales_store1_predict])"
   ]
  },
  {
   "cell_type": "code",
   "execution_count": 239,
   "metadata": {},
   "outputs": [
    {
     "data": {
      "text/html": [
       "<div>\n",
       "<style scoped>\n",
       "    .dataframe tbody tr th:only-of-type {\n",
       "        vertical-align: middle;\n",
       "    }\n",
       "\n",
       "    .dataframe tbody tr th {\n",
       "        vertical-align: top;\n",
       "    }\n",
       "\n",
       "    .dataframe thead th {\n",
       "        text-align: right;\n",
       "    }\n",
       "</style>\n",
       "<table border=\"1\" class=\"dataframe\">\n",
       "  <thead>\n",
       "    <tr style=\"text-align: right;\">\n",
       "      <th></th>\n",
       "      <th>Date</th>\n",
       "      <th>Sales</th>\n",
       "    </tr>\n",
       "  </thead>\n",
       "  <tbody>\n",
       "  </tbody>\n",
       "</table>\n",
       "</div>"
      ],
      "text/plain": [
       "Empty DataFrame\n",
       "Columns: [Date, Sales]\n",
       "Index: []"
      ]
     },
     "execution_count": 239,
     "metadata": {},
     "output_type": "execute_result"
    }
   ],
   "source": [
    "sales_store1_predict.head()"
   ]
  },
  {
   "cell_type": "code",
   "execution_count": 249,
   "metadata": {},
   "outputs": [
    {
     "data": {
      "image/png": "[encoded data removed]",
      "text/plain": [
       "<matplotlib.figure.Figure at 0x1890d7b3c18>"
      ]
     },
     "metadata": {},
     "output_type": "display_data"
    }
   ],
   "source": [
    "\n",
    "#filtered_store_1 = lowess(test.Sales, test.Date, is_sorted=False, frac=0.2, it=0)\n",
    "#filtered_store_1_predict = lowess(sales_store1_predict.Sales, sales_store1_predict.Date, is_sorted=False, frac=0.2, it=0)\n",
    "\n",
    "#plt.plot(pd.to_datetime(filtered_store_1[:,0]), filtered_store_1[:,1], '-r', label='Actual')\n",
    "\n",
    "#plt.plot(pd.to_datetime(filtered_store_1_predict[:,0]), filtered_store_1_predict[:,1], '--b', label='Predict')\n",
    "plt.figure(figsize=(12, 8))\n",
    "plt.plot(pd.to_datetime(sales_store1.Date), sales_store1.Sales, '-b', label='Predict')\n",
    "plt.plot(pd.to_datetime(sales_store1_predict.Date), sales_store1_predict.Sales, '--r', label='Predict')\n",
    "\n",
    "plt.ylabel('Sales')\n",
    "plt.xlabel('Date')\n",
    "plt.legend(bbox_to_anchor=(1.05, 1), loc=2, borderaxespad=0.)\n",
    "plt.xticks(rotation=90)\n",
    "plt.show()"
   ]
  },
  {
   "cell_type": "code",
   "execution_count": null,
   "metadata": {},
   "outputs": [],
   "source": []
  },
  {
   "cell_type": "code",
   "execution_count": null,
   "metadata": {},
   "outputs": [],
   "source": []
  },
  {
   "cell_type": "code",
   "execution_count": null,
   "metadata": {},
   "outputs": [],
   "source": []
  },
  {
   "cell_type": "code",
   "execution_count": null,
   "metadata": {},
   "outputs": [],
   "source": []
  }
 ],
 "metadata": {
  "kernelspec": {
   "display_name": "Python 3",
   "language": "python",
   "name": "python3"
  },
  "language_info": {
   "codemirror_mode": {
    "name": "ipython",
    "version": 3
   },
   "file_extension": ".py",
   "mimetype": "text/x-python",
   "name": "python",
   "nbconvert_exporter": "python",
   "pygments_lexer": "ipython3",
   "version": "3.6.4"
  }
 },
 "nbformat": 4,
 "nbformat_minor": 2
}
